{
 "cells": [
  {
   "cell_type": "code",
   "execution_count": 3,
   "id": "ad017a12",
   "metadata": {},
   "outputs": [],
   "source": [
    "import json\n",
    "import requests\n",
    "import pandas as pd\n",
    "from pandas import json_normalize\n",
    "\n",
    "from facebook_scraper import get_posts\n",
    "from facebook_scraper import get_profile"
   ]
  },
  {
   "cell_type": "code",
   "execution_count": 4,
   "id": "749b05e6",
   "metadata": {},
   "outputs": [
    {
     "data": {
      "text/plain": [
       "\"                          \\n'alaska.dhss', 'ancpublichealth', 'FairbanksMemorialHospital','voiceofcph', 'MatSuRegionalMedicalCenter',\\n'AlaskasNewsSource', 'alaskapublic', 'juneauempire', 'fairbanksDNM', 'frontiersman',\\n'NomeNuggetNews', 'HomerNews', 'sitkasentinel', 'ktvf.fairbanks', 'peninsulaclarion', 'KSRM920AM', 'KYUK', 'AnchorageSchoolDistrict',\\n'fsdk12', 'kpbsd', 'akmatsuk12', 'BethelSD', 'cbjuneau', 'MatSuBorough', 'COBarrow']\\n\""
      ]
     },
     "execution_count": 4,
     "metadata": {},
     "output_type": "execute_result"
    }
   ],
   "source": [
    "covid_19_facebook_groups = ['AlaskasNewsSource']\n",
    "# communitites commented out for testing purposes\n",
    "\"\"\"                          \n",
    "'alaska.dhss', 'ancpublichealth', 'FairbanksMemorialHospital','voiceofcph', 'MatSuRegionalMedicalCenter',\n",
    "'AlaskasNewsSource', 'alaskapublic', 'juneauempire', 'fairbanksDNM', 'frontiersman',\n",
    "'NomeNuggetNews', 'HomerNews', 'sitkasentinel', 'ktvf.fairbanks', 'peninsulaclarion', 'KSRM920AM', 'KYUK', 'AnchorageSchoolDistrict',\n",
    "'fsdk12', 'kpbsd', 'akmatsuk12', 'BethelSD', 'cbjuneau', 'MatSuBorough', 'COBarrow']\n",
    "\"\"\"\n",
    "# Need to grab these communities\n",
    "# KRBD FM Rainbird Community Radio, Fairbanks Borough, Kenai Peninsula Borough\n"
   ]
  },
  {
   "cell_type": "code",
   "execution_count": 5,
   "id": "047491b0",
   "metadata": {},
   "outputs": [],
   "source": [
    "fb_group_list = []\n",
    "fb_post_id_list = []\n",
    "fb_text_list = []\n",
    "fb_time_list = []\n",
    "fb_images_list = []\n",
    "fb_post_url_list = []\n",
    "fb_likes_list = []\n",
    "fb_comments_list = []\n",
    "fb_reactions_list = []\n"
   ]
  },
  {
   "cell_type": "code",
   "execution_count": 19,
   "id": "8bb172db",
   "metadata": {},
   "outputs": [
    {
     "data": {
      "application/vnd.jupyter.widget-view+json": {
       "model_id": "a0eb0ce3bb7f420bba0a2330b9fbefa5",
       "version_major": 2,
       "version_minor": 0
      },
      "text/plain": [
       "  0%|          | 0/5000 [00:00<?, ?it/s]"
      ]
     },
     "metadata": {},
     "output_type": "display_data"
    },
    {
     "data": {
      "application/vnd.jupyter.widget-view+json": {
       "model_id": "80592ec8bd3747cf9ab1245acfd477a3",
       "version_major": 2,
       "version_minor": 0
      },
      "text/plain": [
       "  0%|          | 0/5000 [00:00<?, ?it/s]"
      ]
     },
     "metadata": {},
     "output_type": "display_data"
    }
   ],
   "source": [
    "for fb_group in covid_19_facebook_groups:\n",
    "    for post in get_posts(fb_group, pages = 1, options = {'comments': True, \"allow_extra_requests\": True, \"progress\": True, \"posts_per_page\": 5}):\n",
    "        #print(post['text'])\n",
    "        fb_group_list.append(post['username']) \n",
    "        fb_post_id_list.append(post['post_id'])\n",
    "        fb_text_list.append(post['post_text'])\n",
    "        fb_time_list.append(post['time'])\n",
    "        fb_images_list.append(post['images'])\n",
    "        fb_post_url_list.append(post['post_url'])\n",
    "        fb_likes_list.append(post['likes'])\n",
    "        fb_comments_list.append(post['comments'])\n",
    "        fb_reactions_list.append(post['reactions'])\n",
    "        \n",
    "df_fb = pd.DataFrame()\n",
    "df_fb['Group_Name']  = fb_group_list\n",
    "df_fb['Post_ID'] = fb_post_id_list\n",
    "df_fb['Time'] = fb_time_list\n",
    "df_fb['Image_URL'] = fb_images_list\n",
    "df_fb['Post_URL'] = fb_post_url_list\n",
    "df_fb['Likes'] = fb_likes_list\n",
    "df_fb['Comments'] = fb_comments_list\n",
    "df_fb['Reactions'] = fb_reactions_list\n",
    "df_fb['Text'] = fb_text_list\n",
    "df = json_normalize(post)\n",
    "\n",
    "# Made this dataframe based on: https://github.com/kevinzg/facebook-scraper"
   ]
  },
  {
   "cell_type": "code",
   "execution_count": 12,
   "id": "4aef8589-967a-4eb5-953e-c3dcaa0ed548",
   "metadata": {},
   "outputs": [
    {
     "name": "stdout",
     "output_type": "stream",
     "text": [
      "LIVE: President Joe Biden is revealing details abo\n",
      "Tracy Sinclair speaks with Anchorage curler and Ol\n"
     ]
    }
   ],
   "source": [
    "for fb_group in covid_19_facebook_groups:\n",
    "    for post in get_posts(fb_group, pages = 1, options = {'comments': True, \"allow_extra_requests\": True, \"posts_per_page\": 5}):\n",
    "        print(post['text'][:50])"
   ]
  },
  {
   "cell_type": "code",
   "execution_count": 20,
   "id": "810e0a58",
   "metadata": {},
   "outputs": [],
   "source": [
    "df_fb.to_csv('fblist.csv')"
   ]
  },
  {
   "cell_type": "code",
   "execution_count": 1,
   "id": "ae84b2fa-50cd-4190-8462-eaef9164cb3d",
   "metadata": {},
   "outputs": [
    {
     "data": {
      "application/vnd.jupyter.widget-view+json": {
       "model_id": "d1101ef2252e4519ae793b846d31e2c5",
       "version_major": 2,
       "version_minor": 0
      },
      "text/plain": [
       "  0%|          | 0/5000 [00:00<?, ?it/s]"
      ]
     },
     "metadata": {},
     "output_type": "display_data"
    },
    {
     "name": "stderr",
     "output_type": "stream",
     "text": [
      "IOPub data rate exceeded.\n",
      "The Jupyter server will temporarily stop sending output\n",
      "to the client in order to avoid crashing it.\n",
      "To change this limit, set the config variable\n",
      "`--ServerApp.iopub_data_rate_limit`.\n",
      "\n",
      "Current values:\n",
      "ServerApp.iopub_data_rate_limit=1000000.0 (bytes/sec)\n",
      "ServerApp.rate_limit_window=3.0 (secs)\n",
      "\n"
     ]
    },
    {
     "data": {
      "application/vnd.jupyter.widget-view+json": {
       "model_id": "17ef508f614048fa895ab028e6ecc417",
       "version_major": 2,
       "version_minor": 0
      },
      "text/plain": [
       "  0%|          | 0/5000 [00:00<?, ?it/s]"
      ]
     },
     "metadata": {},
     "output_type": "display_data"
    },
    {
     "name": "stderr",
     "output_type": "stream",
     "text": [
      "IOPub data rate exceeded.\n",
      "The Jupyter server will temporarily stop sending output\n",
      "to the client in order to avoid crashing it.\n",
      "To change this limit, set the config variable\n",
      "`--ServerApp.iopub_data_rate_limit`.\n",
      "\n",
      "Current values:\n",
      "ServerApp.iopub_data_rate_limit=1000000.0 (bytes/sec)\n",
      "ServerApp.rate_limit_window=3.0 (secs)\n",
      "\n"
     ]
    }
   ],
   "source": [
    "# Testing collection of comments\n",
    "import datetime\n",
    "import json\n",
    "from facebook_scraper import get_posts\n",
    "def json_serial(obj):\n",
    "  if isinstance(obj, datetime.datetime):\n",
    "      serial = obj.isoformat()\n",
    "      return serial\n",
    "posts = get_posts('AlaskasNewsSource', pages = 1, options = {'comments': True, 'reactors': True, \"posts_per_page\": 10, \"progress\": True})\n",
    "for post in posts:\n",
    "    print(json.dumps(post, indent = 4, default = json_serial), \"\\n\")"
   ]
  }
 ],
 "metadata": {
  "kernelspec": {
   "display_name": "Python 3 (ipykernel)",
   "language": "python",
   "name": "python3"
  },
  "language_info": {
   "codemirror_mode": {
    "name": "ipython",
    "version": 3
   },
   "file_extension": ".py",
   "mimetype": "text/x-python",
   "name": "python",
   "nbconvert_exporter": "python",
   "pygments_lexer": "ipython3",
   "version": "3.9.7"
  }
 },
 "nbformat": 4,
 "nbformat_minor": 5
}
