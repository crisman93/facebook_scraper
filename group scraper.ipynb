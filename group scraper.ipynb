{
 "cells": [
  {
   "cell_type": "code",
   "execution_count": 1,
   "id": "7e2c753d-cca2-4f5b-94a1-059c50ef6db1",
   "metadata": {},
   "outputs": [],
   "source": [
    "from facebook_scraper import get_posts\n",
    "import json\n",
    "import pandas as pd"
   ]
  },
  {
   "cell_type": "markdown",
   "id": "8afa708a-1f1e-4986-b09a-9c7919de71bd",
   "metadata": {},
   "source": [
    "## Scrape comments"
   ]
  },
  {
   "cell_type": "code",
   "execution_count": 2,
   "id": "3dd3c1ee-a346-4c5c-9f19-c82e8e700f10",
   "metadata": {
    "tags": []
   },
   "outputs": [],
   "source": [
    "def scrape_comments(fb_group_list, pages, cookies_file, options, words_list):\n",
    "    \"\"\"\n",
    "    Made this dataframe based on: https://github.com/kevinzg/facebook-scraper\n",
    "    \n",
    "    Args:\n",
    "        fb_group_list(str, list): a list of Facebook pages to scrape, must be public\n",
    "        pages(int): number of pages to collect\n",
    "        cookies_file(str): file location of cookies data\n",
    "        options(dict): dictionary of options for collection, dictionary options can be found in the link above\n",
    "        words_list(str, list): list of words to filter posts by\n",
    "        \n",
    "    Returns:\n",
    "        DataFrame: a DataFrame containing comments and associated information from posts scraped. Posts scraped are gathered from 'fb_group_list' posts that \n",
    "                   that contain words inputted in 'words_list'\n",
    "    \"\"\"\n",
    "    # If content in the 'comment_text' column is the commenters name it is because they commented with just a picture and no text\n",
    "    post_list = []\n",
    "    df_comments = pd.DataFrame()\n",
    "    for fb_group in fb_group_list:\n",
    "        for post in get_posts(fb_group, pages = pages, cookies = cookies_file, options = options):\n",
    "            post['text'] = post['text'].split('\\n',1)[0]\n",
    "            words = words_list\n",
    "            comments_list = []\n",
    "            replies_list = []\n",
    "            \n",
    "            if any(word in post['text'] for word in words) == True:\n",
    "                print(post['text']+'\\n')\n",
    "                post_list.append(post)\n",
    "                x = 0\n",
    "                \n",
    "                while x < len(post_list):\n",
    "                    #print(post['text'])\n",
    "                    comments_list = post_list[x]['comments_full']\n",
    "                    x+=1\n",
    "                    \n",
    "                    if comments_list != []:\n",
    "                        i = 0\n",
    "                        \n",
    "                        while i < len(comments_list):\n",
    "                            comments_list[i]['comment_text'] = comments_list[i]['comment_text'].split('\\n',1)[0]\n",
    "                            replies_list = comments_list[i]['replies']\n",
    "                            i+=1\n",
    "                            \n",
    "                            if replies_list != []:\n",
    "                                z = 0\n",
    "                                \n",
    "                                while z < len(replies_list):\n",
    "                                    replies_list[z]['comment_text'] = replies_list[z]['comment_text'].split('\\n',1)[0]\n",
    "                                    z+=1\n",
    "                            \n",
    "            df_comments = df_comments.append(comments_list)\n",
    "        return df_comments"
   ]
  },
  {
   "cell_type": "code",
   "execution_count": 3,
   "id": "506e0cfe-6d0f-4855-b86d-72168ee5d89e",
   "metadata": {},
   "outputs": [],
   "source": [
    "# Initialize function parameters \n",
    "# This was edited \n",
    "all_groups = ['alaska.dhss', 'ancpublichealth', 'FairbanksMemorialHospital', 'voiceofcph', 'juneauempire', 'fairbanksDNM', 'alaskapublic',\n",
    "              'frontiersman', 'HomerNews', 'sitkasentinel', 'ktvf.fairbanks', 'peninsulaclarion', 'KSRM920AM', 'KYUK-358157087544895'\n",
    "                'NomeNuggetNews', 'KRBD-FM-Rainbird-Community-Radio-158267229179', 'thearcticsounder', 'AnchorageSchoolDistrict', 'fsdk12', 'kpbsd',\n",
    "                'akmatsuk12', 'cbjuneau', 'MatSuBorough', 'FNSBGov', 'Kenai-Peninsula-Borough-Local-News-111407724460354', 'COBarrow']\n",
    "# I couldn't find the page name for Bethel School District'\n",
    "# there were a lot of hits, but just know that it was on the list and should be included when we find it\n",
    "cookies = ('facebook.com_cookies.txt')"
   ]
  },
  {
   "cell_type": "markdown",
   "id": "833ba9b0-13cc-4c6f-ab94-2bff100765d0",
   "metadata": {},
   "source": [
    "## Scrape posts\n",
    "###"
   ]
  },
  {
   "cell_type": "markdown",
   "id": "2a1f7e1e",
   "metadata": {},
   "source": [
    "### The way I'm calling this here, I'm grabbing comments also. I have a dataframe with only URLs, but Christian's grabbing comments totally fine, so I might be unlucky, and we can all just try a notebook that assumes smooth sailing. Worst case scenario, we know that we won't have a choice and we'll need to break it up into two parts (scraping for post URLs and then scraping comments from them)"
   ]
  },
  {
   "cell_type": "code",
   "execution_count": 4,
   "id": "31867aba-4a4b-414b-a576-75e718d634a2",
   "metadata": {},
   "outputs": [],
   "source": [
    "# Only collects posts\n",
    "import time\n",
    "from datetime import datetime\n",
    "import random as rd\n",
    "import math\n",
    "\n",
    "'''\n",
    "This will take in a list of fb pages and fill in a huge dataframe with as many\n",
    "scrapped comments as it can before an error occurs. It creates backup dataframes of each group as it reaches\n",
    "the end of scrapping a page, even if the full scrape was unsuccessful.\n",
    "\n",
    "The backup dataframes are 'complete', 'concise', and 'incomplete'. Concise pkl files should be just what we need: (post_url, \n",
    "comment data) but I don't want to miss a field that happens to be important later, hence creating the 'complete' files. \n",
    "Those will have everything the concise files have, but lots of extra fields you'd have to cut off with pandas.\n",
    "It's easy to just drop what we don't need later but a huge pain to have to scrape again for something we missed, so I \n",
    "thought it was best to make records just in case.\n",
    "\n",
    "Warnings get thrown sometimes and they will clog up the output, but if a real exception occurs, the dataframe being collected\n",
    "gets stored in its partially completed state. That dataframe goes to a file that marks it as 'incomplete'. There are print\n",
    "statements for when that kind of stuff happens, because depending on how close it was, it might not be a priority to scrape the\n",
    "rest. At the very least we'll know how big a problem that page is.\n",
    "\n",
    "At the end, a message says that it's exiting and pickling all the data it could gather, so just scroll up the previous\n",
    "output and see if the last scraped post from a page was like from Oct. 2021, because then we'll know we need to revisit it. \n",
    "The returned dataframe includes everything we could get, incomplete pages and all.\n",
    "\n",
    "There's a lot here, but at it's core this is really simple. The most complicated part about it is honestly the print \n",
    "statements and the fact that I use two libaries to calculate time differences (could be cleaned up). The progress type print \n",
    "statements with time info are helpful but sometimes phrased backwards or simply wrong. \n",
    "That's cosmetic and those statements are just a quality of life thing but they should be revised- I just wanted something\n",
    "to get out to you guys, and once I was sure it worked I didn't want to stop the process to edit them again. \n",
    "The important parts seem to be working fine.\n",
    "\n",
    "Though this takes a long time to run, but because it produces dataframes while it scrapes, you will have data to work with\n",
    "as it's scraping- just open another notebook and read the newly pickled file. As it finishes pages, you can append those \n",
    "pickled files to make an even bigger dataframe, which will be useful for things like making sure the keywords we have \n",
    "actually filter and other nlp stuff.\n",
    "\n",
    "I tested this, but it takes it takes a long time to test. Suffice it to say that, to the best of\n",
    "my knowledge, this works fine, but uh, your mileage may vary. If there's something the matter with it, please say something.\n",
    "I just need to wanted to have something out so we could just start.\n",
    "'''\n",
    "\n",
    "\n",
    "\n",
    "def scrape_posts(fb_group_list, pages, cookies_file, options, post_list, only_comments):\n",
    "    start = time.time()\n",
    "    df_posts = pd.DataFrame()\n",
    "    START_DATE = datetime(2020, 3, 1) ## date we don't want to scrape past\n",
    "    now = begin = datetime.now()\n",
    "    delta = (now - START_DATE).days ## a variable needed for a print statement\n",
    "    print(\"time at beginning is: \", now.strftime(\"%H:%M:%S\"))\n",
    "    j = 0\n",
    "    for j in range(len(fb_group_list)):\n",
    "        specific_group = [] ## an empty list for each new group. Will populate a specific dataframe in case not all pages scrapped successfully\n",
    "        i = 0\n",
    "        fb_group = fb_group_list[j]\n",
    "        try:\n",
    "            for post in get_posts(fb_group, pages = pages, cookies = cookies_file, options = options):\n",
    "                time.sleep(rd.randint(3,7))\n",
    "                i +=1\n",
    "                ## condition triggered if the next scrapped post goes past our target date\n",
    "                ## this creates a full dataframe with every field, and a concise dataframe that's probably easier\n",
    "                ## to immediately read and play around with.\n",
    "                if (START_DATE - post[\"time\"]).days > 0:\n",
    "                    print(f'\\nSuccessfully scrapped comments for {fb_group}from today til start date')\n",
    "                    df = pd.DataFrame() \n",
    "                    df = df.append(specific_group) ## append only this group\n",
    "                    df.to_pickle(f\"{fb_group}_COMPLETE.pkl\")\n",
    "                    print(f\"A backup of the full dataframe produced was put in this directory with the name {fb_group}_COMPLETE.pkl\")\n",
    "                    concise = df[['post_id', 'post_url', 'time', 'comments_full']]\n",
    "                    concise.to_pickle(f\"{fb_group}_CONCISE.pkl\")\n",
    "                    print(f\"A backup concise dataframe produced was put in this directory with the name {fb_group}_CONCISE.pkl\")\n",
    "                    print('Be sure to check your directory to make sure that these pickled files exist')\n",
    "                    print('This function may not be also returns a complete dataframe at the end')\n",
    "                    now = datetime.now()\n",
    "                    print(f\"total time scrapping so far is at {now - begin}\")\n",
    "                    j += 1 ## update variable so we get the next group\n",
    "                    break ## break this for loop so we can move to the next group\n",
    "                    \n",
    "                post_list.append(post) ## as json responses are sourced, they're kept track of even when the group changes\n",
    "                specific_group.append(post) ## this keeps track of json responses per group and is reset when the group changes\n",
    "                only_comments.append(post[\"comments_full\"]) ## uncomment if comments=True\n",
    "                print('-', end='')\n",
    "                if i % 50 == 0:\n",
    "                    print() ## testing for try/except\n",
    "                    progress = datetime.now()\n",
    "                    progress = progress.strftime(\"%H:%M:%S\")\n",
    "                    print(f'post {i} collected at {progress}')\n",
    "                    print(f'post datetime at {post[\"time\"]}')\n",
    "                    end = time.time()\n",
    "                    print(f\"Getting posts {i + 1 -50 } - {i} took {(end - start)//60} minutes and {round((end - start)% 60, 2)} seconds\")\n",
    "                    print(f'{delta - (post[\"time\"] - START_DATE).days} days scraped out of {delta} days for {fb_group}')\n",
    "                if i % 500 == 0:\n",
    "                    print(f'this week in history brought to you by #{i}:')\n",
    "                    print(post['text'].split('\\n',1)[0])\n",
    "                    end = time.time()\n",
    "                    print(f\"Getting posts {i + 1 -500 } - {i} for page {fb_group} took {(end - start)//60} minutes and {round((end - start)% 60, 2)} seconds\")\n",
    "                    start = time.time()\n",
    "                    now = datetime.now()\n",
    "                    str_now = now.strftime(\"%H:%M:%S\")\n",
    "                    print(\"time now is at: \", str_now)\n",
    "                if i % 1200 == 0:\n",
    "                    print('waiting 2 minutes for safety')\n",
    "                    time.sleep(120)\n",
    "        except:\n",
    "            progress = datetime.now()\n",
    "            progress = progress.strftime(\"%H:%M:%S\")\n",
    "            print(\"error thrown at: \", progress)\n",
    "            df = pd.DataFrame()\n",
    "            df = df.append(specific_group)\n",
    "            most_recent = df['time'].iloc[-1]\n",
    "            df.to_pickle(f\"{fb_group}_INCOMPLETE.pkl\")\n",
    "            print(f'\\nError thrown while scrapping comments for {fb_group}')\n",
    "            print(f'\\nLast recieved post was {fb_group} at time {most_recent}')\n",
    "            print(f'(Depending on how far this scrape got, this might be complete enough)')\n",
    "            print(f\"A backup of the incomplete dataframe produced was put in this directory with the name {fb_group}_INCOMPLETE.pkl\")\n",
    "            print('A dataframe with all data collected will still be returned by this function.')\n",
    "            if j + 1 <= len(fb_group_list):\n",
    "                print('Waiting for 5 minutes before proceeding with the next group so Mark get\\'s busy with something else')\n",
    "                j += 1\n",
    "                time.sleep(300)\n",
    "            \n",
    "    str_now = begin.strftime(\"%m_%d\")\n",
    "    df_posts = df_posts.append(post_list) ## appending the list of every comment to a main dataframe\n",
    "    df_posts.to_pickle(f\"results_total_{str_now}.pkl\")\n",
    "    print()\n",
    "    print(f'Exiting function. A dataframe with all available comments is pickled at results_total_{str_now}.pkl')\n",
    "    print(\"while you're thinking of it, just upload that complete df to the discord or email it to yourself!\")\n",
    "    return df_posts"
   ]
  },
  {
   "cell_type": "code",
   "execution_count": 5,
   "id": "bc851994-a154-4e5a-ba5a-503577e62a9b",
   "metadata": {},
   "outputs": [],
   "source": [
    "#Initialize function parameters \n",
    "## done list AlaskasNewsSource, MatSuRegionalMedicalCenter, anchoragedailynews\n",
    "## close but no cigar alaskapublic (nov 2020)\n",
    "fb_group_list = all_groups[:7]\n",
    "cookies = ('facebook.com_cookies.txt')"
   ]
  },
  {
   "cell_type": "code",
   "execution_count": null,
   "id": "3f7e6e14-7331-4fd6-9924-33e8f35aba10",
   "metadata": {
    "scrolled": false
   },
   "outputs": [
    {
     "name": "stdout",
     "output_type": "stream",
     "text": [
      "time at beginning is:  05:41:33\n"
     ]
    },
    {
     "name": "stderr",
     "output_type": "stream",
     "text": [
      "C:\\Users\\paper\\Anaconda3\\envs\\scraper\\lib\\site-packages\\facebook_scraper\\facebook_scraper.py:817: UserWarning: Facebook says 'Unsupported Browser'\n",
      "  warnings.warn(f\"Facebook says 'Unsupported Browser'\")\n"
     ]
    },
    {
     "name": "stdout",
     "output_type": "stream",
     "text": [
      "--------------"
     ]
    },
    {
     "name": "stderr",
     "output_type": "stream",
     "text": [
      "C:\\Users\\paper\\Anaconda3\\envs\\scraper\\lib\\site-packages\\facebook_scraper\\facebook_scraper.py:813: UserWarning: Facebook served mbasic/noscript content unexpectedly on https://m.facebook.com/ufi/reaction/profile/browser/fetch/?ft_ent_identifier=313696614122601&limit=50&reaction_type=1&shown_ids=100051695529937%2C100000986883082%2C100000472378354%2C1231144132%2C1190223984%2C1147867607%2C711967748%2C616628645&total_count=9&locale=en_US\n",
      "  warnings.warn(\n"
     ]
    },
    {
     "name": "stdout",
     "output_type": "stream",
     "text": [
      "------------------------------------\n",
      "post 50 collected at 05:56:17\n",
      "post datetime at 2022-02-05 10:38:00\n",
      "Getting posts 1 - 50 took 14.0 minutes and 44.41 seconds\n",
      "19 days scraped out of 725 days for alaska.dhss\n",
      "------"
     ]
    },
    {
     "name": "stderr",
     "output_type": "stream",
     "text": [
      "C:\\Users\\paper\\Anaconda3\\envs\\scraper\\lib\\site-packages\\facebook_scraper\\facebook_scraper.py:813: UserWarning: Facebook served mbasic/noscript content unexpectedly on https://m.facebook.com/ufi/reaction/profile/browser/fetch/?ft_ent_identifier=304001078425488&limit=50&shown_ids=523230620%2C517629427%2C515788817%2C502017442%2C182000093%2C64201857%2C64101640%2C64100609%2C53900044%2C48212239%2C27212585%2C11006344%2C1575153026%2C1571647286%2C1559811762%2C1548593407%2C1539226215%2C1522221750%2C1517430865%2C1512451696%2C1496463754%2C1487491001%2C1403594389%2C1389595014%2C1356480546%2C1353249665%2C1348470658%2C1319112911%2C1291266298%2C1260848953%2C1258914799%2C1250856517%2C1234847153%2C1188853865%2C1187739732%2C1175754843%2C1171851324%2C1129830290%2C1109480668%2C1066880183%2C1062171742%2C1053798187%2C1053143859%2C1015020011%2C1008595342%2C1000148698%2C806672298%2C801838465%2C778418432%2C724861817%2C720350892%2C705569244%2C668929918%2C655475653%2C646599452%2C606274514%2C593783840%2C584509735%2C582629700%2C556690062%2C535860808%2C100075901771447%2C100071826653885%2C100058431851974%2C100052028179842%2C100045514524235%2C100036059708684%2C100016523433451%2C100014763274258%2C100013840022042%2C100013294151290%2C100011406284702%2C100009525953394%2C100008286277221%2C100007159397828%2C100006131312466%2C100005688180038%2C100005053573774%2C100004606022781%2C100004592044268%2C100004282265476%2C100003211998416%2C100002666179277%2C100002484852911%2C100001952888606%2C100000998291856%2C100000983982106%2C100000926157052%2C100000906882371%2C100000864094805%2C100000646257438%2C100000626860295%2C100000572144224%2C100000570541440%2C100000518654610%2C100000488832592%2C100000432560183%2C100000317893638%2C100000176618274%2C100000122690837%2C100000082592168%2C100000008378959%2C1844563361%2C1822957928%2C1818898408%2C1816712030%2C1814033272%2C1804416957%2C1675724837%2C1617115397%2C1577906890&total_count=112&locale=en_US\n",
      "  warnings.warn(\n"
     ]
    },
    {
     "name": "stdout",
     "output_type": "stream",
     "text": [
      "-----"
     ]
    },
    {
     "name": "stderr",
     "output_type": "stream",
     "text": [
      "C:\\Users\\paper\\Anaconda3\\envs\\scraper\\lib\\site-packages\\facebook_scraper\\facebook_scraper.py:813: UserWarning: Facebook served mbasic/noscript content unexpectedly on https://m.facebook.com/ufi/reaction/profile/browser/fetch/?ft_ent_identifier=303251568500439&limit=50&shown_ids=506420300%2C506275290%2C132400077%2C64100482%2C64100384%2C51700774%2C44901466%2C12929106%2C9330650%2C613761%2C1641630349%2C1633711099%2C1633489571%2C1631899910%2C1593322113%2C1590867599%2C1560566948%2C1539226215%2C1526383607%2C1517430865%2C1510356387%2C1505401615%2C1497856787%2C1489627081%2C1472127128%2C1415922400%2C1405173015%2C1399046865%2C1364572675%2C1356921951%2C1275166681%2C1272216755%2C1268178001%2C1258163988%2C1246273860%2C1220747792%2C1196482648%2C1188853865%2C1187767407%2C1173901321%2C1129075857%2C1125474390%2C1025364210%2C1014480127%2C1000148698%2C836955690%2C806672298%2C778418432%2C746513723%2C720350892%2C706353997%2C636755378%2C606274514%2C589655669%2C580888099%2C568317428%2C556396592%2C544335770%2C507293583%2C100075901771447%2C100073708447686%2C100057305184892%2C100051657457595%2C100026023818350%2C100025070601821%2C100016523433451%2C100014763274258%2C100013917556066%2C100013294151290%2C100011634608690%2C100010904624055%2C100010402119623%2C100009168379521%2C100008300401993%2C100008037068013%2C100006131312466%2C100006108433215%2C100005403392532%2C100004635032610%2C100004217205661%2C100003908596534%2C100003725521880%2C100003305162855%2C100003211998416%2C100002750268495%2C100002201483260%2C100002104919243%2C100001525325944%2C100001468862941%2C100001368162111%2C100001087073377%2C100000662470981%2C100000634830560%2C100000580036414%2C100000518654610%2C100000501196568%2C100000488832592%2C100000473787507%2C100000456471740%2C100000419347265%2C100000419113367%2C100000206844128%2C100000022512564%2C1825372964%2C1804840310%2C1804086847%2C1691094122%2C1652178915&total_count=109&locale=en_US\n",
      "  warnings.warn(\n"
     ]
    },
    {
     "name": "stdout",
     "output_type": "stream",
     "text": [
      "---"
     ]
    },
    {
     "name": "stderr",
     "output_type": "stream",
     "text": [
      "C:\\Users\\paper\\Anaconda3\\envs\\scraper\\lib\\site-packages\\facebook_scraper\\facebook_scraper.py:813: UserWarning: Facebook served mbasic/noscript content unexpectedly on https://m.facebook.com/ufi/reaction/profile/browser/fetch/?ft_ent_identifier=302759921882937&limit=50&shown_ids=734718918%2C705844166%2C698816768%2C697705025%2C668406064%2C665989869%2C654751878%2C647354534%2C637110861%2C630998940%2C616411471%2C614845504%2C605285572%2C604205377%2C594803639%2C584509735%2C583600410%2C582036775%2C579960008%2C564370190%2C560443385%2C548699206%2C538766421%2C535976349%2C534191405%2C529575736%2C522391534%2C513900426%2C509196822%2C146500218%2C64202691%2C64200762%2C64200640%2C64101246%2C64100790%2C64100384%2C64100197%2C38101150%2C17204079%2C13303027%2C11512760%2C9330650%2C8600337%2C1608015335%2C1602824251%2C1580684587%2C1577785869%2C1562614645%2C1560566948%2C1559811762%2C1529358017%2C1522779292%2C1522221750%2C1504841580%2C1492287581%2C1470931332%2C1466072195%2C1465561113%2C1458904297%2C1452504767%2C1445862019%2C1431026755%2C1427226068%2C1415922400%2C1415920365%2C1412033406%2C1383574336%2C1361126939%2C1322487115%2C1321838102%2C1276346799%2C1268178001%2C1263052951%2C1258914799%2C1247294044%2C1234847153%2C1190223984%2C1175754843%2C1164291337%2C1161530159%2C1127060745%2C1093946820%2C1089190865%2C1081008622%2C1050246626%2C1047550207%2C1020233324%2C871640600%2C839733797%2C806672298%2C801838465%2C100001525325944%2C100001509286435%2C100001185469320%2C100001147190259%2C100001087073377%2C100001063591579%2C100001042591078%2C100001037105726%2C100001021371036%2C100001001735211%2C100000998291856%2C100000799144276%2C100000760222526%2C100000646257438%2C100000580036414%2C100000517990671%2C100000500233218%2C100000480902692%2C100000423995975%2C100000382376671%2C100000358887996%2C100000265535474%2C100000239275894%2C100000220565458%2C100000213694115%2C100000172972596%2C100000148036244%2C100000135453235%2C100000113987170%2C100000087071837%2C100000082592168%2C100000077477838%2C100000051403182%2C100000042763557%2C100000023829345%2C100000008378959%2C1816712030%2C1815841979%2C1814033272%2C1814013219%2C1798263436%2C1698324750%2C1691094122%2C1654706556%2C1633489571%2C1633150750%2C1629288225%2C1624991814%2C1611762497%2C100076565050359%2C100075901771447%2C100070915354288%2C100063577532886%2C100058800451718%2C100058431851974%2C100053449683345%2C100041044710961%2C100026521458367%2C100025680573770%2C100025016540304%2C100024502935959%2C100024042637752%2C100023128215413%2C100023063498745%2C100019087817144%2C100014763274258%2C100013294151290%2C100012415121072%2C100012103396144%2C100011822917673%2C100011328114170%2C100010402119623%2C100009168379521%2C100008568963619%2C100008286277221%2C100008247523797%2C100008037068013%2C100007855478563%2C100007469836407%2C100006651004687%2C100006306695025%2C100004705879224%2C100004631019952%2C100004452390301%2C100004401013070%2C100004220611061%2C100003908596534%2C100003211998416%2C100003099981656%2C100002915119344%2C100002888566421%2C100002883914544%2C100002742259708%2C100002666179277%2C100002361213399%2C100002210501792%2C100002020293490%2C100001599746418&total_count=191&locale=en_US\n",
      "  warnings.warn(\n"
     ]
    },
    {
     "name": "stdout",
     "output_type": "stream",
     "text": [
      "------"
     ]
    },
    {
     "name": "stderr",
     "output_type": "stream",
     "text": [
      "C:\\Users\\paper\\Anaconda3\\envs\\scraper\\lib\\site-packages\\facebook_scraper\\facebook_scraper.py:813: UserWarning: Facebook served mbasic/noscript content unexpectedly on https://m.facebook.com/ufi/reaction/profile/browser/fetch/?ft_ent_identifier=300921715400091&limit=50&shown_ids=773022698%2C771350451%2C713348883%2C710314105%2C703859551%2C682747431%2C675360956%2C628865168%2C621028490%2C584153229%2C579960008%2C576203035%2C574844482%2C572745729%2C550525032%2C548699206%2C544335770%2C530781682%2C529575736%2C517629427%2C513768548%2C132400077%2C10713792%2C8347151%2C100000206367865%2C100000158410255%2C100000135453235%2C100000082592168%2C100000053871481%2C100000008378959%2C1752020961%2C1714561869%2C1664653478%2C1637850962%2C1633711099%2C1633489571%2C1574924025%2C1544816789%2C1539226215%2C1525261481%2C1517430865%2C1505476485%2C1499428068%2C1494080639%2C1473324029%2C1460257365%2C1452504767%2C1446699247%2C1418200193%2C1415920365%2C1402681382%2C1380886366%2C1358847455%2C1349205785%2C1348470658%2C1342813132%2C1326262942%2C1306750504%2C1247294044%2C1234931956%2C1188853865%2C1177270363%2C1066833553%2C1053798187%2C1025364210%2C1023443837%2C1005626614%2C1000148698%2C839733797%2C801838465%2C783515814%2C778418432%2C777443008%2C100076565050359%2C100075901771447%2C100052028179842%2C100041044710961%2C100027921699688%2C100027290045798%2C100026023818350%2C100024452656988%2C100014763274258%2C100011544485333%2C100011100193915%2C100010986677290%2C100010674336120%2C100009734865361%2C100009168379521%2C100007818841290%2C100006127455161%2C100006036789444%2C100005510234446%2C100004630780552%2C100003908596534%2C100003647242369%2C100003306248219%2C100003211998416%2C100002729628139%2C100002718845500%2C100002697434766%2C100002507904840%2C100002237916806%2C100002158762400%2C100001911256069%2C100001900092086%2C100001731451369%2C100001726298435%2C100001436735286%2C100001279805879%2C100000926157052%2C100000815275112%2C100000806853210%2C100000626860295%2C100000586235114%2C100000537506909%2C100000524501533%2C100000488832592%2C100000419113367%2C100000402604119%2C100000377344014%2C100000269441193%2C100000251970813%2C100000239275894&total_count=125&locale=en_US\n",
      "  warnings.warn(\n"
     ]
    },
    {
     "name": "stdout",
     "output_type": "stream",
     "text": [
      "-----"
     ]
    },
    {
     "name": "stderr",
     "output_type": "stream",
     "text": [
      "C:\\Users\\paper\\Anaconda3\\envs\\scraper\\lib\\site-packages\\facebook_scraper\\facebook_scraper.py:813: UserWarning: Facebook served mbasic/noscript content unexpectedly on https://m.facebook.com/ufi/reaction/profile/browser/fetch/?ft_ent_identifier=300884328737163&limit=50&shown_ids=551026660%2C550525032%2C549411115%2C547702711%2C545277650%2C544335770%2C542368159%2C540908244%2C535860808%2C535377283%2C529575736%2C527278645%2C524328901%2C515616913%2C514898666%2C511886862%2C500545909%2C64101246%2C52302289%2C27502180%2C13303027%2C8347151%2C719290207%2C709749618%2C709420748%2C705467992%2C704757356%2C704557934%2C703337380%2C693060294%2C689803488%2C682835797%2C671755137%2C667505751%2C655355746%2C653337998%2C648245674%2C647896594%2C647281135%2C646599452%2C646320155%2C642906138%2C638252869%2C630587690%2C628482175%2C619959331%2C619108863%2C616148860%2C613146030%2C610662567%2C607920251%2C607668600%2C605905333%2C604683768%2C604417247%2C593014451%2C592546661%2C591326401%2C590046739%2C583821225%2C583600410%2C580138660%2C579960008%2C578333508%2C577592253%2C577082764%2C566580639%2C562157570%2C556084283%2C554161987%2C552602450%2C1165239898%2C1160082309%2C1143864098%2C1133675934%2C1129342039%2C1127198892%2C1126967196%2C1118041255%2C1113079825%2C1104259814%2C1096487183%2C1093402629%2C1090332143%2C1090193624%2C1089032635%2C1086386001%2C1075490983%2C1073444182%2C1070685743%2C1064921512%2C1062171742%2C1060500078%2C1057326269%2C1056542365%2C1055496121%2C1055436906%2C1055167096%2C1047717510%2C1036415180%2C1035477359%2C1002319805%2C1000148698%2C842560186%2C839733797%2C801838465%2C792972977%2C790241483%2C789108286%2C778418432%2C777443008%2C773022698%2C772514209%2C768424073%2C756863906%2C736545490%2C723959623%2C723813542%2C721585200%2C720350892%2C1336823866%2C1335424219%2C1331959547%2C1326262942%2C1325276294%2C1324810540%2C1319224078%2C1315003765%2C1306834195%2C1305870569%2C1303717182%2C1303493537%2C1300669052%2C1295877654%2C1282543291%2C1272216755%2C1268178001%2C1260290128%2C1256269090%2C1253342652%2C1252059142%2C1247711257%2C1247294044%2C1246973697%2C1243663179%2C1241520975%2C1239544108%2C1234847153%2C1233938095%2C1229622465%2C1229418956%2C1226508656%2C1224840815%2C1220747792%2C1220041116%2C1217953600%2C1217735392%2C1216271521%2C1207453467%2C1207094896%2C1201032404%2C1195940616%2C1188853865%2C1187767407%2C1185941542%2C1184970727%2C1179628205%2C1176143191%2C1174665315%2C1520563633%2C1517367113%2C1515336391%2C1512451696%2C1507361200%2C1502185794%2C1498595068%2C1497515144%2C1495557206%2C1495217380%2C1492413528%2C1491421059%2C1485113971%2C1483341574%2C1478303951%2C1474494772%2C1473324029%2C1463524459%2C1463022338%2C1456151321%2C1454781795%2C1451443594%2C1446391256%2C1445945008%2C1439388701%2C1437255454%2C1428297693%2C1426000322%2C1418200193%2C1418083845%2C1410061662%2C1406283791%2C1405173015%2C1402681382%2C1384807051%2C1383294450%2C1380886366%2C1374457673%2C1373395641%2C1372514706%2C1367130320%2C1367098254%2C1360951884%2C1358340423%2C1356532239%2C1354166125%2C1352740023%2C1348130009%2C1348101097%2C1346675655%2C1777052036%2C1762941523%2C1762561356%2C1737828299%2C1706521431%2C1705635206%2C1691094122%2C1690584507%2C1680284654%2C1673031960%2C1661414767%2C1656516837%2C1644465249%2C1639120211%2C1638421706%2C1636703463%2C1633489571%2C1632900563%2C1627550275%2C1619350059%2C1618410678%2C1617115397%2C1617054039%2C1613540005%2C1612392457%2C1611747316%2C1606653191%2C1602657274%2C1599684594%2C1599090913%2C1596622249%2C1590777205%2C1578825120%2C1574924025%2C1571995886%2C1568092187%2C1564610664%2C1564520331%2C1563947708%2C1559888544%2C1553743294%2C1553182396%2C1552338328%2C1546442378%2C1540425345%2C1539857611%2C1539226215%2C1534425691%2C1525261481%2C1524475659%2C100000261739593%2C100000216993982%2C100000214724491%2C100000209844415%2C100000206844128%2C100000199537804%2C100000196022874%2C100000189554300%2C100000189501285%2C100000189258385%2C100000181184535%2C100000177357851%2C100000165125904%2C100000164204102%2C100000159786694%2C100000158410255%2C100000155024242%2C100000153070283%2C100000148270169%2C100000135789971%2C100000128694990%2C100000116218117%2C100000113071184%2C100000112836901%2C100000109838573%2C100000092639130%2C100000086509450%2C100000071799492%2C100000054213266%2C100000053871481%2C100000052127905%2C100000042763557%2C100000038760409%2C100000026008589%2C100000017643404%2C100000008378959%2C100000008260458%2C100000006260964%2C100000002465763%2C1843346613%2C1838308998%2C1838119427%2C1826848534%2C1825438329%2C1821429472%2C1810890569%2C1802402029%2C1799956345%2C1799378960%2C1781166109%2C100000823873133%2C100000806113400%2C100000799144276%2C100000788687016%2C100000785692223%2C100000740466721%2C100000729759711%2C100000713616209%2C100000710516244%2C100000693258433%2C100000662470981%2C100000646257438%2C100000640693986%2C100000640467452%2C100000638945291%2C100000624870550%2C100000622095093%2C100000610583318%2C100000599778286%2C100000599262148%2C100000594854262%2C100000589787135%2C100000586235114%2C100000580036414%2C100000572522657%2C100000572144224%2C100000567570906%2C100000565418760%2C100000552763953%2C100000532637017%2C100000524769172%2C100000524501533%2C100000507701510%2C100000499343016%2C100000480902692%2C100000476144274%2C100000472419029%2C100000467200050%2C100000449032720%2C100000445264107%2C100000419113367%2C100000409707623%2C100000408963329%2C100000392757559%2C100000375976978%2C100000366756404%2C100000345058932%2C100000327376914%2C100000325838386%2C100000325395822%2C100001683274565%2C100001682085623%2C100001653035011%2C100001607498148%2C100001606636253%2C100001581717222%2C100001555555725%2C100001525325944%2C100001516287596%2C100001509286435%2C100001507252092%2C100001488656805%2C100001448604949%2C100001413632730%2C100001404012871%2C100001386834380%2C100001366718012%2C100001364321600%2C100001352860974%2C100001344819079%2C100001329732731%2C100001275058032%2C100001271825606%2C100001246055843%2C100001208467137%2C100001179332689%2C100001172608721%2C100001169013780%2C100001056464284%2C100001044602590%2C100001032513074%2C100001023723126%2C100001021371036%2C100001019954482%2C100001018573248%2C100001012099614%2C100001006170724%2C100000999175797%2C100000962833547%2C100000946130617%2C100000926157052%2C100000921520835%2C100000915855478%2C100000900934258%2C100000867657712%2C100000864094805%2C100000863244649%2C100000852408360%2C100000837814060%2C100000836857478%2C100003283048939%2C100003275676849%2C100003211998416%2C100003198214981%2C100003155496632%2C100003129033566%2C100003110064478%2C100003013385052%2C100002915119344%2C100002895385019%2C100002884877597%2C100002811544690%2C100002768059445%2C100002718845500%2C100002691135381%2C100002650621605%2C100002628824347%2C100002585911563%2C100002486778925%2C100002480721255%2C100002478634232%2C100002456423701%2C100002422800034%2C100002398224642%2C100002344461810%2C100002304654513%2C100002219374841%2C100002183226745%2C100002181923475%2C100002144562713%2C100002138168566%2C100002135716339%2C100002050650693%2C100002046919588%2C100001983338841%2C100001974246906%2C100001973522493%2C100001949676544%2C100001949468941%2C100001947756584%2C100001933436029%2C100001928277639%2C100001905472492%2C100001838790537%2C100001828221225%2C100001806881634%2C100001781001848%2C100001769208791%2C100001760432176%2C100001714385290%2C100005116579486%2C100005115271121%2C100005109481948%2C100004993118730%2C100004976437757%2C100004847656132%2C100004798065003%2C100004767517625%2C100004760941464%2C100004718109331%2C100004712674847%2C100004630780552%2C100004618786063%2C100004585445902%2C100004584330016%2C100004551438248%2C100004519992064%2C100004517109945%2C100004515360830%2C100004477472663%2C100004452390301%2C100004310117743%2C100004272753677%2C100004241682060%2C100004188159059%2C100004105621997%2C100004101963591%2C100004084966221%2C100003908596534%2C100003804937551%2C100003799940700%2C100003746003857%2C100003742901321%2C100003735013323%2C100003729336764%2C100003725521880%2C100003707952499%2C100003678862956%2C100003647242369%2C100003582134220%2C100003566229855%2C100003551977599%2C100003544752462%2C100003532792534%2C100003500856951%2C100003387756606%2C100003335318390%2C100003306248219%2C100003305608201%2C100003303499559%2C100008828409822%2C100008795226183%2C100008651328531%2C100008568963619%2C100008546920414%2C100008436973488%2C100008391732803%2C100008327868144%2C100008303264750%2C100008247523797%2C100008034437168%2C100008001518385%2C100007899068112%2C100007890903005%2C100007857618965%2C100007846777570%2C100007796745593%2C100007783901345%2C100007633082701%2C100007612204574%2C100007536034608%2C100007469836407%2C100007459441528%2C100007450302255%2C100007354663449%2C100007206367304%2C100007083663864%2C100006934339126%2C100006696549021%2C100006632982840%2C100006591245767%2C100006548263365%2C100006524115078%2C100006520128324%2C100006474476244%2C100006315727199%2C100006131312466%2C100006127455161%2C100006036789444%2C100005932741308%2C100005850608520%2C100005818234825%2C100005644727180%2C100005633888850%2C100005575740586%2C100005510234446%2C100005346456959%2C100005328886312%2C100005276714731%2C100005122390822%2C100016388956124%2C100016156054988%2C100015987700330%2C100014763274258%2C100014573677873%2C100014459770041%2C100014363146076%2C100014027470056%2C100013679269500%2C100013294151290%2C100013210680486%2C100012889380306%2C100012589427818%2C100012562666985%2C100012415121072%2C100012352922645%2C100012263468246%2C100011758262618%2C100011653730152%2C100011618765953%2C100011406284702%2C100011246054799%2C100011202757649%2C100011157122734%2C100011103630253%2C100011044338040%2C100011014009129%2C100010763407020%2C100010728785434%2C100010719944815%2C100010610475125%2C100010543385941%2C100010520530951%2C100010412111006%2C100010402119623%2C100010399518564%2C100010225778422%2C100010119820851%2C100010090125732%2C100010078835333%2C100010042385861%2C100009796030469%2C100009734865361%2C100009256531825%2C100009250280911%2C100009208047893%2C100009168379521%2C100009040023107%2C100009011931547%2C100008917982745%2C100048563072690%2C100048285556285%2C100044348900094%2C100044212954895%2C100043749102569%2C100043064715812%2C100042952092488%2C100041716463663%2C100041511499450%2C100041447713295%2C100040850791536%2C100040500263038%2C100040458740904%2C100040025830903%2C100038513401649%2C100037503695168%2C100036736610952%2C100036059708684%2C100035658472541%2C100035471974312%2C100034965649782%2C100033629748479%2C100033148694781%2C100032723646018%2C100031214883046%2C100031045242946%2C100030474909906%2C100027949581108%2C100027585707046%2C100025497995244%2C100025210667313%2C100024976084524%2C100024942940527%2C100024452656988%2C100024358429698%2C100024127114397%2C100024042637752%2C100023872671541%2C100023815172210%2C100023745736881%2C100023366973535%2C100023063613165%2C100022987638668%2C100022108145626%2C100021564744282%2C100020966076028%2C100020663716469%2C100020569279255%2C100019302342204%2C100018929051466%2C269511163470665%2C105777341656191%2C100077493930143%2C100076981219501%2C100075901771447%2C100075091118696%2C100074804247389%2C100074264377005%2C100074244341954%2C100073197648631%2C100072944964088%2C100072607158241%2C100071268980398%2C100071232225978%2C100069215948489%2C100068979635372%2C100068625022690%2C100068189570144%2C100067577597394%2C100066753009634%2C100066199598269%2C100064162599738%2C100063703713823%2C100063577532886%2C100062299014335%2C100062245555073%2C100061013705312%2C100059432816288%2C100058800451718%2C100058747192299%2C100057656963993%2C100057305184892%2C100057293935419%2C100056748158759%2C100056098741369%2C100055933967397%2C100054637217679%2C100053616879861%2C100053406847163%2C100052776494456%2C100052695740518%2C100051278351417%2C100051111492021%2C100050740997311%2C100050096431369%2C100049574029152%2C100049348022447%2C100049019538594%2C100049003033070%2C100048639761816&total_count=720&locale=en_US\n",
      "  warnings.warn(\n"
     ]
    },
    {
     "name": "stdout",
     "output_type": "stream",
     "text": [
      "-------------"
     ]
    },
    {
     "name": "stderr",
     "output_type": "stream",
     "text": [
      "C:\\Users\\paper\\Anaconda3\\envs\\scraper\\lib\\site-packages\\facebook_scraper\\facebook_scraper.py:813: UserWarning: Facebook served mbasic/noscript content unexpectedly on https://m.facebook.com/ufi/reaction/profile/browser/fetch/?ft_ent_identifier=299278368897759&limit=50&shown_ids=100075901771447%2C100075779976937%2C100068442565240%2C100041044710961%2C100027921699688%2C100008155242602%2C100000488832592%2C100000216962747%2C100000112836901%2C1477114821%2C1358847455%2C1247770377%2C720298727%2C690571357&total_count=15&locale=en_US\n",
      "  warnings.warn(\n"
     ]
    },
    {
     "name": "stdout",
     "output_type": "stream",
     "text": [
      "------------\n",
      "post 100 collected at 06:14:13\n",
      "post datetime at 2022-01-22 23:44:53\n",
      "Getting posts 51 - 100 took 32.0 minutes and 40.66 seconds\n",
      "33 days scraped out of 725 days for alaska.dhss\n",
      "--"
     ]
    },
    {
     "name": "stderr",
     "output_type": "stream",
     "text": [
      "C:\\Users\\paper\\Anaconda3\\envs\\scraper\\lib\\site-packages\\facebook_scraper\\facebook_scraper.py:813: UserWarning: Facebook served mbasic/noscript content unexpectedly on https://m.facebook.com/ufi/reaction/profile/browser/fetch/?ft_ent_identifier=10159555773904929&limit=50&shown_ids=100050740997311%2C100033148694781%2C100028909097371%2C100025016540304%2C100023366973535%2C100009208047893%2C100004729054929%2C100001525325944%2C100001129354557%2C100001021371036%2C100000858998552%2C100000688947085%2C100000567679536%2C100000499343016%2C100000367661866%2C100000287605556%2C100000189112054%2C100000159786694%2C1825438329%2C1770305971%2C1692986758%2C1445945008%2C1336553729%2C1190223984%2C1084413918%2C1080601994%2C792972977%2C720350892&total_count=29&locale=en_US\n",
      "  warnings.warn(\n",
      "C:\\Users\\paper\\Anaconda3\\envs\\scraper\\lib\\site-packages\\facebook_scraper\\facebook_scraper.py:813: UserWarning: Facebook served mbasic/noscript content unexpectedly on https://m.facebook.com/ufi/reaction/profile/browser/fetch/?ft_ent_identifier=10159543712379929&limit=50&shown_ids=100033148694781%2C100029586466649%2C100020219760916%2C100006883415918%2C100005766616629%2C100001153189280%2C100000646257438%2C100000404688282%2C100000367661866%2C1561901154%2C1187872460%2C707011732%2C536295987%2C500055550&total_count=15&locale=en_US\n",
      "  warnings.warn(\n",
      "C:\\Users\\paper\\Anaconda3\\envs\\scraper\\lib\\site-packages\\facebook_scraper\\facebook_scraper.py:813: UserWarning: Facebook served mbasic/noscript content unexpectedly on https://m.facebook.com/ufi/reaction/profile/browser/fetch/?ft_ent_identifier=10159555761854929&limit=50&shown_ids=100025016540304%2C100004729054929%2C100001705025414%2C1187872460%2C1171906394%2C792972977%2C646320155&total_count=8&locale=en_US\n",
      "  warnings.warn(\n"
     ]
    },
    {
     "name": "stdout",
     "output_type": "stream",
     "text": [
      "------"
     ]
    },
    {
     "name": "stderr",
     "output_type": "stream",
     "text": [
      "C:\\Users\\paper\\Anaconda3\\envs\\scraper\\lib\\site-packages\\facebook_scraper\\facebook_scraper.py:813: UserWarning: Facebook served mbasic/noscript content unexpectedly on https://m.facebook.com/ufi/reaction/profile/browser/fetch/?ft_ent_identifier=10159539813169929&limit=50&shown_ids=538766421%2C538158335%2C532822869%2C531520579%2C529575736%2C524328901%2C513344721%2C513231330%2C508218530%2C502017442%2C182000093%2C132400077%2C64200892%2C64101640%2C40302829%2C6834702%2C1048946249%2C1042161234%2C1039653414%2C1038282204%2C1015020011%2C1008595342%2C1003185412%2C1000148698%2C857555596%2C818265404%2C809763700%2C806672298%2C782448196%2C778418432%2C773022698%2C770159364%2C752077124%2C737890440%2C705844166%2C704557934%2C697705025%2C683570138%2C665989869%2C657678767%2C655475653%2C654987631%2C646240386%2C636755378%2C610580800%2C607920251%2C596870250%2C593783840%2C593442761%2C588331841%2C584509735%2C580888099%2C577592253%2C574524531%2C574330578%2C569661996%2C569196582%2C568106802%2C566580639%2C556431001%2C553911768%2C551026660%2C547702711%2C544335770%2C541800150%2C1454781795%2C1452504767%2C1446391256%2C1430033631%2C1415922400%2C1404281220%2C1394869609%2C1394148612%2C1388741891%2C1379755854%2C1371225729%2C1365182829%2C1353249665%2C1349467813%2C1340381149%2C1339446339%2C1326262942%2C1319112911%2C1308162301%2C1306750504%2C1293502258%2C1291266298%2C1286873625%2C1278774964%2C1275745979%2C1273280102%2C1268119554%2C1261744999%2C1239068400%2C1234847153%2C1220214082%2C1215305552%2C1210314288%2C1201851941%2C1188054637%2C1184970727%2C1176143191%2C1160082309%2C1147806981%2C1135254930%2C1119593565%2C1118041255%2C1089190865%2C1084028213%2C1083162472%2C1080555092%2C1077574348%2C1062171742%2C1051290271%2C100000424357973%2C100000413614491%2C100000357337780%2C100000356571768%2C100000276058215%2C100000269441193%2C100000239275894%2C100000220565458%2C100000214724491%2C100000211595626%2C100000206367865%2C100000181184535%2C100000160055494%2C100000124652560%2C100000122690837%2C100000112180881%2C100000053871481%2C100000028590388%2C100000008378959%2C1848023591%2C1845964850%2C1844563361%2C1833549591%2C1825438329%2C1822957928%2C1800954786%2C1752020961%2C1713181835%2C1686936125%2C1675724837%2C1658210233%2C1633489571%2C1624132306%2C1617115397%2C1602657274%2C1593322113%2C1590867599%2C1590714244%2C1558430664%2C1548593407%2C1539226215%2C1516703870%2C1511684719%2C1491474938%2C1491421059%2C1470080220%2C1466599865%2C1463250888%2C1455312266%2C100004126814666%2C100004040906513%2C100003816195632%2C100003736712967%2C100003682861720%2C100003352059785%2C100003306248219%2C100003247959250%2C100003181718052%2C100003013385052%2C100002718845500%2C100002534604607%2C100002528778750%2C100002484852911%2C100002392575363%2C100002188743791%2C100001989201895%2C100001883341550%2C100001807159235%2C100001782006769%2C100001760432176%2C100001651423627%2C100001643973690%2C100001596896575%2C100001286282692%2C100001103413487%2C100001087073377%2C100001021371036%2C100001018573248%2C100001012170245%2C100001009076683%2C100000953404993%2C100000926157052%2C100000898937208%2C100000892817005%2C100000817423701%2C100000799144276%2C100000743146430%2C100000742637272%2C100000684297615%2C100000646257438%2C100000634830560%2C100000588727923%2C100000572144224%2C100000517990671%2C100000490776303%2C100000488832592%2C100000462940367%2C100000437446285%2C100075901771447%2C100073708447686%2C100071826653885%2C100069322950331%2C100068849211395%2C100066791645348%2C100061147444159%2C100058800451718%2C100055530265720%2C100052028179842%2C100042767535167%2C100040528584198%2C100038513401649%2C100033441463766%2C100026137098165%2C100025684672014%2C100024502935959%2C100023466780189%2C100015386260983%2C100014763274258%2C100014429228884%2C100013294151290%2C100012725972248%2C100012415121072%2C100011380375936%2C100010904624055%2C100010842751930%2C100010573159441%2C100010109951872%2C100009845025217%2C100009700267356%2C100009679892954%2C100009364769790%2C100009168379521%2C100009016547898%2C100007818841290%2C100007702338387%2C100007400676585%2C100006524115078%2C100006336340950%2C100006131312466%2C100005932741308%2C100005846431978%2C100005842712359%2C100005608246468%2C100005510234446%2C100005276714731%2C100004630780552%2C100004217205661&total_count=262&locale=en_US\n",
      "  warnings.warn(\n"
     ]
    },
    {
     "name": "stdout",
     "output_type": "stream",
     "text": [
      "-"
     ]
    },
    {
     "name": "stderr",
     "output_type": "stream",
     "text": [
      "C:\\Users\\paper\\Anaconda3\\envs\\scraper\\lib\\site-packages\\facebook_scraper\\facebook_scraper.py:813: UserWarning: Facebook served mbasic/noscript content unexpectedly on https://m.facebook.com/ufi/reaction/profile/browser/fetch/?ft_ent_identifier=10159538811839929&limit=50&shown_ids=646368891%2C615466764%2C610662567%2C608605808%2C597500439%2C584153229%2C582629700%2C569661996%2C569196582%2C548699206%2C548057892%2C546545411%2C182000093%2C132400077%2C64201885%2C64201857%2C64200065%2C64100609%2C31601746%2C21423592%2C16924997%2C1446391256%2C1445388692%2C1421344669%2C1417694432%2C1415922400%2C1410061662%2C1404281220%2C1393654515%2C1389595014%2C1375167460%2C1356480546%2C1351673484%2C1336435350%2C1335450471%2C1335424219%2C1319112911%2C1291266298%2C1278774964%2C1267155216%2C1261744999%2C1258914799%2C1250856517%2C1243735504%2C1205416916%2C1188853865%2C1175754843%2C1123841069%2C1116320884%2C1066880183%2C1066413268%2C1062171742%2C1053798187%2C1051010281%2C1047017552%2C1015020011%2C1014480011%2C1012694247%2C1000148698%2C727965338%2C726481981%2C726247237%2C719522154%2C708999486%2C705569244%2C701161484%2C701103836%2C682041731%2C680141074%2C675895292%2C100001279309811%2C100001226423977%2C100000983982106%2C100000911027189%2C100000907346644%2C100000864094805%2C100000719936352%2C100000715622522%2C100000646257438%2C100000643865255%2C100000626860295%2C100000620010558%2C100000605476523%2C100000570541440%2C100000568809092%2C100000488832592%2C100000433274242%2C100000419347778%2C100000314178109%2C100000238007521%2C100000211172722%2C100000148270169%2C100000113071184%2C100000106776275%2C100000065863133%2C100000031004974%2C100000008378959%2C1846097592%2C1844563361%2C1822957928%2C1809975004%2C1767275798%2C1698327394%2C1675724837%2C1651411757%2C1651152254%2C1607438599%2C1579931704%2C1578741888%2C1577906890%2C1575153026%2C1558430664%2C1551734865%2C1538861142%2C1534893048%2C1517430865%2C1472526970%2C1467444642%2C1454781795%2C1452875742%2C100075901771447%2C100075384671375%2C100071826653885%2C100066791645348%2C100064493652566%2C100052028179842%2C100025680573770%2C100025376855225%2C100020966076028%2C100015678575429%2C100014763274258%2C100013294151290%2C100010904624055%2C100010842751930%2C100010799173560%2C100009708825821%2C100009525953394%2C100008286277221%2C100007994833531%2C100007760028908%2C100007521493521%2C100007400676585%2C100007281167003%2C100006336340950%2C100006131312466%2C100006036789444%2C100005949721459%2C100005688180038%2C100005510234446%2C100005053573774%2C100004606022781%2C100004592044268%2C100004452390301%2C100003352059785%2C100003211998416%2C100002992743034%2C100002729628139%2C100002666179277%2C100002648539849%2C100002546577249%2C100002484852911%2C100002188743791%2C100002178130420%2C100002138168566%2C100002136610301%2C100002121881238%2C100001952888606%2C100001902767692%2C100001874632390%2C100001490487928&total_count=171&locale=en_US\n",
      "  warnings.warn(\n"
     ]
    },
    {
     "name": "stdout",
     "output_type": "stream",
     "text": [
      "----"
     ]
    },
    {
     "name": "stderr",
     "output_type": "stream",
     "text": [
      "C:\\Users\\paper\\Anaconda3\\envs\\scraper\\lib\\site-packages\\facebook_scraper\\facebook_scraper.py:813: UserWarning: Facebook served mbasic/noscript content unexpectedly on https://m.facebook.com/ufi/reaction/profile/browser/fetch/?ft_ent_identifier=10159536074424929&limit=50&shown_ids=675901567%2C662802962%2C655475653%2C638252869%2C613503321%2C611221897%2C606274514%2C605285572%2C598634022%2C590046739%2C582177591%2C579960008%2C568106802%2C554528753%2C535431420%2C525451025%2C517629427%2C182000093%2C132400077%2C64100773%2C48212239%2C44901466%2C8347151%2C1564233679%2C1559811762%2C1555200511%2C1542983339%2C1539226215%2C1512451696%2C1491421059%2C1469301779%2C1464608625%2C1463250888%2C1458904297%2C1448622785%2C1446391256%2C1421344669%2C1419652611%2C1410258486%2C1392596447%2C1380886366%2C1364572675%2C1363211498%2C1354204785%2C1353249665%2C1326262942%2C1321838102%2C1319112911%2C1251183277%2C1188853865%2C1176143191%2C1173258846%2C1163859161%2C1160082309%2C1123395801%2C1118041255%2C1072507972%2C1055595892%2C1039653414%2C1008595342%2C1000148698%2C791551068%2C786970143%2C778418432%2C774746807%2C770159364%2C737890440%2C729838527%2C729333967%2C714762255%2C701103836%2C696745215%2C100002367086706%2C100002237916806%2C100002168959630%2C100001603830941%2C100001468862941%2C100001431176143%2C100001292149159%2C100001080538582%2C100001055140478%2C100001030745444%2C100001023723126%2C100000926157052%2C100000870940489%2C100000799144276%2C100000730068395%2C100000646257438%2C100000620010558%2C100000574145980%2C100000572144224%2C100000513557412%2C100000511417936%2C100000501608029%2C100000488832592%2C100000433274242%2C100000331107291%2C100000275171159%2C100000239275894%2C100000214724491%2C100000206844128%2C100000175877007%2C100000135789971%2C100000113071184%2C100000112180881%2C100000078522213%2C100000053871481%2C100000052530004%2C100000022512564%2C100000018285032%2C100000008378959%2C1848023591%2C1825438329%2C1800954786%2C1764240029%2C1752020961%2C1633711099%2C1633489571%2C1624991814%2C1602757697%2C1573517170%2C106546208407172%2C100075901771447%2C100068442565240%2C100061147444159%2C100057638873130%2C100057305184892%2C100052105234051%2C100049919380537%2C100047974524205%2C100033250095463%2C100031674014301%2C100030744740756%2C100029451075083%2C100027290045798%2C100024828831126%2C100024502935959%2C100023466780189%2C100023192507007%2C100023128215413%2C100020966076028%2C100017120674944%2C100014763274258%2C100013294151290%2C100011544485333%2C100010992428905%2C100010904624055%2C100010109951872%2C100009168379521%2C100007818841290%2C100006553394969%2C100006524115078%2C100006131312466%2C100005766616629%2C100005276714731%2C100004695153844%2C100004667612089%2C100004630780552%2C100004373616942%2C100004134524991%2C100003647242369%2C100003532376213%2C100003362061011%2C100003306248219%2C100003247959250%2C100003204961413%2C100003013385052%2C100002768786228%2C100002666179277%2C100002388036058&total_count=172&locale=en_US\n",
      "  warnings.warn(\n"
     ]
    },
    {
     "name": "stdout",
     "output_type": "stream",
     "text": [
      "-"
     ]
    },
    {
     "name": "stderr",
     "output_type": "stream",
     "text": [
      "C:\\Users\\paper\\Anaconda3\\envs\\scraper\\lib\\site-packages\\facebook_scraper\\facebook_scraper.py:813: UserWarning: Facebook served mbasic/noscript content unexpectedly on https://m.facebook.com/ufi/reaction/profile/browser/fetch/?ft_ent_identifier=10159525715804929&limit=50&shown_ids=613761%2C590046739%2C584219692%2C583600410%2C574844482%2C574435661%2C569196582%2C569185759%2C566525943%2C563374318%2C562667287%2C562157570%2C561502533%2C558548345%2C553461182%2C550250842%2C546786651%2C546281561%2C544335770%2C535860808%2C535205729%2C529575736%2C529530674%2C528745051%2C527310926%2C527278645%2C524120351%2C524109622%2C515999843%2C512695188%2C512582461%2C511886862%2C510519301%2C505599839%2C503902145%2C501917892%2C500498158%2C500055550%2C182000387%2C182000093%2C132400077%2C80500304%2C64100007%2C57700720%2C48212239%2C25914829%2C6901633%2C1010592%2C1015020079%2C1015020011%2C1011753839%2C1001802009%2C1000148698%2C810157578%2C795065563%2C792972977%2C789108286%2C788944189%2C788640643%2C764040969%2C753528660%2C741871293%2C740464161%2C736545490%2C729884575%2C725952186%2C721585200%2C709749618%2C704557934%2C702697920%2C702340356%2C701391687%2C692486733%2C688627377%2C685525458%2C682835797%2C677757960%2C675901567%2C667355063%2C657341980%2C647281135%2C646320155%2C616508380%2C616495730%2C616148860%2C613146030%2C611364715%2C609808558%2C608921347%2C606274514%2C595434101%2C595297767%2C594114901%2C591034433%2C590086423%2C1193470015%2C1188054637%2C1187887955%2C1185941542%2C1176143191%2C1174537207%2C1166924046%2C1166349005%2C1164291337%2C1163859161%2C1160442395%2C1160082309%2C1159042987%2C1158660822%2C1152117701%2C1151731461%2C1151122618%2C1149888695%2C1138356240%2C1135145010%2C1134043342%2C1133675934%2C1132864142%2C1132021127%2C1127198892%2C1126076309%2C1115095941%2C1107412280%2C1107399198%2C1093946820%2C1091769629%2C1090332143%2C1075347205%2C1074453876%2C1073397080%2C1070645778%2C1056839148%2C1055436906%2C1054165475%2C1047717510%2C1045216660%2C1039653414%2C1029522326%2C1028230150%2C1023798499%2C1020375432%2C1020233324%2C1390942784%2C1389278311%2C1388572641%2C1384807051%2C1379755854%2C1366740488%2C1354166125%2C1353249665%2C1349534320%2C1349283915%2C1348002418%2C1347515592%2C1340391652%2C1339870676%2C1336553729%2C1335450471%2C1332881708%2C1331848856%2C1330137384%2C1328816634%2C1325607531%2C1319535459%2C1319112911%2C1317144946%2C1316847711%2C1303493537%2C1299687822%2C1299394347%2C1295877654%2C1289171783%2C1282543291%2C1282280134%2C1276530857%2C1272216755%2C1261744999%2C1261407743%2C1252059142%2C1243735504%2C1239544108%2C1239068400%2C1235582129%2C1234931956%2C1234847153%2C1233938095%2C1216271521%2C1211436364%2C1203162884%2C1195940616%2C1542241941%2C1540677276%2C1539857611%2C1539226215%2C1538850439%2C1524475659%2C1517367113%2C1517311484%2C1512451696%2C1508812710%2C1499708424%2C1498990913%2C1497515144%2C1488514589%2C1483947395%2C1483341574%2C1478303951%2C1474964592%2C1465512184%2C1463250888%2C1462374925%2C1459461109%2C1458904297%2C1455312266%2C1454443284%2C1454090634%2C1452875742%2C1451443594%2C1448680579%2C1447923700%2C1435569419%2C1435543417%2C1432813631%2C1421891767%2C1421344669%2C1418200193%2C1418083845%2C1415922400%2C1415920365%2C1413872946%2C1412868459%2C1412033406%2C1405381605%2C1405173015%2C1403703718%2C1398562661%2C1398397056%2C1392840146%2C100000042763557%2C100000033524547%2C100000008494462%2C100000008378959%2C1847716010%2C1844563361%2C1827311777%2C1825438329%2C1814033272%2C1811753782%2C1805104885%2C1803281541%2C1799378960%2C1792120614%2C1772402283%2C1770305971%2C1769387700%2C1742075442%2C1735527631%2C1727400586%2C1717080732%2C1706521431%2C1681413190%2C1680284654%2C1678557271%2C1673031960%2C1671197268%2C1660502540%2C1659005979%2C1651821182%2C1644870475%2C1636830134%2C1633489571%2C1629937855%2C1628483580%2C1619350059%2C1610365987%2C1604573210%2C1602675405%2C1578825120%2C1570271801%2C1569935087%2C1569905374%2C1561976482%2C1561901154%2C1559811762%2C1549725465%2C1546442378%2C100000505571451%2C100000499343016%2C100000491407924%2C100000488832592%2C100000464403129%2C100000449032720%2C100000433274242%2C100000430666468%2C100000420908927%2C100000410663760%2C100000392757559%2C100000375854793%2C100000368961836%2C100000361928719%2C100000348878009%2C100000345058932%2C100000313023434%2C100000293030626%2C100000278439470%2C100000275171159%2C100000259694332%2C100000233963835%2C100000231124420%2C100000224890866%2C100000220484716%2C100000207020191%2C100000205042834%2C100000181184535%2C100000179533792%2C100000178907827%2C100000176618274%2C100000175877007%2C100000175132176%2C100000162394732%2C100000160055494%2C100000157840496%2C100000155024242%2C100000148270169%2C100000143723549%2C100000135789971%2C100000129872443%2C100000128694990%2C100000115778675%2C100000113071184%2C100000098971356%2C100000059862207%2C100000052774238%2C100000044471856%2C100001046961403%2C100001031164722%2C100001023723126%2C100001012099614%2C100001006521376%2C100000972845494%2C100000927686601%2C100000926157052%2C100000925574310%2C100000921520835%2C100000892284697%2C100000863355384%2C100000863244649%2C100000846868306%2C100000823017139%2C100000817414124%2C100000799144276%2C100000788687016%2C100000785692223%2C100000778220956%2C100000768689239%2C100000746963582%2C100000740412432%2C100000733395155%2C100000713616209%2C100000693623994%2C100000685645047%2C100000682505004%2C100000668181224%2C100000666546370%2C100000662470981%2C100000657295500%2C100000646257438%2C100000640693986%2C100000638945291%2C100000626171424%2C100000624870550%2C100000618904946%2C100000609387587%2C100000589029024%2C100000580036414%2C100000570541440%2C100000565418760%2C100000561731971%2C100000556489164%2C100000541273325%2C100000526730921%2C100000518096531%2C100002486778925%2C100002480721255%2C100002478634232%2C100002388036058%2C100002259177884%2C100002238113899%2C100002235488726%2C100002224187582%2C100002219374841%2C100002183226745%2C100002181923475%2C100002144562713%2C100002134371627%2C100002131481563%2C100002077217951%2C100002050650693%2C100001942565406%2C100001933436029%2C100001875561006%2C100001838790537%2C100001833545067%2C100001801048010%2C100001793290483%2C100001779053542%2C100001607498148%2C100001581717222%2C100001578503100%2C100001525185238%2C100001468862941%2C100001459098284%2C100001435005713%2C100001404012871%2C100001279309811%2C100001260914178%2C100001249644077%2C100001246055843%2C100001238795903%2C100001237020364%2C100001182942614%2C100001179784562%2C100001169013780%2C100001167363656%2C100001149709296%2C100001116701554%2C100001090216320%2C100001087073377%2C100001081406428%2C100001047082991%2C100005000075227%2C100004958881365%2C100004911156125%2C100004760941464%2C100004681751053%2C100004544040880%2C100004519992064%2C100004515360830%2C100004498742102%2C100004452390301%2C100004400715367%2C100004336662048%2C100004242424667%2C100004176516198%2C100004084966221%2C100004021700452%2C100003991105281%2C100003977564767%2C100003838504443%2C100003811646357%2C100003804937551%2C100003804203439%2C100003791486868%2C100003746003857%2C100003707952499%2C100003695495537%2C100003619225609%2C100003601671754%2C100003566229855%2C100003555889644%2C100003551977599%2C100003330597235%2C100003306248219%2C100003205598212%2C100003192129883%2C100003152741385%2C100003088701656%2C100003013385052%2C100002990121421%2C100002977585779%2C100002915119344%2C100002869288735%2C100002811544690%2C100002781413750%2C100002769938833%2C100002759755243%2C100002737993405%2C100002589234077%2C100009208431942%2C100009052461168%2C100009040023107%2C100008837239382%2C100008828409822%2C100008758543586%2C100008651328531%2C100008332689303%2C100008207972847%2C100008009291077%2C100007988408520%2C100007982070304%2C100007904431346%2C100007851672575%2C100007818841290%2C100007783901345%2C100007751883946%2C100007751615825%2C100007642300316%2C100007639561992%2C100007633082701%2C100007571898328%2C100007459441528%2C100007354663449%2C100007257318760%2C100007206367304%2C100007174473744%2C100007157160543%2C100006806703653%2C100006696549021%2C100006556052629%2C100006524115078%2C100006429297532%2C100006336340950%2C100006315727199%2C100006303312929%2C100006269176128%2C100006132639044%2C100006131312466%2C100006004867985%2C100005934192670%2C100005870673000%2C100005644727180%2C100005538671161%2C100005510234446%2C100005389994121%2C100005328886312%2C100005129130243%2C100005116579486%2C100022829778026%2C100022541940150%2C100022536131953%2C100021953628915%2C100021854235973%2C100021700985030%2C100020966076028%2C100020219760916%2C100019573441381%2C100017805918714%2C100017495341573%2C100017443175801%2C100017304660323%2C100016614604905%2C100016388956124%2C100016005153703%2C100015276315842%2C100015044651956%2C100015009853383%2C100014807479462%2C100014459770041%2C100014272626096%2C100014150808852%2C100014122212712%2C100013495278529%2C100013294151290%2C100013210680486%2C100013086404592%2C100012834753232%2C100012385427829%2C100012118189125%2C100011902667262%2C100011749145510%2C100011410098822%2C100011406284702%2C100011245953889%2C100010914673830%2C100010904624055%2C100010823743574%2C100010750471604%2C100010613262164%2C100010543385941%2C100010502462092%2C100010185616125%2C100010090125732%2C100010078835333%2C100009447744404%2C100009436544962%2C100009256531825%2C100049003033070%2C100048563072690%2C100048169320210%2C100046494150526%2C100046123095386%2C100046100057974%2C100045893362095%2C100044895222003%2C100044834214032%2C100044810913574%2C100044424714050%2C100044386994657%2C100043148673124%2C100042806312991%2C100042692832268%2C100041664876548%2C100041355306523%2C100040528332106%2C100040025830903%2C100036736610952%2C100035962208500%2C100035403637680%2C100035064375782%2C100034852930536%2C100033148694781%2C100031752457107%2C100031214883046%2C100031064228393%2C100031045242946%2C100030474909906%2C100029355503850%2C100027825610712%2C100027640950842%2C100027585707046%2C100026521458367%2C100026323580916%2C100025579186569%2C100025384902768%2C100025316175013%2C100025012639827%2C100024942940527%2C100024308804850%2C100023816873962%2C100023466780189%2C100023366973535%2C100023281788461%2C100023252764761%2C100023128215413%2C100023063613165%2C100180098011463%2C100075901771447%2C100075201948974%2C100074837314286%2C100074804247389%2C100074230353090%2C100073197648631%2C100072917719684%2C100070704761083%2C100070696914121%2C100070071098705%2C100069736442520%2C100069322950331%2C100069054195903%2C100068801903647%2C100068625022690%2C100068189570144%2C100067577597394%2C100067391646057%2C100066791645348%2C100065367769476%2C100064995169388%2C100064470632678%2C100063489232596%2C100063440236753%2C100062670044898%2C100062245555073%2C100061481120041%2C100061013705312%2C100059432816288%2C100058800451718%2C100058431851974%2C100057305184892%2C100057293935419%2C100057139654961%2C100056724562691%2C100056098741369%2C100055773639410%2C100055696459183%2C100054778791525%2C100054637217679%2C100051278351417%2C100051111492021%2C100050740997311%2C100050195461270%2C100050096431369%2C100049919380537%2C100049749571533%2C100049498282892&total_count=677&locale=en_US\n",
      "  warnings.warn(\n"
     ]
    },
    {
     "name": "stderr",
     "output_type": "stream",
     "text": [
      "C:\\Users\\paper\\Anaconda3\\envs\\scraper\\lib\\site-packages\\facebook_scraper\\facebook_scraper.py:813: UserWarning: Facebook served mbasic/noscript content unexpectedly on https://m.facebook.com/ufi/reaction/profile/browser/fetch/?ft_ent_identifier=10159546744049929&limit=50&shown_ids=100040849480523%2C100033148694781%2C100003713806962%2C100002144374031%2C100001260914178%2C100000927686601%2C100000417030351%2C1028230150%2C565788317&total_count=10&locale=en_US\n",
      "  warnings.warn(\n",
      "C:\\Users\\paper\\Anaconda3\\envs\\scraper\\lib\\site-packages\\facebook_scraper\\facebook_scraper.py:813: UserWarning: Facebook served mbasic/noscript content unexpectedly on https://m.facebook.com/ufi/reaction/profile/browser/fetch/?ft_ent_identifier=10159545861404929&limit=50&shown_ids=100046494150526%2C100033148694781%2C100012909734571%2C100007982070304%2C100001833545067%2C100001260914178%2C100000593443944%2C100000032276192%2C1792120614%2C1190223984%2C1152117701%2C1116810407%2C1074453876%2C1028230150%2C573649975&total_count=16&locale=en_US\n",
      "  warnings.warn(\n",
      "C:\\Users\\paper\\Anaconda3\\envs\\scraper\\lib\\site-packages\\facebook_scraper\\facebook_scraper.py:813: UserWarning: Facebook served mbasic/noscript content unexpectedly on https://m.facebook.com/ufi/reaction/profile/browser/fetch/?ft_ent_identifier=10159543880569929&limit=50&shown_ids=100042806312991%2C100033148694781%2C100007982070304%2C100006429297532%2C100005062654486%2C100004911156125%2C100001833545067%2C100001260914178%2C100000927686601%2C100000746963582%2C100000565418760%2C100000464403129%2C100000207815681%2C100000157341520%2C1628483580%2C1245121271%2C1241510297%2C1152117701%2C1028230150%2C655941713%2C606274514%2C512695188%2C48212239&total_count=24&locale=en_US\n",
      "  warnings.warn(\n",
      "C:\\Users\\paper\\Anaconda3\\envs\\scraper\\lib\\site-packages\\facebook_scraper\\facebook_scraper.py:813: UserWarning: Facebook served mbasic/noscript content unexpectedly on https://m.facebook.com/ufi/reaction/profile/browser/fetch/?ft_ent_identifier=10159546780524929&limit=50&shown_ids=100063489232596%2C100026521458367%2C100002144374031%2C100001260914178%2C100000927686601%2C100000700111194%2C1609374886%2C48212239&total_count=9&locale=en_US\n",
      "  warnings.warn(\n",
      "C:\\Users\\paper\\Anaconda3\\envs\\scraper\\lib\\site-packages\\facebook_scraper\\facebook_scraper.py:813: UserWarning: Facebook served mbasic/noscript content unexpectedly on https://m.facebook.com/ufi/reaction/profile/browser/fetch/?ft_ent_identifier=10159546944139929&limit=50&shown_ids=100033148694781%2C100027949581108%2C100012909734571%2C100010259315848%2C100007982070304%2C100005538671161%2C100001260914178%2C100000927686601%2C100000668181224%2C100000344379840%2C100000199537804%2C1811753782%2C1561457081%2C1420190666%2C1347515592%2C1190223984%2C1152117701%2C512695188&total_count=19&locale=en_US\n",
      "  warnings.warn(\n",
      "C:\\Users\\paper\\Anaconda3\\envs\\scraper\\lib\\site-packages\\facebook_scraper\\facebook_scraper.py:813: UserWarning: Facebook served mbasic/noscript content unexpectedly on https://m.facebook.com/ufi/reaction/profile/browser/fetch/?ft_ent_identifier=10159548024374929&limit=50&shown_ids=100033148694781%2C100001260914178%2C1190223984&total_count=4&locale=en_US\n",
      "  warnings.warn(\n"
     ]
    },
    {
     "name": "stdout",
     "output_type": "stream",
     "text": [
      "-----"
     ]
    },
    {
     "name": "stderr",
     "output_type": "stream",
     "text": [
      "C:\\Users\\paper\\Anaconda3\\envs\\scraper\\lib\\site-packages\\facebook_scraper\\facebook_scraper.py:813: UserWarning: Facebook served mbasic/noscript content unexpectedly on https://m.facebook.com/ufi/reaction/profile/browser/fetch/?ft_ent_identifier=10159533683734929&limit=50&shown_ids=1268119554%2C1250856517%2C1225178597%2C1215941292%2C1195965807%2C1187449495%2C1164774992%2C1160082309%2C1154587581%2C1143610316%2C1142906591%2C1118041255%2C1107766026%2C1060832640%2C1030683107%2C1015020011%2C1008595342%2C831151165%2C810157578%2C806672298%2C802110600%2C772616977%2C721759456%2C720361687%2C704346745%2C677570111%2C613503321%2C608921347%2C605899064%2C596036076%2C584509735%2C577592253%2C569687025%2C559230460%2C549411115%2C538766421%2C529575736%2C48212239%2C100000715622522%2C100000646257438%2C100000643865255%2C100000500830721%2C100000433274242%2C100000347468049%2C100000275171159%2C100000239275894%2C100000207815681%2C100000206844128%2C100000181184535%2C100000176618274%2C100000167307044%2C100000160055494%2C100000153613896%2C100000122690837%2C100000106625744%2C100000088512205%2C100000087759915%2C100000053871481%2C100000022512564%2C1825438329%2C1822957928%2C1818898408%2C1808120577%2C1785126476%2C1783516244%2C1684380781%2C1683150050%2C1673031960%2C1658210233%2C1559811762%2C1512451696%2C1491421059%2C1490845720%2C1458904297%2C1455312266%2C1454090634%2C1446391256%2C1415922400%2C1413039506%2C1395882196%2C1358847455%2C1348470658%2C1339446339%2C1338665834%2C1334042310%2C1324532648%2C1319112911%2C1278774964%2C100075901771447%2C100068849211395%2C100068625022690%2C100066791645348%2C100063703713823%2C100053177625057%2C100051706892211%2C100049919380537%2C100047974524205%2C100047161282755%2C100046150066707%2C100042512897718%2C100041369644796%2C100040528584198%2C100034640801927%2C100029475042613%2C100027921699688%2C100026023818350%2C100024944044576%2C100014763274258%2C100013294151290%2C100012106327176%2C100011544485333%2C100009708825821%2C100008037068013%2C100007760028908%2C100006484977802%2C100006336340950%2C100006131312466%2C100005510234446%2C100005276714731%2C100004857841867%2C100004822504332%2C100004630780552%2C100004242424667%2C100004087656894%2C100003211998416%2C100002666179277%2C100002651622242%2C100002428664984%2C100002216828249%2C100001974456522%2C100001679280733%2C100001599746418%2C100001295492662%2C100001021371036%2C100001001967039%2C100000933264611%2C100000898937208%2C100000760222526&total_count=139&locale=en_US\n",
      "  warnings.warn(\n"
     ]
    },
    {
     "name": "stdout",
     "output_type": "stream",
     "text": [
      "-------"
     ]
    },
    {
     "name": "stderr",
     "output_type": "stream",
     "text": [
      "C:\\Users\\paper\\Anaconda3\\envs\\scraper\\lib\\site-packages\\facebook_scraper\\facebook_scraper.py:813: UserWarning: Facebook served mbasic/noscript content unexpectedly on https://m.facebook.com/ufi/reaction/profile/browser/fetch/?ft_ent_identifier=10159528446964929&limit=50&shown_ids=590086423%2C590046739%2C568136111%2C543010234%2C527278645%2C511886862%2C503213530%2C132400077%2C64100384%2C1363463187%2C1356532239%2C1336752391%2C1335450471%2C1335424219%2C1312998262%2C1303493537%2C1272425335%2C1272216755%2C1261744999%2C1239082096%2C1234847153%2C1228787113%2C1220214082%2C1207094896%2C1195940616%2C1187887955%2C1168380934%2C1160082309%2C1154587581%2C1151122618%2C1133675934%2C1127198892%2C1122608579%2C1091769629%2C1090332143%2C1090193624%2C1024183552%2C1015020011%2C1008595342%2C1000148698%2C789108286%2C781310738%2C778418432%2C770159364%2C768424073%2C752237607%2C751726157%2C731365318%2C711291465%2C705467992%2C689416435%2C683595352%2C677780649%2C664570020%2C658023664%2C654751878%2C647281135%2C598634022%2C100000638945291%2C100000622623838%2C100000532068236%2C100000523324741%2C100000488832592%2C100000475963983%2C100000446524156%2C100000433274242%2C100000420908927%2C100000360800608%2C100000354975895%2C100000353606267%2C100000349730067%2C100000345058932%2C100000301783001%2C100000287948126%2C100000275171159%2C100000206367865%2C100000199537804%2C100000197164406%2C100000181184535%2C100000128694990%2C100000052127905%2C100000041511072%2C100000022512564%2C100000008378959%2C1827311777%2C1825438329%2C1800954786%2C1799378960%2C1789437882%2C1781166109%2C1735527631%2C1717080732%2C1663473021%2C1661414767%2C1633489571%2C1604573210%2C1602824251%2C1602757697%2C1600906117%2C1534893048%2C1446391256%2C1436211622%2C1430720350%2C1415922400%2C1405381605%2C1399862140%2C1391153696%2C100005061101596%2C100004635552275%2C100004519992064%2C100003875842133%2C100003804203439%2C100003799940700%2C100003678169024%2C100003629972334%2C100003500856951%2C100003275676849%2C100003152741385%2C100003122743978%2C100002811544690%2C100002238113899%2C100002202222390%2C100002200583963%2C100002168867118%2C100002134371627%2C100002131481563%2C100002055465476%2C100002050650693%2C100001980765747%2C100001933436029%2C100001904999267%2C100001899112349%2C100001703103990%2C100001575077439%2C100001525325944%2C100001507084435%2C100001448604949%2C100001249644077%2C100001241927474%2C100001188785428%2C100001179332689%2C100001087073377%2C100001085174602%2C100001083147015%2C100000926157052%2C100000921520835%2C100000875227084%2C100000864094805%2C100000863244649%2C100000859714925%2C100000785692223%2C100000740412432%2C100000738023660%2C100000710818508%2C100000646257438%2C100000643561071%2C100031045242946%2C100030890163852%2C100030765880665%2C100029944814700%2C100028109239596%2C100026323580916%2C100025384902768%2C100024942940527%2C100024452656988%2C100023307304898%2C100022829778026%2C100018929051466%2C100017575413543%2C100016390159280%2C100016237842074%2C100015961627308%2C100014933073394%2C100014763274258%2C100014272626096%2C100013542097273%2C100013210680486%2C100012834753232%2C100012782716624%2C100012021286787%2C100011406284702%2C100011245953889%2C100011044338040%2C100010986677290%2C100010683692102%2C100009704386984%2C100009256531825%2C100008566936880%2C100008074661772%2C100007851672575%2C100007783901345%2C100007459441528%2C100007257318760%2C100007157160543%2C100006696549021%2C100006667443076%2C100006442688323%2C100006269176128%2C100006131312466%2C100006037989146%2C100005538671161%2C100005510234446%2C100005431057828%2C100005195385664%2C100005116579486%2C100180098011463%2C100076431643542%2C100075978769368%2C100075901771447%2C100074565012140%2C100074293826056%2C100074208076856%2C100074026464705%2C100073708447686%2C100073585497374%2C100073197648631%2C100073151960831%2C100073055181851%2C100072397093105%2C100071870487129%2C100071140506441%2C100069503598446%2C100068625022690%2C100062670128418%2C100062372083127%2C100062245555073%2C100061013705312%2C100058800451718%2C100056133164664%2C100056098741369%2C100055696459183%2C100055400329699%2C100054778791525%2C100054320058395%2C100051827531153%2C100050946585505%2C100050195461270%2C100050096431369%2C100049919380537%2C100048312318916%2C100048123313271%2C100047366081468%2C100045471406085%2C100045201547459%2C100044895222003%2C100044424714050%2C100043736299878%2C100040025830903%2C100038785388968%2C100036736610952%2C100036224441314%2C100036059708684%2C100035403637680%2C100031669695117&total_count=255&locale=en_US\n",
      "  warnings.warn(\n"
     ]
    },
    {
     "name": "stdout",
     "output_type": "stream",
     "text": [
      "----"
     ]
    },
    {
     "name": "stderr",
     "output_type": "stream",
     "text": [
      "C:\\Users\\paper\\Anaconda3\\envs\\scraper\\lib\\site-packages\\facebook_scraper\\facebook_scraper.py:813: UserWarning: Facebook served mbasic/noscript content unexpectedly on https://m.facebook.com/ufi/reaction/profile/browser/fetch/?ft_ent_identifier=10159525710959929&limit=50&shown_ids=1323862011%2C1319865672%2C1319112911%2C1312394051%2C1290098454%2C1265323955%2C1234847153%2C1220747792%2C1216271521%2C1207094896%2C1188853865%2C1169280630%2C1149504547%2C1118041255%2C1081008622%2C1025364210%2C1011540088%2C1008595342%2C1000148698%2C810157578%2C773189414%2C743670385%2C724912091%2C699345994%2C695608708%2C679824641%2C675717655%2C655475653%2C646320155%2C610662567%2C590937653%2C563153020%2C515935771%2C513231330%2C132400077%2C64200526%2C23501495%2C100075901771447%2C100063577532886%2C100059432816288%2C100050761954327%2C100047471118726%2C100018323762927%2C100014763274258%2C100013294151290%2C100010904624055%2C100009168379521%2C100007818841290%2C100007779398659%2C100005932741308%2C100005060890853%2C100004011377715%2C100003306248219%2C100002750268495%2C100002729628139%2C100002342108395%2C100002201483260%2C100001185469320%2C100001087073377%2C100001021371036%2C100000926157052%2C100000898937208%2C100000532598433%2C100000432560183%2C100000275171159%2C100000239275894%2C100000176618274%2C100000103590597%2C100000053871481%2C100000028590388%2C100000022512564%2C100000008378959%2C1844313441%2C1829045758%2C1633489571%2C1564520331%2C1559811762%2C1548083774%2C1512451696%2C1487491001%2C1452888793%2C1426512706%2C1415920365%2C1409613185%2C1353249665%2C1348470658&total_count=87&locale=en_US\n",
      "  warnings.warn(\n"
     ]
    },
    {
     "name": "stdout",
     "output_type": "stream",
     "text": [
      "-"
     ]
    },
    {
     "name": "stderr",
     "output_type": "stream",
     "text": [
      "C:\\Users\\paper\\Anaconda3\\envs\\scraper\\lib\\site-packages\\facebook_scraper\\facebook_scraper.py:813: UserWarning: Facebook served mbasic/noscript content unexpectedly on https://m.facebook.com/ufi/reaction/profile/browser/fetch/?ft_ent_identifier=10159526454164929&limit=50&shown_ids=1066880183%2C1061683212%2C1055496121%2C1034531066%2C1032801182%2C1015020011%2C1012750111%2C1000629248%2C1000148698%2C789108286%2C781310738%2C770159364%2C746516756%2C721204169%2C688627377%2C687344597%2C658023664%2C657678767%2C657341980%2C646320155%2C643713522%2C593783840%2C582629700%2C577082764%2C574844482%2C573649975%2C563153020%2C544335770%2C537218399%2C529575736%2C527278645%2C524328901%2C524074528%2C517629427%2C515984518%2C511886862%2C507073531%2C506192955%2C71304537%2C27708322%2C1235356%2C1633489571%2C1602681281%2C1599580032%2C1584325416%2C1558430664%2C1542962507%2C1538850439%2C1524475659%2C1487491001%2C1485005510%2C1467867051%2C1452875742%2C1435543417%2C1421344669%2C1415626564%2C1405381605%2C1405173015%2C1389595014%2C1380121119%2C1364572675%2C1356532239%2C1356480546%2C1356081489%2C1354166125%2C1353249665%2C1348470658%2C1347515592%2C1330137384%2C1315008333%2C1307596997%2C1303493537%2C1291266298%2C1278774964%2C1272216755%2C1261744999%2C1258208776%2C1245121271%2C1234847153%2C1233938095%2C1229622465%2C1212766893%2C1195940616%2C1187887955%2C1182714968%2C1176143191%2C1151122618%2C1137872175%2C1122608579%2C1090332143%2C100001081406428%2C100000921520835%2C100000864094805%2C100000859714925%2C100000837814060%2C100000646257438%2C100000572144224%2C100000554673896%2C100000551868571%2C100000535860218%2C100000532598433%2C100000493387986%2C100000488832592%2C100000479558838%2C100000467200050%2C100000420908927%2C100000370585682%2C100000345058932%2C100000239386224%2C100000199537804%2C100000197164406%2C100000189554300%2C100000174652273%2C100000167307044%2C100000160055494%2C100000158410255%2C100000128694990%2C100000118021285%2C100000110982492%2C100000043981724%2C100000042763557%2C100000028590388%2C100000017643404%2C100000008378959%2C1838308998%2C1827311777%2C1825438329%2C1822957928%2C1817749157%2C1810890569%2C1765944762%2C1755087547%2C1735527631%2C1705635206%2C1680284654%2C1673031960%2C1654964429%2C1652178915%2C1638879363%2C100005510234446%2C100005116579486%2C100004823012239%2C100004519992064%2C100004021700452%2C100003875842133%2C100003799940700%2C100003746003857%2C100003544569442%2C100003500856951%2C100003352059785%2C100003306248219%2C100003305608201%2C100003275676849%2C100003211998416%2C100002915119344%2C100002811544690%2C100002750268495%2C100002729628139%2C100002691135381%2C100002666179277%2C100002636945635%2C100002486778925%2C100002480721255%2C100002202222390%2C100002190974441%2C100002168959630%2C100002144562713%2C100002050650693%2C100001933436029%2C100001865601828%2C100001797705852%2C100001794283582%2C100001782006769%2C100001653035011%2C100001631446716%2C100001599690197%2C100001581717222%2C100001507084435%2C100001468862941%2C100001435005713%2C100001278215869%2C100001264144122%2C100001249644077%2C100001236346224%2C100001179332689%2C100001169013780%2C100001149709296%2C100001099659632%2C100035403637680%2C100034433954777%2C100029355503850%2C100027921699688%2C100027550749199%2C100026068359499%2C100025384902768%2C100024452656988%2C100023921442222%2C100023366973535%2C100023128215413%2C100022829778026%2C100022679501533%2C100021341951478%2C100018929051466%2C100018323762927%2C100017575413543%2C100016237842074%2C100015961627308%2C100014763274258%2C100014558430292%2C100014272626096%2C100014150808852%2C100013294151290%2C100012782716624%2C100011817664439%2C100011245953889%2C100010989068301%2C100010683692102%2C100009679892954%2C100009366586910%2C100009256531825%2C100009193533972%2C100009011931547%2C100008951974654%2C100008828409822%2C100008298242724%2C100008074661772%2C100007924359118%2C100007758429849%2C100007459441528%2C100007354663449%2C100007257318760%2C100006667443076%2C100006524115078%2C100006315727199%2C100006269176128%2C100006132639044%2C100005882739547%2C100180098011463%2C100076182352027%2C100075978769368%2C100075901771447%2C100075779976937%2C100075201948974%2C100074666040219%2C100074565012140%2C100074563384374%2C100074333523166%2C100074293826056%2C100073708447686%2C100073585497374%2C100073151960831%2C100072462001908%2C100071870487129%2C100070164635816%2C100069973274310%2C100069503598446%2C100069054195903%2C100067577597394%2C100062245555073%2C100061061910696%2C100061013705312%2C100058870421641%2C100058800451718%2C100057305184892%2C100056133164664%2C100056098741369%2C100055400329699%2C100054637217679%2C100054320058395%2C100051827531153%2C100050946585505%2C100050195461270%2C100050096431369%2C100049919380537%2C100048123313271%2C100047366081468%2C100045471406085%2C100044424714050%2C100040740457644%2C100040528332106%2C100040025830903%2C100038426370820%2C100036736610952%2C100036224441314%2C100036059708684%2C100036022928127&total_count=287&locale=en_US\n",
      "  warnings.warn(\n"
     ]
    },
    {
     "name": "stdout",
     "output_type": "stream",
     "text": [
      "---"
     ]
    },
    {
     "name": "stderr",
     "output_type": "stream",
     "text": [
      "C:\\Users\\paper\\Anaconda3\\envs\\scraper\\lib\\site-packages\\facebook_scraper\\facebook_scraper.py:813: UserWarning: Facebook served mbasic/noscript content unexpectedly on https://m.facebook.com/ufi/reaction/profile/browser/fetch/?ft_ent_identifier=10159524773929929&limit=50&shown_ids=554528753%2C546545411%2C511886862%2C506063247%2C64101640%2C48100966%2C45109804%2C23205378%2C2300583%2C2244352%2C1335450471%2C1331986039%2C1319112911%2C1278774964%2C1261744999%2C1258163988%2C1256940141%2C1248317881%2C1247294044%2C1228787113%2C1225178597%2C1212766893%2C1208029400%2C1207094896%2C1199297327%2C1195940616%2C1188853865%2C1188256986%2C1184884909%2C1171222591%2C1168640422%2C1168175664%2C1154587581%2C1149504547%2C1142906591%2C1141073999%2C1105358797%2C1089190865%2C1029522326%2C1008595342%2C837405190%2C801838465%2C760038832%2C749168480%2C729333967%2C724912091%2C723385076%2C691653222%2C687899107%2C638252869%2C619108863%2C616936442%2C613986553%2C612972193%2C610662567%2C603883483%2C590937653%2C579960008%2C568106802%2C100000760222526%2C100000665436128%2C100000620010558%2C100000572144224%2C100000541273325%2C100000488832592%2C100000413614491%2C100000337601605%2C100000214724491%2C100000206844128%2C100000206367865%2C100000181184535%2C100000152748707%2C100000148270169%2C100000123196824%2C100000099155089%2C100000008378959%2C1809622406%2C1797056729%2C1769387700%2C1752020961%2C1730420378%2C1706521431%2C1703116150%2C1631947062%2C1624810925%2C1617115397%2C1599090913%2C1583781989%2C1568442751%2C1558430664%2C1543780955%2C1539226215%2C1512451696%2C1505401615%2C1473324029%2C1470961431%2C1464608625%2C1452504767%2C1435008164%2C1424132236%2C1390432861%2C1364572675%2C1363211498%2C1362612495%2C1361188113%2C1360658596%2C1347051648%2C1336823866%2C276755359009607%2C100075901771447%2C100073708447686%2C100068849211395%2C100062624614692%2C100050583941451%2C100049252691894%2C100045193904606%2C100040635675703%2C100034876620442%2C100026802153570%2C100026332598180%2C100026158852127%2C100025510322835%2C100018323762927%2C100017120674944%2C100014763274258%2C100013294151290%2C100011801434831%2C100009816093367%2C100009799397953%2C100009708825821%2C100007413486778%2C100005276714731%2C100004855680027%2C100004380616344%2C100004126814666%2C100003505636991%2C100002915119344%2C100002750268495%2C100002729628139%2C100002649940533%2C100002252956594%2C100002211360344%2C100002027185559%2C100001980841311%2C100001967418878%2C100001874632390%2C100001692226318%2C100001631446716%2C100001478277833%2C100001386834380%2C100001239398634%2C100001206536408%2C100001166878767%2C100001087073377%2C100001080538582%2C100001018924462%2C100000944263465%2C100000926157052&total_count=159&locale=en_US\n",
      "  warnings.warn(\n"
     ]
    },
    {
     "name": "stdout",
     "output_type": "stream",
     "text": [
      "-"
     ]
    },
    {
     "name": "stderr",
     "output_type": "stream",
     "text": [
      "C:\\Users\\paper\\Anaconda3\\envs\\scraper\\lib\\site-packages\\facebook_scraper\\facebook_scraper.py:813: UserWarning: Facebook served mbasic/noscript content unexpectedly on https://m.facebook.com/ufi/reaction/profile/browser/fetch/?ft_ent_identifier=10159524062014929&limit=50&shown_ids=100015238353216%2C100013294151290%2C100010904624055%2C100001478277833%2C100001285190873%2C100000551868571%2C100000176618274%2C100000122271567%2C1823548624%2C1656051473%2C1487491001%2C1445862019%2C1390230764%2C1338274637%2C1250856517%2C1207094896%2C1085545725%2C1073126988%2C708999486%2C655475653%2C646599452%2C613503321%2C579960008%2C553790667%2C548699206%2C545041750%2C529575736&total_count=28&locale=en_US\n",
      "  warnings.warn(\n"
     ]
    },
    {
     "name": "stdout",
     "output_type": "stream",
     "text": [
      "--"
     ]
    },
    {
     "name": "stderr",
     "output_type": "stream",
     "text": [
      "C:\\Users\\paper\\Anaconda3\\envs\\scraper\\lib\\site-packages\\facebook_scraper\\facebook_scraper.py:813: UserWarning: Facebook served mbasic/noscript content unexpectedly on https://m.facebook.com/ufi/reaction/profile/browser/fetch/?ft_ent_identifier=10159523595044929&limit=50&shown_ids=100000006687303%2C1816712030%2C1714561869%2C1653229625%2C1633489571%2C1624991814%2C1583781989%2C1575457555%2C1559811762%2C1550688752%2C1508812710%2C1439354888%2C1419594482%2C1402360552%2C1391430218%2C1312938485%2C1312429512%2C1286850936%2C1278774964%2C1247294044%2C1225810425%2C1215941292%2C1187767407%2C1181420054%2C1146392023%2C1142906591%2C1062171742%2C1011540088%2C823399495%2C773022698%2C752077124%2C733035538%2C725228335%2C708439032%2C704088509%2C661055181%2C653627809%2C582425541%2C566580639%2C559230460%2C545081190%2C541150381%2C152600275%2C44901466%2C19505691%2C10212110%2C9330650%2C2803053%2C108677%2C100076992070577%2C100075901771447%2C100073702353866%2C100058800451718%2C100057305184892%2C100049919380537%2C100047471118726%2C100037278033062%2C100032421945483%2C100032036269536%2C100028764590652%2C100023620457064%2C100020976309879%2C100013840022042%2C100011100193915%2C100010109951872%2C100009708825821%2C100007818841290%2C100006149227101%2C100006131312466%2C100004798807485%2C100004785439266%2C100004331734085%2C100004134524991%2C100004040906513%2C100004011377715%2C100003114654231%2C100001974456522%2C100001838790537%2C100001525325944%2C100001339583611%2C100001312084376%2C100001179784562%2C100001080977899%2C100001000597740%2C100000926157052%2C100000915546487%2C100000879592975%2C100000760222526%2C100000623621132%2C100000541273325%2C100000490776303%2C100000413614491%2C100000286595181%2C100000275171159%2C100000227560552%2C100000110982492%2C100000080056588%2C100000041648707%2C100000008378959&total_count=100&locale=en_US\n",
      "  warnings.warn(\n"
     ]
    },
    {
     "name": "stdout",
     "output_type": "stream",
     "text": [
      "--"
     ]
    },
    {
     "name": "stderr",
     "output_type": "stream",
     "text": [
      "C:\\Users\\paper\\Anaconda3\\envs\\scraper\\lib\\site-packages\\facebook_scraper\\facebook_scraper.py:813: UserWarning: Facebook served mbasic/noscript content unexpectedly on https://m.facebook.com/ufi/reaction/profile/browser/fetch/?ft_ent_identifier=10159520414294929&limit=50&shown_ids=571616831%2C548966593%2C538766421%2C535431420%2C529575736%2C525451025%2C518943159%2C515788817%2C64101502%2C1400145%2C100000086402649%2C100000053871481%2C100000022512564%2C127947395755%2C1848023591%2C1804840310%2C1784036306%2C1777881609%2C1752020961%2C1663473021%2C1655349548%2C1633489571%2C1567943767%2C1559811762%2C1558430664%2C1553107373%2C1548593407%2C1543780955%2C1538850439%2C1510821587%2C1491282264%2C1446391256%2C1428297693%2C1415922400%2C1363211498%2C1353249665%2C1323862011%2C1268119554%2C1243735504%2C1234847153%2C1207094896%2C1202908764%2C1196145953%2C1062817549%2C1047550207%2C1014741143%2C1008595342%2C1003185412%2C1000148698%2C788944189%2C778418432%2C778160182%2C751726157%2C679824641%2C645971325%2C619479796%2C590086423%2C579960008%2C579735485%2C100075901771447%2C100068849211395%2C100065896401146%2C100059693480546%2C100047974524205%2C100039839873191%2C100026521458367%2C100025016540304%2C100014763274258%2C100013465236480%2C100010701512894%2C100009708825821%2C100009088447640%2C100008286277221%2C100007831548485%2C100007413486778%2C100006131312466%2C100005766616629%2C100005152236819%2C100004592044268%2C100004520503132%2C100003532376213%2C100002893957721%2C100002729628139%2C100002237916806%2C100002201483260%2C100001974456522%2C100001677075054%2C100001431176143%2C100001275058032%2C100001253528449%2C100001121808879%2C100001055140478%2C100000926157052%2C100000916856045%2C100000799144276%2C100000791408615%2C100000646257438%2C100000541273325%2C100000526730921%2C100000517990671%2C100000488832592%2C100000342470281%2C100000239275894%2C100000214724491%2C100000209844415%2C100000189817734%2C100000186574536%2C100000135453235&total_count=109&locale=en_US\n",
      "  warnings.warn(\n"
     ]
    },
    {
     "name": "stdout",
     "output_type": "stream",
     "text": [
      "-----------\n",
      "post 150 collected at 06:34:44\n",
      "post datetime at 2022-01-05 17:19:33\n",
      "Getting posts 101 - 150 took 53.0 minutes and 11.69 seconds\n",
      "50 days scraped out of 725 days for alaska.dhss\n",
      "--------------------------------------------------\n",
      "post 200 collected at 06:49:16\n",
      "post datetime at 2021-12-18 17:10:34\n",
      "Getting posts 151 - 200 took 67.0 minutes and 43.14 seconds\n",
      "68 days scraped out of 725 days for alaska.dhss\n",
      "--------------------------------------------------\n",
      "post 250 collected at 07:04:13\n",
      "post datetime at 2021-12-03 18:55:17\n",
      "Getting posts 201 - 250 took 82.0 minutes and 40.09 seconds\n",
      "83 days scraped out of 725 days for alaska.dhss\n",
      "--------------------------------------------------\n",
      "post 300 collected at 07:18:13\n",
      "post datetime at 2021-11-22 18:52:04\n",
      "Getting posts 251 - 300 took 96.0 minutes and 40.75 seconds\n",
      "94 days scraped out of 725 days for alaska.dhss\n",
      "--------------------------------------------------\n",
      "post 350 collected at 07:35:24\n",
      "post datetime at 2021-11-11 12:47:01\n",
      "Getting posts 301 - 350 took 113.0 minutes and 51.88 seconds\n",
      "105 days scraped out of 725 days for alaska.dhss\n",
      "--------------------------------------------------\n",
      "post 400 collected at 08:08:58\n",
      "post datetime at 2021-10-31 18:31:38\n",
      "Getting posts 351 - 400 took 147.0 minutes and 24.98 seconds\n",
      "116 days scraped out of 725 days for alaska.dhss\n",
      "--------------------------------------------------\n",
      "post 450 collected at 08:27:27\n",
      "post datetime at 2021-10-21 13:00:23\n",
      "Getting posts 401 - 450 took 165.0 minutes and 54.03 seconds\n",
      "126 days scraped out of 725 days for alaska.dhss\n",
      "--------------------------------------------------\n",
      "post 500 collected at 08:43:12\n",
      "post datetime at 2021-10-08 19:08:18\n",
      "Getting posts 451 - 500 took 181.0 minutes and 39.27 seconds\n",
      "139 days scraped out of 725 days for alaska.dhss\n",
      "this week in history brought to you by #500:\n",
      "Take care of your physical and mental health this winter, including getting an annual flu shot before the end of October. Flu vaccine greatly reduces the chances of getting the flu and helps prevent serious illness, hospitalization and death associated with flu.\n",
      "Getting posts 1 - 500 for page alaska.dhss took 181.0 minutes and 39.27 seconds\n",
      "time now is at:  08:43:12\n",
      "----------------------------------------"
     ]
    },
    {
     "name": "stderr",
     "output_type": "stream",
     "text": [
      "C:\\Users\\paper\\Anaconda3\\envs\\scraper\\lib\\site-packages\\facebook_scraper\\facebook_scraper.py:813: UserWarning: Facebook served mbasic/noscript content unexpectedly on https://m.facebook.com/ufi/reaction/profile/browser/fetch/?ft_ent_identifier=10159334922434929&limit=50&shown_ids=100068849211395%2C100068442565240%2C100047724823310%2C100038681581029%2C100004011377715%2C100002188743791%2C100002080204121%2C100001731451369%2C100001578155856%2C100000760222526%2C100000488832592%2C100000479651561%2C100000300113715%2C100000239275894%2C1611762497%2C1478725410%2C1456834197%2C1419652611%2C1348470658%2C1209065948%2C1062171742%2C1000148698%2C773022698%2C651656807%2C529575736%2C517629427%2C132400077&total_count=29&locale=en_US\n",
      "  warnings.warn(\n"
     ]
    },
    {
     "name": "stdout",
     "output_type": "stream",
     "text": [
      "-"
     ]
    },
    {
     "name": "stderr",
     "output_type": "stream",
     "text": [
      "C:\\Users\\paper\\Anaconda3\\envs\\scraper\\lib\\site-packages\\facebook_scraper\\facebook_scraper.py:813: UserWarning: Facebook served mbasic/noscript content unexpectedly on https://m.facebook.com/ufi/reaction/profile/browser/fetch/?ft_ent_identifier=10159334960484929&limit=50&shown_ids=100068442565240%2C100010904624055%2C100007845466315%2C100006131312466%2C100005184935255%2C100002228758111%2C100001278643198%2C100001021371036%2C100000646257438%2C100000404688282%2C1611762497%2C1610757008%2C1509492424%2C1445862019%2C1415920365%2C1363211498%2C1361101506%2C1074453876%2C1073444182%2C702256477%2C647866897%2C608603085%2C182000093%2C25914829&total_count=25&locale=en_US\n",
      "  warnings.warn(\n",
      "C:\\Users\\paper\\Anaconda3\\envs\\scraper\\lib\\site-packages\\facebook_scraper\\facebook_scraper.py:813: UserWarning: Facebook served mbasic/noscript content unexpectedly on https://m.facebook.com/ufi/reaction/profile/browser/fetch/?ft_ent_identifier=10159334939344929&limit=50&shown_ids=100068442565240%2C100010904624055%2C100010440668796%2C100007845466315%2C100006131312466%2C100002228758111%2C100001924148731%2C100001153189280%2C100001006170724%2C100000135453235%2C1611762497%2C1549681477%2C1517263457%2C1495509558%2C1415920365%2C1388687907%2C1354204785%2C1219443102%2C1195063750%2C1182384565%2C1146369452%2C1008595342%2C751726157%2C570010234&total_count=25&locale=en_US\n",
      "  warnings.warn(\n"
     ]
    },
    {
     "name": "stdout",
     "output_type": "stream",
     "text": [
      "---------\n",
      "post 550 collected at 09:21:03\n",
      "post datetime at 2021-09-23 19:26:46\n",
      "Getting posts 501 - 550 took 37.0 minutes and 51.52 seconds\n",
      "154 days scraped out of 725 days for alaska.dhss\n",
      "--------------------------------------------------\n",
      "post 600 collected at 09:54:01\n",
      "post datetime at 2021-09-10 20:12:02\n",
      "Getting posts 551 - 600 took 70.0 minutes and 49.2 seconds\n",
      "167 days scraped out of 725 days for alaska.dhss\n",
      "------------------------"
     ]
    },
    {
     "name": "stderr",
     "output_type": "stream",
     "text": [
      "C:\\Users\\paper\\Anaconda3\\envs\\scraper\\lib\\site-packages\\facebook_scraper\\facebook_scraper.py:813: UserWarning: Facebook served mbasic/noscript content unexpectedly on https://m.facebook.com/ufi/reaction/profile/browser/fetch/?ft_ent_identifier=10159299683679929&limit=50&shown_ids=511323020%2C510964527%2C510936182%2C182000093%2C73407532%2C65201668%2C64201857%2C64100609%2C44901466%2C39400714%2C27901615%2C27502180%2C21423592%2C19217200%2C16716537%2C8600337%2C2244352%2C613761%2C1068532571%2C1064921512%2C1064448550%2C1043439801%2C1016582901%2C1014480127%2C1012750111%2C1003185412%2C1000148698%2C831151165%2C819119221%2C812262589%2C773022698%2C762330296%2C753733621%2C743605511%2C729838527%2C726687187%2C721251988%2C714762255%2C714471455%2C703859551%2C676480083%2C675717655%2C665994871%2C658583627%2C658162545%2C654987631%2C647866897%2C610438724%2C608605808%2C607147441%2C594931087%2C594803639%2C590086423%2C585726222%2C570511186%2C569795287%2C559776635%2C549051113%2C548699206%2C535860808%2C535431420%2C532123188%2C515984518%2C515935771%2C1550688752%2C1542983339%2C1539032205%2C1538850439%2C1522221750%2C1508812710%2C1500837522%2C1487855334%2C1487491001%2C1482714220%2C1475241298%2C1470753391%2C1452504767%2C1446391256%2C1445945008%2C1417189724%2C1417105723%2C1415920365%2C1397960123%2C1356480546%2C1348470658%2C1347051648%2C1339446339%2C1326262942%2C1324532648%2C1323862011%2C1321838102%2C1320079240%2C1319112911%2C1292136418%2C1285565135%2C1281544238%2C1277847983%2C1268178001%2C1267511679%2C1247770377%2C1247711257%2C1228787113%2C1216202480%2C1194372263%2C1161534070%2C1153165466%2C1151122618%2C1147867607%2C1147370783%2C1142906591%2C1132021127%2C1087418056%2C100001482270826%2C100001435521513%2C100001236346224%2C100001231987504%2C100001217213920%2C100001188785428%2C100001121808879%2C100001021371036%2C100000915546487%2C100000864094805%2C100000787381150%2C100000760222526%2C100000662470981%2C100000626860295%2C100000585922362%2C100000581528224%2C100000551868571%2C100000488832592%2C100000463097984%2C100000462165268%2C100000435735429%2C100000412582698%2C100000401165226%2C100000387682613%2C100000302168238%2C100000238818461%2C100000206844128%2C100000193992267%2C100000189501285%2C100000175877007%2C100000112254999%2C100000065912481%2C100000060942157%2C100000008378959%2C1829286130%2C1755499179%2C1752020961%2C1718417154%2C1673031960%2C1663913296%2C1646596207%2C1633489571%2C1610757008%2C1603227261%2C1600463611%2C1584612324%2C1569905374%2C1558430664%2C100066791645348%2C100065896401146%2C100058262720813%2C100057305184892%2C100055900675030%2C100052105234051%2C100051706892211%2C100051097113017%2C100040113345227%2C100038028122418%2C100034997900627%2C100033250095463%2C100030744740756%2C100024295846058%2C100023192507007%2C100023191954991%2C100016612744975%2C100015969040500%2C100014763274258%2C100014226030115%2C100010402119623%2C100009845025217%2C100008247523797%2C100007844705012%2C100006996181843%2C100006821569064%2C100006548490882%2C100006484977802%2C100006188891367%2C100006131312466%2C100006127455161%2C100005932741308%2C100005688180038%2C100005516707986%2C100005510234446%2C100005284969135%2C100004976437757%2C100004373768654%2C100004093536200%2C100003978636414%2C100003725436048%2C100003469156797%2C100002893957721%2C100002557877229%2C100002498851516%2C100002342108395%2C100002158762400%2C100001989201895%2C100001838790537&total_count=213&locale=en_US\n",
      "  warnings.warn(\n"
     ]
    },
    {
     "name": "stdout",
     "output_type": "stream",
     "text": [
      "-"
     ]
    },
    {
     "name": "stderr",
     "output_type": "stream",
     "text": [
      "C:\\Users\\paper\\Anaconda3\\envs\\scraper\\lib\\site-packages\\facebook_scraper\\facebook_scraper.py:813: UserWarning: Facebook served mbasic/noscript content unexpectedly on https://m.facebook.com/ufi/reaction/profile/browser/fetch/?ft_ent_identifier=10159298948944929&limit=50&shown_ids=163800127%2C132400077%2C114502414%2C64201068%2C45207072%2C25914829%2C21904465%2C10713792%2C8600337%2C5722775%2C3305909%2C2010243%2C1085276299%2C1066880183%2C1064448550%2C1060832640%2C1058074453%2C1051290271%2C1050246626%2C1047339828%2C1045946267%2C1040016526%2C1038282204%2C1012694247%2C1000148698%2C868595386%2C787165477%2C784228965%2C783600647%2C778418432%2C773022698%2C744082474%2C743574691%2C729884575%2C726500528%2C724293972%2C723813542%2C721251988%2C713300836%2C711888787%2C682041731%2C669356929%2C656782664%2C648245674%2C631608744%2C612021216%2C610580800%2C596075825%2C594931087%2C594118016%2C579886047%2C576242579%2C574077984%2C570565495%2C553911768%2C537975391%2C529575736%2C511559318%2C509377741%2C182000387%2C182000093%2C1596103426%2C1593322113%2C1583269603%2C1560566948%2C1559491921%2C1553182396%2C1552269253%2C1530048910%2C1528757917%2C1512451696%2C1479812211%2C1465492974%2C1460780878%2C1452504767%2C1451490367%2C1438807633%2C1434860600%2C1430972264%2C1425923262%2C1415922400%2C1415920365%2C1411406214%2C1367130320%2C1366871794%2C1366833567%2C1360340124%2C1353249665%2C1352740023%2C1348470658%2C1324532648%2C1321838102%2C1308162301%2C1304467896%2C1298945934%2C1291266298%2C1282968102%2C1279265387%2C1269615993%2C1234931956%2C1228787113%2C1201851941%2C1192323231%2C1188853865%2C1184594390%2C1160683809%2C1151122618%2C1143610316%2C1143367830%2C1093601306%2C100001018573248%2C100000926157052%2C100000922121003%2C100000868791075%2C100000864094805%2C100000784453819%2C100000727803997%2C100000665436128%2C100000665014438%2C100000634830560%2C100000603604689%2C100000581528224%2C100000572144224%2C100000568270187%2C100000557622176%2C100000551868571%2C100000517990671%2C100000488832592%2C100000479651561%2C100000456594321%2C100000433274242%2C100000344113525%2C100000337601605%2C100000316084895%2C100000264375021%2C100000238818461%2C100000209844415%2C100000189501285%2C100000179522912%2C100000160055494%2C100000146544865%2C100000143723549%2C100000133524846%2C100000130398721%2C100000124534321%2C100000122690837%2C100000113071184%2C100000089043414%2C100000042763557%2C100000027320597%2C100000011516573%2C1809975004%2C1809536536%2C1752020961%2C1633150750%2C1617115397%2C1612846611%2C1611762497%2C1602824251%2C107184504285787%2C100068849211395%2C100068442565240%2C100066791645348%2C100056818728877%2C100052028179842%2C100050179702615%2C100045503616504%2C100045082426140%2C100040635675703%2C100026802153570%2C100019302342204%2C100014763274258%2C100012055358344%2C100011646156713%2C100009708825821%2C100009525953394%2C100008917982745%2C100008155242602%2C100008143295936%2C100007760028908%2C100006544565815%2C100006524115078%2C100006213847012%2C100006131312466%2C100006029143203%2C100005205073815%2C100005146179667%2C100004592044268%2C100004517109945%2C100004373768654%2C100004336662048%2C100003395613724%2C100003155491589%2C100003099981656%2C100002915119344%2C100002823166634%2C100002718845500%2C100002646100921%2C100002210501792%2C100002136610301%2C100002110885447%2C100001989201895%2C100001482270826%2C100001386834380%2C100001217213920%2C100001179784562%2C100001121808879%2C100001080538582&total_count=209&locale=en_US\n",
      "  warnings.warn(\n",
      "C:\\Users\\paper\\Anaconda3\\envs\\scraper\\lib\\site-packages\\facebook_scraper\\facebook_scraper.py:813: UserWarning: Facebook served mbasic/noscript content unexpectedly on https://m.facebook.com/ufi/reaction/profile/browser/fetch/?ft_ent_identifier=10159299011009929&limit=50&shown_ids=100048858246775%2C100030744740756%2C100010904624055%2C100010440668796%2C100001989201895%2C100000488832592%2C100000458244308%2C100000133524846%2C1510821587%2C1323862011%2C1042485693%2C801838465%2C25914829&total_count=15&locale=en_US\n",
      "  warnings.warn(\n",
      "C:\\Users\\paper\\Anaconda3\\envs\\scraper\\lib\\site-packages\\facebook_scraper\\facebook_scraper.py:813: UserWarning: Facebook served mbasic/noscript content unexpectedly on https://m.facebook.com/ufi/reaction/profile/browser/fetch/?ft_ent_identifier=10159298996924929&limit=50&shown_ids=100010440668796%2C100010402119623%2C100007832852979%2C100002104656004%2C100001989201895%2C100000488832592%2C100000479651561%2C100000458244308%2C1611762497%2C1551107762%2C1510821587%2C1245656167%2C801838465%2C64101051%2C25914829&total_count=17&locale=en_US\n",
      "  warnings.warn(\n",
      "C:\\Users\\paper\\Anaconda3\\envs\\scraper\\lib\\site-packages\\facebook_scraper\\facebook_scraper.py:813: UserWarning: Facebook served mbasic/noscript content unexpectedly on https://m.facebook.com/ufi/reaction/profile/browser/fetch/?ft_ent_identifier=10159299060574929&limit=50&shown_ids=100045082426140%2C100010904624055%2C100010440668796%2C100004373768654%2C100001989201895%2C100000488832592%2C1323862011%2C25914829&total_count=9&locale=en_US\n",
      "  warnings.warn(\n",
      "C:\\Users\\paper\\Anaconda3\\envs\\scraper\\lib\\site-packages\\facebook_scraper\\facebook_scraper.py:813: UserWarning: Facebook served mbasic/noscript content unexpectedly on https://m.facebook.com/ufi/reaction/profile/browser/fetch/?ft_ent_identifier=10159299153304929&limit=50&shown_ids=100007832852979%2C100007231650166%2C100001231987504%2C1809975004%2C1323862011%2C1234931956%2C1045946267%2C1042485693%2C25914829&total_count=10&locale=en_US\n",
      "  warnings.warn(\n"
     ]
    },
    {
     "name": "stdout",
     "output_type": "stream",
     "text": [
      "--"
     ]
    },
    {
     "name": "stderr",
     "output_type": "stream",
     "text": [
      "C:\\Users\\paper\\Anaconda3\\envs\\scraper\\lib\\site-packages\\facebook_scraper\\facebook_scraper.py:813: UserWarning: Facebook served mbasic/noscript content unexpectedly on https://m.facebook.com/ufi/reaction/profile/browser/fetch/?ft_ent_identifier=10159299179189929&limit=50&reaction_type=1&shown_ids=596075825&total_count=2&locale=en_US\n",
      "  warnings.warn(\n"
     ]
    },
    {
     "name": "stdout",
     "output_type": "stream",
     "text": [
      "-"
     ]
    },
    {
     "name": "stderr",
     "output_type": "stream",
     "text": [
      "C:\\Users\\paper\\Anaconda3\\envs\\scraper\\lib\\site-packages\\facebook_scraper\\facebook_scraper.py:813: UserWarning: Facebook served mbasic/noscript content unexpectedly on https://m.facebook.com/ufi/reaction/profile/browser/fetch/?ft_ent_identifier=10159298584794929&limit=50&shown_ids=100013294151290%2C100006131312466%2C100002559417106%2C100001021371036%2C100000432560183%2C100000342470281%2C1335450471%2C1300669052%2C729333967%2C132400077&total_count=11&locale=en_US\n",
      "  warnings.warn(\n",
      "C:\\Users\\paper\\Anaconda3\\envs\\scraper\\lib\\site-packages\\facebook_scraper\\facebook_scraper.py:813: UserWarning: Facebook served mbasic/noscript content unexpectedly on https://m.facebook.com/ufi/reaction/profile/browser/fetch/?ft_ent_identifier=10159298696449929&limit=50&shown_ids=100036091503527%2C100007232911519%2C645971325%2C583600410&total_count=5&locale=en_US\n",
      "  warnings.warn(\n",
      "C:\\Users\\paper\\Anaconda3\\envs\\scraper\\lib\\site-packages\\facebook_scraper\\facebook_scraper.py:813: UserWarning: Facebook served mbasic/noscript content unexpectedly on https://m.facebook.com/ufi/reaction/profile/browser/fetch/?ft_ent_identifier=10159298595569929&limit=50&shown_ids=100013294151290%2C100010904624055%2C100004606022781%2C100004282265476%2C100002888566421%2C100002398455360%2C100001021371036%2C100000432560183%2C100000342470281%2C100000123281467%2C1442724657%2C1300669052%2C1267776071%2C1066880183%2C801838465%2C604683768%2C132400077&total_count=18&locale=en_US\n",
      "  warnings.warn(\n",
      "C:\\Users\\paper\\Anaconda3\\envs\\scraper\\lib\\site-packages\\facebook_scraper\\facebook_scraper.py:813: UserWarning: Facebook served mbasic/noscript content unexpectedly on https://m.facebook.com/ufi/reaction/profile/browser/fetch/?ft_ent_identifier=10159298748049929&limit=50&shown_ids=100000314178109&total_count=2&locale=en_US\n",
      "  warnings.warn(\n"
     ]
    },
    {
     "name": "stdout",
     "output_type": "stream",
     "text": [
      "--"
     ]
    },
    {
     "name": "stderr",
     "output_type": "stream",
     "text": [
      "C:\\Users\\paper\\Anaconda3\\envs\\scraper\\lib\\site-packages\\facebook_scraper\\facebook_scraper.py:813: UserWarning: Facebook served mbasic/noscript content unexpectedly on https://m.facebook.com/ufi/reaction/profile/browser/fetch/?ft_ent_identifier=10159288192334929&limit=50&shown_ids=1452504767%2C1418200193%2C1358847455%2C1315549487%2C1250856517%2C1234931956%2C1228787113%2C1215015725%2C1200054605%2C1151122618%2C1043439801%2C1022137942%2C1015020011%2C1000148698%2C773022698%2C720350892%2C714762255%2C711888787%2C676480083%2C657346562%2C643713522%2C636755378%2C610580800%2C552226322%2C517629427%2C513017150%2C182000093%2C64101246%2C64100384%2C44014664%2C16905685%2C5722775%2C1618998%2C1015106%2C100065896401146%2C100057305184892%2C100050179702615%2C100038019153617%2C100027550749199%2C100021945157305%2C100014763274258%2C100011791534809%2C100011380375936%2C100010904624055%2C100009845025217%2C100008552979250%2C100008482086057%2C100007560878802%2C100006484977802%2C100006464894526%2C100006131312466%2C100005688180038%2C100005510234446%2C100004592044268%2C100004164216237%2C100003711575069%2C100003294200923%2C100002823166634%2C100002718845500%2C100002666179277%2C100002564523016%2C100002210809533%2C100001989201895%2C100001286282692%2C100001231987504%2C100001226423977%2C100000926157052%2C100000864094805%2C100000760222526%2C100000541273325%2C100000517990671%2C100000501669447%2C100000488832592%2C100000267616814%2C100000217122985%2C100000189501285%2C100000113071184%2C100000105708744%2C100000008378959%2C1551734865%2C1542983339%2C1475241298%2C1470753391&total_count=84&locale=en_US\n",
      "  warnings.warn(\n"
     ]
    },
    {
     "name": "stdout",
     "output_type": "stream",
     "text": [
      "--"
     ]
    },
    {
     "name": "stderr",
     "output_type": "stream",
     "text": [
      "C:\\Users\\paper\\Anaconda3\\envs\\scraper\\lib\\site-packages\\facebook_scraper\\facebook_scraper.py:813: UserWarning: Facebook served mbasic/noscript content unexpectedly on https://m.facebook.com/ufi/reaction/profile/browser/fetch/?ft_ent_identifier=10159297136819929&limit=50&shown_ids=100068849211395%2C100068442565240%2C100057305184892%2C100052105234051%2C100050179702615%2C100044816882420%2C100037276342951%2C100036091503527%2C100025654636804%2C100015279151299%2C100014763274258%2C100013438442200%2C100011961047457%2C100011686981722%2C100002559417106%2C100002228758111%2C100001902767692%2C100000541273325%2C100000501669447%2C100000189501285%2C100000186755849%2C100000173522684%2C100000135453235%2C100000008378959%2C1489627081%2C1456834197%2C1335450471%2C1320079240%2C1208250722%2C1195063750%2C1163859161%2C1117647150%2C1105358797%2C1096487183%2C1078926358%2C1066880183%2C1045946267%2C1000148698%2C773300526%2C749168480%2C684391873%2C625265313%2C580888099%2C569185759%2C522391534%2C503552086%2C4403484&total_count=48&locale=en_US\n",
      "  warnings.warn(\n"
     ]
    },
    {
     "name": "stdout",
     "output_type": "stream",
     "text": [
      "--"
     ]
    },
    {
     "name": "stderr",
     "output_type": "stream",
     "text": [
      "C:\\Users\\paper\\Anaconda3\\envs\\scraper\\lib\\site-packages\\facebook_scraper\\facebook_scraper.py:813: UserWarning: Facebook served mbasic/noscript content unexpectedly on https://m.facebook.com/ufi/reaction/profile/browser/fetch/?ft_ent_identifier=10159296821179929&limit=50&shown_ids=1088030248%2C1077574348%2C1043130434%2C1042707401%2C1002506498%2C1000148698%2C852605460%2C773022698%2C726500528%2C700301637%2C672069887%2C655398889%2C637615891%2C634608124%2C609020828%2C593306918%2C588249085%2C587836152%2C574077984%2C552534049%2C538766421%2C517629427%2C501395200%2C182000093%2C132400077%2C70000044%2C6905458%2C1618998%2C100068849211395%2C100045082426140%2C100043431744273%2C100038019153617%2C100037050588818%2C100023192507007%2C100008247523797%2C100006131312466%2C100004373768654%2C100004060395201%2C100003505636991%2C100003406104607%2C100003159463832%2C100003013385052%2C100002915119344%2C100000572144224%2C100000517990671%2C100000488832592%2C100000461204726%2C100000433274242%2C100000419113367%2C100000206367865%2C100000163603321%2C100000090112771%2C1741548639%2C1653265461%2C1618666230%2C1617115397%2C1612846611%2C1570192042%2C1548593407%2C1528757917%2C1466825310%2C1445862019%2C1436211622%2C1418200193%2C1415922400%2C1390230764%2C1326262942%2C1318879397%2C1304184016%2C1293927251%2C1238228443%2C1188788629%2C1163859161%2C1145804082%2C1124949518%2C1096487183%2C1088382374&total_count=78&locale=en_US\n",
      "  warnings.warn(\n",
      "C:\\Users\\paper\\Anaconda3\\envs\\scraper\\lib\\site-packages\\facebook_scraper\\facebook_scraper.py:813: UserWarning: Facebook served mbasic/noscript content unexpectedly on https://m.facebook.com/ufi/reaction/profile/browser/fetch/?ft_ent_identifier=10159297461494929&limit=50&shown_ids=100000931940344%2C1340477655%2C593306918&total_count=4&locale=en_US\n",
      "  warnings.warn(\n",
      "C:\\Users\\paper\\Anaconda3\\envs\\scraper\\lib\\site-packages\\facebook_scraper\\facebook_scraper.py:813: UserWarning: Facebook served mbasic/noscript content unexpectedly on https://m.facebook.com/ufi/reaction/profile/browser/fetch/?ft_ent_identifier=10159297946629929&limit=50&reaction_type=1&shown_ids=100000480311889%2C1820832224%2C614918901&total_count=4&locale=en_US\n",
      "  warnings.warn(\n",
      "C:\\Users\\paper\\Anaconda3\\envs\\scraper\\lib\\site-packages\\facebook_scraper\\facebook_scraper.py:813: UserWarning: Facebook served mbasic/noscript content unexpectedly on https://m.facebook.com/ufi/reaction/profile/browser/fetch/?ft_ent_identifier=10159296968789929&limit=50&shown_ids=100066372871299%2C100037276342951%2C100016543207248%2C100000727802515%2C100000501460369%2C100000210220603%2C100000135453235%2C100000040325932%2C1340477655%2C1138730043%2C787165477%2C548370536%2C538766421%2C33602024&total_count=15&locale=en_US\n",
      "  warnings.warn(\n",
      "C:\\Users\\paper\\Anaconda3\\envs\\scraper\\lib\\site-packages\\facebook_scraper\\facebook_scraper.py:813: UserWarning: Facebook served mbasic/noscript content unexpectedly on https://m.facebook.com/ufi/reaction/profile/browser/fetch/?ft_ent_identifier=10159297290384929&limit=50&shown_ids=100000480311889%2C1138114025%2C182000093&total_count=4&locale=en_US\n",
      "  warnings.warn(\n",
      "C:\\Users\\paper\\Anaconda3\\envs\\scraper\\lib\\site-packages\\facebook_scraper\\facebook_scraper.py:813: UserWarning: Facebook served mbasic/noscript content unexpectedly on https://m.facebook.com/ufi/reaction/profile/browser/fetch/?ft_ent_identifier=10159298305519929&limit=50&reaction_type=1&shown_ids&total_count=1&locale=en_US\n",
      "  warnings.warn(\n"
     ]
    },
    {
     "name": "stdout",
     "output_type": "stream",
     "text": [
      "-"
     ]
    },
    {
     "name": "stderr",
     "output_type": "stream",
     "text": [
      "C:\\Users\\paper\\Anaconda3\\envs\\scraper\\lib\\site-packages\\facebook_scraper\\facebook_scraper.py:813: UserWarning: Facebook served mbasic/noscript content unexpectedly on https://m.facebook.com/ufi/reaction/profile/browser/fetch/?ft_ent_identifier=10159296786979929&limit=50&shown_ids=100066791645348%2C100037331672695%2C100010904624055%2C100001286282692%2C100000488832592%2C100000251970813%2C100000123851299%2C100000116616288%2C1514047822%2C1512451696%2C1469301779%2C1240666929%2C1209722657%2C1000148698%2C852605460%2C752895116%2C696425140%2C675360956%2C646368891&total_count=20&locale=en_US\n",
      "  warnings.warn(\n"
     ]
    },
    {
     "name": "stdout",
     "output_type": "stream",
     "text": [
      "--"
     ]
    },
    {
     "name": "stderr",
     "output_type": "stream",
     "text": [
      "C:\\Users\\paper\\Anaconda3\\envs\\scraper\\lib\\site-packages\\facebook_scraper\\facebook_scraper.py:813: UserWarning: Facebook served mbasic/noscript content unexpectedly on https://m.facebook.com/ufi/reaction/profile/browser/fetch/?ft_ent_identifier=10159296616479929&limit=50&shown_ids=44014664%2C31601746%2C27502180%2C19214178%2C11006344%2C9330650%2C6905458%2C6600685%2C201479%2C703859551%2C697705025%2C682041731%2C680057061%2C679089921%2C665989869%2C659803671%2C658918945%2C658583627%2C649584077%2C648245674%2C635112706%2C625265313%2C623407441%2C619108863%2C615466764%2C610662567%2C608605808%2C599105850%2C593871845%2C580888099%2C572745729%2C569258922%2C567495057%2C567452626%2C562767282%2C553781234%2C538766421%2C538630986%2C529575736%2C519365522%2C514503728%2C505601504%2C502016234%2C501676768%2C500525775%2C500279045%2C193307229%2C108100589%2C70000044%2C64200640%2C64100790%2C64100526%2C64100384%2C64100365%2C64100232%2C45502120%2C45207072%2C1230691261%2C1228787113%2C1216062996%2C1211073635%2C1209390533%2C1204652545%2C1202761395%2C1200331963%2C1200016164%2C1195063750%2C1179132767%2C1174044824%2C1166370053%2C1165906309%2C1162640062%2C1142080181%2C1133694485%2C1120086840%2C1100063008%2C1098101753%2C1081008622%2C1080602350%2C1077305097%2C1062171742%2C1057117930%2C1051223532%2C1031917073%2C1019942006%2C1000148698%2C873345376%2C848420253%2C814909255%2C778786893%2C777942857%2C773022698%2C754563551%2C753436549%2C751726157%2C743605511%2C737769961%2C734718918%2C734100882%2C733851098%2C731365318%2C722156316%2C714762255%2C713874055%2C708999486%2C706015975%2C1608015335%2C1597974968%2C1593421625%2C1575721351%2C1565444963%2C1558430664%2C1555140440%2C1524881576%2C1517169685%2C1515814167%2C1512451696%2C1510821587%2C1492960761%2C1489627081%2C1488664331%2C1463250888%2C1454090634%2C1447020531%2C1446391256%2C1445175609%2C1444227773%2C1438945692%2C1434900714%2C1431026755%2C1430033631%2C1427226068%2C1415922400%2C1391696494%2C1390450488%2C1388741891%2C1378128885%2C1375167460%2C1360937795%2C1352740023%2C1347666216%2C1346675655%2C1338769882%2C1325607531%2C1323416230%2C1322487115%2C1320079240%2C1312394051%2C1310537682%2C1299687822%2C1291266298%2C1286815590%2C1280236540%2C1246273860%2C1245166006%2C100000515611524%2C100000500830721%2C100000488832592%2C100000462165268%2C100000459555516%2C100000437446285%2C100000432913571%2C100000412582698%2C100000404688282%2C100000401973388%2C100000325120109%2C100000308498208%2C100000260598254%2C100000244142504%2C100000239275894%2C100000232143145%2C100000226997675%2C100000203711071%2C100000156903587%2C100000135453235%2C100000134290861%2C100000122271567%2C100000043340699%2C100000041511072%2C100000022512564%2C100000011516573%2C100000008378959%2C1825438329%2C1809300080%2C1787733294%2C1765944762%2C1764397978%2C1760291238%2C1752020961%2C1748804734%2C1698324750%2C1695752202%2C1683576372%2C1677948725%2C1676803060%2C1675724837%2C1650864030%2C1636249553%2C1633781513%2C1633489571%2C1632471379%2C1631297178%2C1629384360%2C1609340311%2C100005034496746%2C100004979800863%2C100004847656132%2C100004734674019%2C100004630780552%2C100004592044268%2C100004580558565%2C100004497450459%2C100004336662048%2C100004164216237%2C100004093536200%2C100004060340414%2C100003595314598%2C100003305608201%2C100002823166634%2C100002484483075%2C100002369503923%2C100002064136549%2C100001939568292%2C100001902767692%2C100001897297971%2C100001887523111%2C100001838790537%2C100001709797382%2C100001537042959%2C100001518423511%2C100001236346224%2C100001179784562%2C100001121808879%2C100001108443061%2C100001081406428%2C100001066630216%2C100000966401480%2C100000956505661%2C100000933264611%2C100000915546487%2C100000799144276%2C100000788104019%2C100000781776528%2C100000769691657%2C100000760222526%2C100000759155179%2C100000703317606%2C100000688188482%2C100000668273819%2C100000654968866%2C100000551868571%2C100000545038142%2C100000518654610%2C213819009041354%2C204992639520035%2C100072381201022%2C100071838520490%2C100068442565240%2C100066309734913%2C100064088803196%2C100063577532886%2C100059684105257%2C100057305184892%2C100055937152220%2C100053383663352%2C100052105234051%2C100051916747479%2C100051738443082%2C100050179702615%2C100036090455501%2C100035889301802%2C100034985893679%2C100030744740756%2C100026521458367%2C100023819662406%2C100022885535562%2C100021962821453%2C100021945157305%2C100021375816698%2C100013366320919%2C100012415121072%2C100012248086254%2C100010904624055%2C100010842751930%2C100010136505681%2C100009845025217%2C100009708825821%2C100008568963619%2C100008247523797%2C100007832852979%2C100007743493125%2C100007560878802%2C100007353452340%2C100007232911519%2C100006698702670%2C100006548490882%2C100006382444228%2C100006131312466%2C100005510234446%2C100005152236819%2C100005146179667%2C100005053573774&total_count=304&locale=en_US\n",
      "  warnings.warn(\n",
      "C:\\Users\\paper\\Anaconda3\\envs\\scraper\\lib\\site-packages\\facebook_scraper\\facebook_scraper.py:813: UserWarning: Facebook served mbasic/noscript content unexpectedly on https://m.facebook.com/ufi/reaction/profile/browser/fetch/?ft_ent_identifier=10159296885989929&limit=50&shown_ids=100030744740756%2C100001108443061%2C1703516994%2C1432024811%2C719075266%2C666164463%2C538630986&total_count=8&locale=en_US\n",
      "  warnings.warn(\n",
      "C:\\Users\\paper\\Anaconda3\\envs\\scraper\\lib\\site-packages\\facebook_scraper\\facebook_scraper.py:813: UserWarning: Facebook served mbasic/noscript content unexpectedly on https://m.facebook.com/ufi/reaction/profile/browser/fetch/?ft_ent_identifier=10159296694239929&limit=50&shown_ids=100038209599349%2C100022885535562%2C100010906410057%2C100010904624055%2C100009885587834%2C100007743493125%2C100004624004674%2C100003772588237%2C100003158172002%2C100001791198586%2C100001153189280%2C100001108443061%2C100000654968866%2C100000488832592%2C100000404688282%2C100000286595181%2C100000210220603%2C1472087299%2C1450277472%2C1196145953%2C873345376%2C707011732%2C538630986%2C514424549%2C64200526&total_count=26&locale=en_US\n",
      "  warnings.warn(\n",
      "C:\\Users\\paper\\Anaconda3\\envs\\scraper\\lib\\site-packages\\facebook_scraper\\facebook_scraper.py:813: UserWarning: Facebook served mbasic/noscript content unexpectedly on https://m.facebook.com/ufi/reaction/profile/browser/fetch/?ft_ent_identifier=10159296885079929&limit=50&shown_ids=100065547831828%2C100001108443061%2C100000210220603%2C1703516994%2C1480224045%2C1432024811%2C1076154953&total_count=8&locale=en_US\n",
      "  warnings.warn(\n",
      "C:\\Users\\paper\\Anaconda3\\envs\\scraper\\lib\\site-packages\\facebook_scraper\\facebook_scraper.py:813: UserWarning: Facebook served mbasic/noscript content unexpectedly on https://m.facebook.com/ufi/reaction/profile/browser/fetch/?ft_ent_identifier=10159296845229929&limit=50&shown_ids=100038209599349%2C100030744740756%2C100010904624055%2C100007743493125%2C100006902111119%2C100005280765413%2C100003158172002%2C100001874843488%2C100001522195495%2C100001171835455%2C100001153189280%2C100000801732682%2C100000654968866%2C1657307194%2C1621274327%2C1565444963%2C1524881576%2C1480224045%2C1472087299%2C1377560362%2C1364382806%2C1348470658%2C1342627682%2C1282490085%2C1208029400%2C1202761395%2C1081008622%2C1076154953%2C1030478213%2C1002354793%2C797230706%2C794705300%2C741696377%2C740088809%2C724293972%2C708999486%2C660964522%2C631118222%2C620581054%2C620182381%2C547130671%2C514424549%2C502016234&total_count=44&locale=en_US\n",
      "  warnings.warn(\n",
      "C:\\Users\\paper\\Anaconda3\\envs\\scraper\\lib\\site-packages\\facebook_scraper\\facebook_scraper.py:813: UserWarning: Facebook served mbasic/noscript content unexpectedly on https://m.facebook.com/ufi/reaction/profile/browser/fetch/?ft_ent_identifier=10159296819389929&limit=50&shown_ids=100065547831828%2C100038209599349%2C100008030468429%2C100007743493125%2C100004624004674%2C100003158172002%2C100002855232040%2C100001522195495%2C100001153189280%2C100000654968866%2C100000432560183%2C100000404688282%2C100000292123641%2C100000292039592%2C100000117660633%2C1565444963%2C1492960761%2C1472087299%2C1419512177%2C1342627682%2C1282968102%2C1282490085%2C1265046807%2C1208029400%2C1081008622%2C1030478213%2C1002354793%2C797230706%2C782072905%2C708999486%2C707011732%2C657678767%2C528251618%2C513654702%2C502943794%2C64200526&total_count=37&locale=en_US\n",
      "  warnings.warn(\n",
      "C:\\Users\\paper\\Anaconda3\\envs\\scraper\\lib\\site-packages\\facebook_scraper\\facebook_scraper.py:813: UserWarning: Facebook served mbasic/noscript content unexpectedly on https://m.facebook.com/ufi/reaction/profile/browser/fetch/?ft_ent_identifier=10159296832494929&limit=50&shown_ids=100064088803196%2C100008030468429%2C100005077091955%2C100003231308428%2C100001153189280%2C100001108443061%2C100000801732682%2C100000654968866%2C100000296924047%2C100000210220603%2C1565444963%2C1480224045%2C1348470658%2C1081008622%2C714902603%2C538630986&total_count=18&locale=en_US\n",
      "  warnings.warn(\n"
     ]
    },
    {
     "name": "stderr",
     "output_type": "stream",
     "text": [
      "C:\\Users\\paper\\Anaconda3\\envs\\scraper\\lib\\site-packages\\facebook_scraper\\facebook_scraper.py:813: UserWarning: Facebook served mbasic/noscript content unexpectedly on https://m.facebook.com/ufi/reaction/profile/browser/fetch/?ft_ent_identifier=10159296636224929&limit=50&shown_ids=100051266271769%2C100024079080170%2C100005129285601%2C100001153189280%2C100001108443061%2C100000501460369%2C100000488832592%2C100000404688282%2C100000210220603%2C1764397978%2C1515814167%2C1452520893%2C1225960167%2C1154972921%2C1081008622%2C708999486%2C707011732%2C625265313%2C603588507&total_count=20&locale=en_US\n",
      "  warnings.warn(\n",
      "C:\\Users\\paper\\Anaconda3\\envs\\scraper\\lib\\site-packages\\facebook_scraper\\facebook_scraper.py:813: UserWarning: Facebook served mbasic/noscript content unexpectedly on https://m.facebook.com/ufi/reaction/profile/browser/fetch/?ft_ent_identifier=10159296894799929&limit=50&reaction_type=1&shown_ids=100065547831828%2C100001108443061%2C740088809%2C500525775&total_count=5&locale=en_US\n",
      "  warnings.warn(\n",
      "C:\\Users\\paper\\Anaconda3\\envs\\scraper\\lib\\site-packages\\facebook_scraper\\facebook_scraper.py:813: UserWarning: Facebook served mbasic/noscript content unexpectedly on https://m.facebook.com/ufi/reaction/profile/browser/fetch/?ft_ent_identifier=10159296839994929&limit=50&shown_ids=1565444963%2C1432024811%2C1348470658%2C538630986&total_count=5&locale=en_US\n",
      "  warnings.warn(\n",
      "C:\\Users\\paper\\Anaconda3\\envs\\scraper\\lib\\site-packages\\facebook_scraper\\facebook_scraper.py:813: UserWarning: Facebook served mbasic/noscript content unexpectedly on https://m.facebook.com/ufi/reaction/profile/browser/fetch/?ft_ent_identifier=10159296842429929&limit=50&shown_ids=100008030468429%2C100001108443061%2C100000210220603%2C1565444963%2C1432024811%2C538630986&total_count=7&locale=en_US\n",
      "  warnings.warn(\n"
     ]
    },
    {
     "name": "stdout",
     "output_type": "stream",
     "text": [
      "-"
     ]
    },
    {
     "name": "stderr",
     "output_type": "stream",
     "text": [
      "C:\\Users\\paper\\Anaconda3\\envs\\scraper\\lib\\site-packages\\facebook_scraper\\facebook_scraper.py:813: UserWarning: Facebook served mbasic/noscript content unexpectedly on https://m.facebook.com/ufi/reaction/profile/browser/fetch/?ft_ent_identifier=10159295174099929&limit=50&shown_ids=635425655%2C630998940%2C617989534%2C594931087%2C584509735%2C582629700%2C535860808%2C529575736%2C517629427%2C507657259%2C182000093%2C132400077%2C44901466%2C8646592%2C100000163603321%2C100000113071184%2C100000008378959%2C1844563361%2C1829045758%2C1822957928%2C1752020961%2C1593322113%2C1577906890%2C1570271801%2C1560566948%2C1558430664%2C1551734865%2C1542983339%2C1528757917%2C1512451696%2C1475241298%2C1452504767%2C1446391256%2C1417189724%2C1415922400%2C1411584620%2C1375167460%2C1370813082%2C1366871794%2C1335450471%2C1291266298%2C1258914799%2C1250856517%2C1238790912%2C1234931956%2C1234847153%2C1188853865%2C1181139128%2C1126076309%2C1116320884%2C1109480668%2C1105358797%2C1073397080%2C1066880183%2C1062171742%2C1020696639%2C1015020011%2C1000148698%2C719522154%2C708999486%2C682041731%2C680141074%2C648245674%2C100068849211395%2C100066791645348%2C100065896401146%2C100056818728877%2C100053177625057%2C100052028179842%2C100050179702615%2C100040635675703%2C100026411831808%2C100022462863046%2C100014763274258%2C100013389363161%2C100013366320919%2C100013294151290%2C100010904624055%2C100010842751930%2C100009708825821%2C100009525953394%2C100007521493521%2C100006821569064%2C100006464894526%2C100006131312466%2C100005688180038%2C100005053573774%2C100004592044268%2C100004399742544%2C100003978636414%2C100003908596534%2C100003352059785%2C100003155491589%2C100003013385052%2C100002915119344%2C100002718845500%2C100002666179277%2C100002282221479%2C100001902767692%2C100001782006769%2C100001508661410%2C100001080538582%2C100001054635181%2C100000911027189%2C100000864094805%2C100000817423701%2C100000626860295%2C100000570541440%2C100000488832592%2C100000433274242%2C100000238007521%2C100000206367865%2C100000189501285&total_count=114&locale=en_US\n",
      "  warnings.warn(\n"
     ]
    },
    {
     "name": "stdout",
     "output_type": "stream",
     "text": [
      "-"
     ]
    },
    {
     "name": "stderr",
     "output_type": "stream",
     "text": [
      "C:\\Users\\paper\\Anaconda3\\envs\\scraper\\lib\\site-packages\\facebook_scraper\\facebook_scraper.py:813: UserWarning: Facebook served mbasic/noscript content unexpectedly on https://m.facebook.com/ufi/reaction/profile/browser/fetch/?ft_ent_identifier=10159290089404929&limit=50&shown_ids=1165906309%2C1164630241%2C1164122563%2C1162640062%2C1127198892%2C1126076309%2C1111023988%2C1108901746%2C1066430572%2C1061293502%2C1059945053%2C1000148698%2C819119221%2C751726157%2C726784901%2C726500528%2C679219086%2C676480083%2C665994871%2C646320155%2C645353964%2C634567956%2C625265313%2C594931087%2C587836152%2C583600410%2C577592253%2C559488727%2C559456673%2C515935771%2C510998334%2C182000093%2C6905458%2C100000541273325%2C100000517990671%2C100000488832592%2C100000479651561%2C100000433274242%2C100000412582698%2C100000239275894%2C100000220565458%2C100000185389312%2C100000008378959%2C100000007298099%2C1825438329%2C1799956345%2C1764397978%2C1703116150%2C1665489547%2C1663913296%2C1633489571%2C1622557777%2C1573517170%2C1558430664%2C1548593407%2C1543176853%2C1539226215%2C1538850439%2C1512451696%2C1505401615%2C1452875742%2C1452504767%2C1445945008%2C1418083845%2C1417189724%2C1416755848%2C1415920365%2C1402419482%2C1399009275%2C1392596447%2C1391696494%2C1348470658%2C1340271152%2C1323862011%2C1312394051%2C1307467299%2C1283556546%2C1267511679%2C1262861781%2C1241886065%2C1228787113%2C1174615019%2C100052105234051%2C100046174981550%2C100040635675703%2C100036090455501%2C100030744740756%2C100020966076028%2C100016465518540%2C100015009853383%2C100014763274258%2C100014262544054%2C100013279990972%2C100011791534809%2C100011785881189%2C100010701512894%2C100009799397953%2C100009708825821%2C100009700267356%2C100009088447640%2C100008482086057%2C100007832852979%2C100007232911519%2C100006524115078%2C100006131312466%2C100005688180038%2C100005385930875%2C100004995930758%2C100004399742544%2C100004336662048%2C100004217205661%2C100004164216237%2C100004099838770%2C100004093536200%2C100004060340414%2C100003908596534%2C100003469156797%2C100003294200923%2C100002915119344%2C100002718845500%2C100002666179277%2C100002246516551%2C100001731451369%2C100001435521513%2C100001242337585%2C100001080538582%2C100000864094805%2C100000760222526%2C100000665014438%2C100000664053919%2C100000646257438&total_count=133&locale=en_US\n",
      "  warnings.warn(\n",
      "C:\\Users\\paper\\Anaconda3\\envs\\scraper\\lib\\site-packages\\facebook_scraper\\facebook_scraper.py:813: UserWarning: Facebook served mbasic/noscript content unexpectedly on https://m.facebook.com/ufi/reaction/profile/browser/fetch/?ft_ent_identifier=10159295157629929&limit=50&shown_ids=100026521458367%2C100008717688627%2C100006188891367%2C100005385930875%2C100000477311829%2C100000030173961%2C1764397978%2C1558430664%2C1492960761%2C1323862011%2C1080602350%2C1058565382%2C648105791%2C548370536&total_count=15&locale=en_US\n",
      "  warnings.warn(\n",
      "C:\\Users\\paper\\Anaconda3\\envs\\scraper\\lib\\site-packages\\facebook_scraper\\facebook_scraper.py:813: UserWarning: Facebook served mbasic/noscript content unexpectedly on https://m.facebook.com/ufi/reaction/profile/browser/fetch/?ft_ent_identifier=10159295185784929&limit=50&shown_ids=100068442565240%2C100058996912322%2C100026521458367%2C100001141995030%2C100000270133987%2C1558430664%2C648105791%2C570010234&total_count=9&locale=en_US\n",
      "  warnings.warn(\n",
      "C:\\Users\\paper\\Anaconda3\\envs\\scraper\\lib\\site-packages\\facebook_scraper\\facebook_scraper.py:813: UserWarning: Facebook served mbasic/noscript content unexpectedly on https://m.facebook.com/ufi/reaction/profile/browser/fetch/?ft_ent_identifier=10159295168374929&limit=50&reaction_type=1&shown_ids=100006188891367%2C1323862011%2C1203054940%2C1066430572%2C8600337&total_count=6&locale=en_US\n",
      "  warnings.warn(\n",
      "C:\\Users\\paper\\Anaconda3\\envs\\scraper\\lib\\site-packages\\facebook_scraper\\facebook_scraper.py:813: UserWarning: Facebook served mbasic/noscript content unexpectedly on https://m.facebook.com/ufi/reaction/profile/browser/fetch/?ft_ent_identifier=10159295182549929&limit=50&shown_ids=100000404688282%2C1492960761%2C676480083%2C648105791%2C634567956%2C548370536&total_count=7&locale=en_US\n",
      "  warnings.warn(\n",
      "C:\\Users\\paper\\Anaconda3\\envs\\scraper\\lib\\site-packages\\facebook_scraper\\facebook_scraper.py:813: UserWarning: Facebook served mbasic/noscript content unexpectedly on https://m.facebook.com/ufi/reaction/profile/browser/fetch/?ft_ent_identifier=10159295204074929&limit=50&shown_ids=1080602350%2C648105791%2C634567956&total_count=4&locale=en_US\n",
      "  warnings.warn(\n"
     ]
    },
    {
     "name": "stdout",
     "output_type": "stream",
     "text": [
      "--"
     ]
    },
    {
     "name": "stderr",
     "output_type": "stream",
     "text": [
      "C:\\Users\\paper\\Anaconda3\\envs\\scraper\\lib\\site-packages\\facebook_scraper\\facebook_scraper.py:813: UserWarning: Facebook served mbasic/noscript content unexpectedly on https://m.facebook.com/ufi/reaction/profile/browser/fetch/?ft_ent_identifier=10159293449434929&limit=50&reaction_type=1&shown_ids=100014763274258%2C1216202480%2C1000148698&total_count=4&locale=en_US\n",
      "  warnings.warn(\n"
     ]
    },
    {
     "name": "stdout",
     "output_type": "stream",
     "text": [
      "-"
     ]
    },
    {
     "name": "stderr",
     "output_type": "stream",
     "text": [
      "C:\\Users\\paper\\Anaconda3\\envs\\scraper\\lib\\site-packages\\facebook_scraper\\facebook_scraper.py:813: UserWarning: Facebook served mbasic/noscript content unexpectedly on https://m.facebook.com/ufi/reaction/profile/browser/fetch/?ft_ent_identifier=10159292542539929&limit=50&shown_ids=1282968102%2C1280633860%2C1234931956%2C1233481658%2C1118041255%2C1105358797%2C1088382374%2C1085276299%2C1072975874%2C1050246626%2C1022453180%2C1000148698%2C852605460%2C805011977%2C773022698%2C665994871%2C646320155%2C594931087%2C552534049%2C548699206%2C546837257%2C535166653%2C526492171%2C518071424%2C506192955%2C218400239%2C182000093%2C64200762%2C44901466%2C9219610%2C2010243%2C100068849211395%2C100063577532886%2C100052105234051%2C100051097113017%2C100022036608679%2C100021945157305%2C100009708825821%2C100008451240394%2C100008247523797%2C100008159290778%2C100006131312466%2C100006127455161%2C100005385930875%2C100004399742544%2C100003211998416%2C100002547836331%2C100001286282692%2C100001268333303%2C100001260344262%2C100001006170724%2C100000867657712%2C100000864094805%2C100000738041636%2C100000665014438%2C100000537542706%2C100000488832592%2C100000239275894%2C100000220565458%2C100000211595626%2C100000206367865%2C100000182634730%2C100000134290861%2C100000133524846%2C100000022512564%2C1792120614%2C1717959295%2C1669622110%2C1579931704%2C1573517170%2C1457953310%2C1454443284%2C1446391256%2C1418200193%2C1415920365%2C1390230764%2C1375167460%2C1335450471%2C1326262942%2C1301589289&total_count=81&locale=en_US\n",
      "  warnings.warn(\n",
      "C:\\Users\\paper\\Anaconda3\\envs\\scraper\\lib\\site-packages\\facebook_scraper\\facebook_scraper.py:813: UserWarning: Facebook served mbasic/noscript content unexpectedly on https://m.facebook.com/ufi/reaction/profile/browser/fetch/?ft_ent_identifier=10159293620944929&limit=50&shown_ids=100006131312466%2C1390230764%2C1323862011%2C1159074986%2C1024685567%2C546837257&total_count=7&locale=en_US\n",
      "  warnings.warn(\n",
      "C:\\Users\\paper\\Anaconda3\\envs\\scraper\\lib\\site-packages\\facebook_scraper\\facebook_scraper.py:813: UserWarning: Facebook served mbasic/noscript content unexpectedly on https://m.facebook.com/ufi/reaction/profile/browser/fetch/?ft_ent_identifier=10159293549004929&limit=50&shown_ids=100052081596631%2C100010968707242%2C100006131312466%2C100004963890286%2C1390230764%2C1159074986%2C621453615&total_count=8&locale=en_US\n",
      "  warnings.warn(\n",
      "C:\\Users\\paper\\Anaconda3\\envs\\scraper\\lib\\site-packages\\facebook_scraper\\facebook_scraper.py:813: UserWarning: Facebook served mbasic/noscript content unexpectedly on https://m.facebook.com/ufi/reaction/profile/browser/fetch/?ft_ent_identifier=10159294023294929&limit=50&reaction_type=1&shown_ids&total_count=1&locale=en_US\n",
      "  warnings.warn(\n",
      "C:\\Users\\paper\\Anaconda3\\envs\\scraper\\lib\\site-packages\\facebook_scraper\\facebook_scraper.py:813: UserWarning: Facebook served mbasic/noscript content unexpectedly on https://m.facebook.com/ufi/reaction/profile/browser/fetch/?ft_ent_identifier=10159293641404929&limit=50&reaction_type=1&shown_ids=100010968707242%2C100006131312466%2C1390230764%2C1024685567%2C773300526&total_count=6&locale=en_US\n",
      "  warnings.warn(\n",
      "C:\\Users\\paper\\Anaconda3\\envs\\scraper\\lib\\site-packages\\facebook_scraper\\facebook_scraper.py:813: UserWarning: Facebook served mbasic/noscript content unexpectedly on https://m.facebook.com/ufi/reaction/profile/browser/fetch/?ft_ent_identifier=10159294550954929&limit=50&shown_ids=100010968707242%2C1042485693%2C518071424&total_count=4&locale=en_US\n",
      "  warnings.warn(\n"
     ]
    },
    {
     "name": "stdout",
     "output_type": "stream",
     "text": [
      "-"
     ]
    },
    {
     "name": "stderr",
     "output_type": "stream",
     "text": [
      "C:\\Users\\paper\\Anaconda3\\envs\\scraper\\lib\\site-packages\\facebook_scraper\\facebook_scraper.py:813: UserWarning: Facebook served mbasic/noscript content unexpectedly on https://m.facebook.com/ufi/reaction/profile/browser/fetch/?ft_ent_identifier=10159293955209929&limit=50&shown_ids=100011830417738%2C1057117930%2C648105791&total_count=4&locale=en_US\n",
      "  warnings.warn(\n"
     ]
    },
    {
     "name": "stdout",
     "output_type": "stream",
     "text": [
      "-"
     ]
    },
    {
     "name": "stderr",
     "output_type": "stream",
     "text": [
      "C:\\Users\\paper\\Anaconda3\\envs\\scraper\\lib\\site-packages\\facebook_scraper\\facebook_scraper.py:813: UserWarning: Facebook served mbasic/noscript content unexpectedly on https://m.facebook.com/ufi/reaction/profile/browser/fetch/?ft_ent_identifier=10159293180859929&limit=50&shown_ids=1558430664%2C1548593407%2C1483423985%2C1446391256%2C1417189724%2C1415920365%2C1343555680%2C1312394051%2C1304950056%2C1268178001%2C1085262698%2C1062171742%2C1061293502%2C1000148698%2C827810908%2C773022698%2C762330296%2C729333967%2C718214762%2C714762255%2C666164463%2C657346562%2C646320155%2C569196582%2C550259265%2C548699206%2C182000093%2C100068849211395%2C100051097113017%2C100025147410064%2C100021945157305%2C100014763274258%2C100012585970493%2C100010904624055%2C100010701512894%2C100009708825821%2C100008155242602%2C100007400676585%2C100007281096463%2C100006484977802%2C100006131312466%2C100006127455161%2C100005608246468%2C100004399742544%2C100004354118954%2C100003233407630%2C100003160547271%2C100002443863615%2C100001777771522%2C100000507701510%2C100000501669447%2C100000488832592%2C100000463097984%2C100000455628345%2C100000448577278%2C100000337787038%2C100000314178109%2C100000269441193%2C100000248382062%2C100000206844128%2C100000153613896%2C100000135453235%2C100000124977223%2C100000122271567%2C100000113071184%2C100000099140442%2C100000008378959%2C100000006687303%2C1844563361%2C1806688526%2C1793377058%2C1780963521%2C1681413190%2C1661300318%2C1661100074%2C1579931704&total_count=77&locale=en_US\n",
      "  warnings.warn(\n"
     ]
    },
    {
     "name": "stdout",
     "output_type": "stream",
     "text": [
      "---"
     ]
    },
    {
     "name": "stderr",
     "output_type": "stream",
     "text": [
      "C:\\Users\\paper\\Anaconda3\\envs\\scraper\\lib\\site-packages\\facebook_scraper\\facebook_scraper.py:813: UserWarning: Facebook served mbasic/noscript content unexpectedly on https://m.facebook.com/ufi/reaction/profile/browser/fetch/?ft_ent_identifier=10159292713714929&limit=50&shown_ids=64200442%2C64200212%2C41006538%2C39507034%2C10031127%2C8600337%2C2403612%2C2312215%2C2300583%2C703859551%2C687257575%2C681363970%2C680141074%2C675360956%2C657346562%2C656674887%2C652886440%2C651903878%2C649488968%2C645405459%2C635961568%2C623407441%2C619816735%2C605272029%2C599300747%2C596075825%2C594118016%2C593444929%2C590937653%2C589686432%2C584153229%2C583821225%2C582347541%2C580888099%2C579960008%2C563929083%2C559435915%2C556828133%2C556084283%2C547760044%2C536610170%2C532925739%2C527227287%2C523230620%2C516278585%2C515397937%2C513768548%2C511330652%2C508449159%2C506903566%2C505958610%2C500872669%2C169400595%2C132400077%2C72202772%2C64200762%2C1129830290%2C1114929791%2C1106710416%2C1081782859%2C1074186075%2C1073444182%2C1066833553%2C1065410631%2C1040304148%2C1035489497%2C1029522326%2C1029377932%2C1023443837%2C1021184932%2C1018533855%2C1010277184%2C1000629248%2C1000148698%2C871740205%2C845250152%2C831151165%2C806672298%2C802450482%2C791551068%2C777942857%2C777443008%2C773022698%2C772616977%2C770544531%2C770159364%2C764089722%2C759525483%2C759445156%2C746516756%2C740561822%2C728188933%2C726784901%2C725545560%2C722528160%2C721360058%2C720100797%2C719522154%2C714792325%2C712736918%2C708999486%2C707391874%2C705844166%2C1420221669%2C1418083845%2C1416273432%2C1415922400%2C1415920365%2C1410391156%2C1391696494%2C1388741891%2C1380594544%2C1367130320%2C1352740023%2C1351868993%2C1349283915%2C1346464781%2C1337691939%2C1335450471%2C1326706960%2C1324532648%2C1313574036%2C1312394051%2C1302917326%2C1295382189%2C1287240517%2C1286353043%2C1285565135%2C1282968102%2C1280236540%2C1278774964%2C1272655494%2C1261744999%2C1255712169%2C1255500939%2C1253327516%2C1246273860%2C1228787113%2C1217735392%2C1216448380%2C1215305552%2C1212286942%2C1200016164%2C1188054637%2C1182330021%2C1180244861%2C1170109078%2C1161530159%2C1154587581%2C1143610316%2C1140682935%2C100000038544591%2C100000036199446%2C100000016131234%2C100000008378959%2C100000002555844%2C1845511717%2C1844313441%2C1843346613%2C1800954786%2C1787733294%2C1741548639%2C1740231072%2C1715026507%2C1709182789%2C1682455647%2C1676967144%2C1673031960%2C1653265461%2C1633150750%2C1626775665%2C1619378647%2C1600900770%2C1577055582%2C1575554654%2C1571647286%2C1560080481%2C1553546644%2C1530759839%2C1524881576%2C1512451696%2C1505473444%2C1498951077%2C1490993923%2C1475241298%2C1466569801%2C1464608625%2C1460780878%2C1460374829%2C1459819629%2C1454690514%2C1452504767%2C1451443594%2C1447176701%2C1439836978%2C1435569419%2C1428297693%2C1425000148%2C1422234873%2C100001557432313%2C100001529761242%2C100001518423511%2C100001436735286%2C100001360795918%2C100001285190873%2C100001279309811%2C100001278643198%2C100001245821397%2C100001186502607%2C100001144755657%2C100001121808879%2C100001054635181%2C100001029523134%2C100001028739159%2C100000902492003%2C100000864094805%2C100000808583825%2C100000789092857%2C100000665014438%2C100000664981634%2C100000646257438%2C100000535860218%2C100000518402938%2C100000517990671%2C100000504665305%2C100000407651191%2C100000401165226%2C100000376601268%2C100000363274652%2C100000357337780%2C100000344113525%2C100000342470281%2C100000316084895%2C100000255220635%2C100000210715332%2C100000207815681%2C100000202800437%2C100000189501285%2C100000182634730%2C100000133372166%2C100000130398721%2C100000122271567%2C100000113071184%2C100000112836901%2C100000100313515%2C100000090112771%2C100000072285623%2C100000057886722%2C100006885513618%2C100006611042120%2C100006497975654%2C100006484977802%2C100006131312466%2C100006127455161%2C100005842712359%2C100005717263135%2C100005593057926%2C100005510234446%2C100005385930875%2C100005152236819%2C100005060890853%2C100005060355184%2C100004984994495%2C100004630780552%2C100004608769125%2C100004514383495%2C100004399742544%2C100004336662048%2C100004273294906%2C100004037837556%2C100004011377715%2C100003516813604%2C100003391371911%2C100003300010687%2C100003211998416%2C100003204961413%2C100003155491589%2C100002959513797%2C100002929887202%2C100002818222236%2C100002750268495%2C100002718845500%2C100002666179277%2C100002649940533%2C100002606920370%2C100002559417106%2C100002484852911%2C100002388036058%2C100002317264183%2C100002238113899%2C100002146146704%2C100001844385256%2C100001776159165%2C100001719871665%2C100001709232512%2C100001692226318%2C100001567680102%2C156761491054246%2C116947718366316%2C100068849211395%2C100068625022690%2C100068442565240%2C100068013932251%2C100067662436017%2C100064809890226%2C100057305184892%2C100053764266125%2C100052401860812%2C100051706892211%2C100050179702615%2C100050045271095%2C100046494150526%2C100045503616504%2C100045149915066%2C100043699397123%2C100042512897718%2C100039401612878%2C100038028122418%2C100034534961968%2C100034255502109%2C100030824959208%2C100030744740756%2C100028401554270%2C100027078428729%2C100026521458367%2C100026137098165%2C100025070601821%2C100024295846058%2C100023192507007%2C100022364929368%2C100021962821453%2C100021945157305%2C100017526672865%2C100016202196706%2C100015258965496%2C100015009853383%2C100014763274258%2C100012771367471%2C100012619331033%2C100012415121072%2C100011473162076%2C100009734865361%2C100009708825821%2C100008950084040%2C100008627108461%2C100008155242602%2C100007760028908&total_count=350&locale=en_US\n",
      "  warnings.warn(\n",
      "C:\\Users\\paper\\Anaconda3\\envs\\scraper\\lib\\site-packages\\facebook_scraper\\facebook_scraper.py:813: UserWarning: Facebook served mbasic/noscript content unexpectedly on https://m.facebook.com/ufi/reaction/profile/browser/fetch/?ft_ent_identifier=10159292962224929&limit=50&shown_ids=100030744740756%2C100027949581108%2C100008009291077%2C100006131312466%2C100005385930875%2C100000404688282%2C1154587581%2C1042485693%2C535860808&total_count=10&locale=en_US\n",
      "  warnings.warn(\n",
      "C:\\Users\\paper\\Anaconda3\\envs\\scraper\\lib\\site-packages\\facebook_scraper\\facebook_scraper.py:813: UserWarning: Facebook served mbasic/noscript content unexpectedly on https://m.facebook.com/ufi/reaction/profile/browser/fetch/?ft_ent_identifier=10159293596349929&limit=50&shown_ids=1809975004%2C1154587581%2C535860808%2C514424549&total_count=5&locale=en_US\n",
      "  warnings.warn(\n",
      "C:\\Users\\paper\\Anaconda3\\envs\\scraper\\lib\\site-packages\\facebook_scraper\\facebook_scraper.py:813: UserWarning: Facebook served mbasic/noscript content unexpectedly on https://m.facebook.com/ufi/reaction/profile/browser/fetch/?ft_ent_identifier=10159292818404929&limit=50&shown_ids=100063599107738%2C100030744740756%2C100007760028908%2C100005385930875%2C100001829257147%2C100001382178976%2C100001339935553%2C100001153189280%2C100000844372364%2C100000520742938%2C1787733294%2C1455317809%2C1423352754%2C1312394051%2C1195063750%2C1154587581%2C1081008622%2C1074186075%2C1017795001%2C1013096031%2C729333967%2C707391874%2C645971325%2C614918901%2C516278585%2C514424549&total_count=27&locale=en_US\n",
      "  warnings.warn(\n",
      "C:\\Users\\paper\\Anaconda3\\envs\\scraper\\lib\\site-packages\\facebook_scraper\\facebook_scraper.py:813: UserWarning: Facebook served mbasic/noscript content unexpectedly on https://m.facebook.com/ufi/reaction/profile/browser/fetch/?ft_ent_identifier=10159292733189929&limit=50&shown_ids=100008009291077%2C100007760028908%2C100006131312466%2C100005385930875%2C100003946879613%2C100001478277833%2C100000634663918%2C100000022512564%2C1809975004%2C1477701250%2C1312394051%2C1154587581%2C1149253938%2C1138890970%2C1042485693%2C737828179%2C707391874%2C702256477%2C656674887%2C567495057%2C538078978%2C513900426%2C43803902&total_count=24&locale=en_US\n",
      "  warnings.warn(\n",
      "C:\\Users\\paper\\Anaconda3\\envs\\scraper\\lib\\site-packages\\facebook_scraper\\facebook_scraper.py:813: UserWarning: Facebook served mbasic/noscript content unexpectedly on https://m.facebook.com/ufi/reaction/profile/browser/fetch/?ft_ent_identifier=10159292815664929&limit=50&shown_ids=100007760028908%2C100001478277833%2C100000634663918%2C100000022512564%2C1809975004%2C1312394051%2C1154587581%2C729333967%2C535860808&total_count=10&locale=en_US\n",
      "  warnings.warn(\n",
      "C:\\Users\\paper\\Anaconda3\\envs\\scraper\\lib\\site-packages\\facebook_scraper\\facebook_scraper.py:813: UserWarning: Facebook served mbasic/noscript content unexpectedly on https://m.facebook.com/ufi/reaction/profile/browser/fetch/?ft_ent_identifier=10159292737069929&limit=50&shown_ids=100010904624055%2C100007760028908%2C100006131312466%2C100001478277833%2C100000634663918%2C100000512304278%2C100000419347265%2C100000022512564%2C1809975004%2C1573517170%2C1477701250%2C1154587581%2C1138890970%2C1081782859%2C1042485693%2C737828179%2C708999486%2C707391874%2C702256477%2C656674887%2C567495057%2C513900426&total_count=23&locale=en_US\n",
      "  warnings.warn(\n"
     ]
    },
    {
     "name": "stderr",
     "output_type": "stream",
     "text": [
      "C:\\Users\\paper\\Anaconda3\\envs\\scraper\\lib\\site-packages\\facebook_scraper\\facebook_scraper.py:813: UserWarning: Facebook served mbasic/noscript content unexpectedly on https://m.facebook.com/ufi/reaction/profile/browser/fetch/?ft_ent_identifier=10159293117814929&limit=50&shown_ids=1154587581&total_count=2&locale=en_US\n",
      "  warnings.warn(\n",
      "C:\\Users\\paper\\Anaconda3\\envs\\scraper\\lib\\site-packages\\facebook_scraper\\facebook_scraper.py:813: UserWarning: Facebook served mbasic/noscript content unexpectedly on https://m.facebook.com/ufi/reaction/profile/browser/fetch/?ft_ent_identifier=10159293296069929&limit=50&shown_ids=100002651622242%2C100000844372364%2C1282968102%2C1154587581&total_count=5&locale=en_US\n",
      "  warnings.warn(\n",
      "C:\\Users\\paper\\Anaconda3\\envs\\scraper\\lib\\site-packages\\facebook_scraper\\facebook_scraper.py:813: UserWarning: Facebook served mbasic/noscript content unexpectedly on https://m.facebook.com/ufi/reaction/profile/browser/fetch/?ft_ent_identifier=10159294505599929&limit=50&reaction_type=1&shown_ids&total_count=1&locale=en_US\n",
      "  warnings.warn(\n",
      "C:\\Users\\paper\\Anaconda3\\envs\\scraper\\lib\\site-packages\\facebook_scraper\\facebook_scraper.py:813: UserWarning: Facebook served mbasic/noscript content unexpectedly on https://m.facebook.com/ufi/reaction/profile/browser/fetch/?ft_ent_identifier=10159292742044929&limit=50&shown_ids=100063599107738%2C100007760028908%2C100007458607840%2C100001153189280%2C100000892817005%2C100000720998686%2C100000634663918%2C100000155211509%2C1776322951%2C1154587581%2C1138890970%2C1106493520%2C1076154953%2C1042485693%2C656674887%2C570010234&total_count=17&locale=en_US\n",
      "  warnings.warn(\n",
      "C:\\Users\\paper\\Anaconda3\\envs\\scraper\\lib\\site-packages\\facebook_scraper\\facebook_scraper.py:813: UserWarning: Facebook served mbasic/noscript content unexpectedly on https://m.facebook.com/ufi/reaction/profile/browser/fetch/?ft_ent_identifier=10159292740289929&limit=50&shown_ids=100030744740756%2C100007760028908%2C100001153189280%2C100000634663918%2C1776322951%2C1195063750%2C1154587581%2C1106493520%2C751726157%2C645353964&total_count=11&locale=en_US\n",
      "  warnings.warn(\n",
      "C:\\Users\\paper\\Anaconda3\\envs\\scraper\\lib\\site-packages\\facebook_scraper\\facebook_scraper.py:813: UserWarning: Facebook served mbasic/noscript content unexpectedly on https://m.facebook.com/ufi/reaction/profile/browser/fetch/?ft_ent_identifier=10159292856844929&limit=50&reaction_type=1&shown_ids=100000022512564%2C1154587581&total_count=3&locale=en_US\n",
      "  warnings.warn(\n",
      "C:\\Users\\paper\\Anaconda3\\envs\\scraper\\lib\\site-packages\\facebook_scraper\\facebook_scraper.py:813: UserWarning: Facebook served mbasic/noscript content unexpectedly on https://m.facebook.com/ufi/reaction/profile/browser/fetch/?ft_ent_identifier=10159292872644929&limit=50&shown_ids=100007760028908%2C100006131312466%2C100000022512564%2C1154587581%2C1042485693%2C706288022%2C567495057&total_count=8&locale=en_US\n",
      "  warnings.warn(\n"
     ]
    },
    {
     "name": "stdout",
     "output_type": "stream",
     "text": [
      "-"
     ]
    },
    {
     "name": "stderr",
     "output_type": "stream",
     "text": [
      "C:\\Users\\paper\\Anaconda3\\envs\\scraper\\lib\\site-packages\\facebook_scraper\\facebook_scraper.py:813: UserWarning: Facebook served mbasic/noscript content unexpectedly on https://m.facebook.com/ufi/reaction/profile/browser/fetch/?ft_ent_identifier=10159292596699929&limit=50&shown_ids=605401967%2C584050209%2C565961923%2C528839275%2C526363134%2C100068849211395%2C100019087817144%2C100014763274258%2C100013679269500%2C100013294151290%2C100011544485333%2C100010904624055%2C100009734865361%2C100009429615860%2C100008198358687%2C100006131312466%2C100006127455161%2C100004273294906%2C100004132030957%2C100003885181198%2C100003395613724%2C100003013385052%2C100002631252758%2C100002103184630%2C100001021371036%2C100000895586282%2C100000874714660%2C100000524769172%2C100000251970813%2C100000146544865%2C1827872010%2C1792120614%2C1637850962%2C1622557777%2C1587282471%2C1581116573%2C1465154543%2C1445862019%2C1412660841%2C1364383523%2C1361782576%2C1358455798%2C1326262942%2C1293927251%2C1238228443%2C1159042987%2C1088030248%2C1066430572%2C1042707401%2C778418432%2C728164145%2C679852283%2C655398889%2C615466764&total_count=55&locale=en_US\n",
      "  warnings.warn(\n"
     ]
    },
    {
     "name": "stdout",
     "output_type": "stream",
     "text": [
      "-"
     ]
    },
    {
     "name": "stderr",
     "output_type": "stream",
     "text": [
      "C:\\Users\\paper\\Anaconda3\\envs\\scraper\\lib\\site-packages\\facebook_scraper\\facebook_scraper.py:813: UserWarning: Facebook served mbasic/noscript content unexpectedly on https://m.facebook.com/ufi/reaction/profile/browser/fetch/?ft_ent_identifier=10159292070799929&limit=50&shown_ids=593783840%2C590937653%2C579960008%2C556084283%2C553251881%2C547760044%2C535860808%2C529575736%2C517629427%2C182000093%2C132400077%2C31601746%2C23805516%2C16924997%2C100000178438269%2C100000176618274%2C100000113071184%2C100000105655428%2C100000022512564%2C100000008378959%2C1822957928%2C1809975004%2C1790839288%2C1651411757%2C1650737417%2C1577906890%2C1570271801%2C1551734865%2C1542685222%2C1475241298%2C1466825310%2C1446391256%2C1419652611%2C1417189724%2C1415922400%2C1389595014%2C1379755854%2C1346675655%2C1345582102%2C1340299106%2C1339446339%2C1335450471%2C1291266298%2C1267155216%2C1258914799%2C1250856517%2C1188853865%2C1118041255%2C1116320884%2C1066880183%2C1062171742%2C1015020011%2C1010277184%2C1000148698%2C776452537%2C712736918%2C708999486%2C686484600%2C682041731%2C676480083%2C664570020%2C617989534%2C610662567%2C100053177625057%2C100052028179842%2C100051916747479%2C100051097113017%2C100040635675703%2C100027550749199%2C100027290045798%2C100026023818350%2C100023192507007%2C100015009853383%2C100014763274258%2C100013294151290%2C100010842751930%2C100009708825821%2C100009525953394%2C100009512721444%2C100009496308456%2C100008917982745%2C100007760028908%2C100006821569064%2C100006464894526%2C100006131312466%2C100005845175751%2C100005688180038%2C100005053573774%2C100004606022781%2C100004592044268%2C100004399742544%2C100003711575069%2C100003305608201%2C100003013385052%2C100002246516551%2C100001952888606%2C100001782006769%2C100001650311786%2C100001626275949%2C100001596896575%2C100001081406428%2C100001006170724%2C100000864094805%2C100000817423701%2C100000760222526%2C100000758510166%2C100000646257438%2C100000634830560%2C100000488832592%2C100000433274242%2C100000238007521%2C100000189501285&total_count=113&locale=en_US\n",
      "  warnings.warn(\n"
     ]
    },
    {
     "name": "stdout",
     "output_type": "stream",
     "text": [
      "-\n",
      "post 650 collected at 10:24:49\n",
      "post datetime at 2021-08-30 23:50:17\n",
      "Getting posts 601 - 650 took 101.0 minutes and 37.53 seconds\n",
      "178 days scraped out of 725 days for alaska.dhss\n"
     ]
    },
    {
     "name": "stderr",
     "output_type": "stream",
     "text": [
      "C:\\Users\\paper\\Anaconda3\\envs\\scraper\\lib\\site-packages\\facebook_scraper\\facebook_scraper.py:813: UserWarning: Facebook served mbasic/noscript content unexpectedly on https://m.facebook.com/ufi/reaction/profile/browser/fetch/?ft_ent_identifier=10159246492934929&limit=50&shown_ids=1604573210%2C1558430664%2C1475241298%2C1418083845%2C1417656689%2C1390942784%2C1388257741%2C1370895701%2C1357316667%2C1330137384%2C1306750504%2C1303853077%2C1289171783%2C1287301539%2C1272216755%2C1242231759%2C1234847153%2C1200632953%2C1187887955%2C1146614795%2C1143864098%2C1110534927%2C1070000226%2C1030436720%2C1009699233%2C1000148698%2C768424073%2C750118279%2C705467992%2C636755378%2C626183265%2C616495730%2C593783840%2C593090335%2C587208677%2C572745729%2C527278645%2C100003500856951%2C100003493042791%2C100003157172522%2C100003152741385%2C100003108674822%2C100002915119344%2C100002600629644%2C100002393325392%2C100002297029372%2C100002238113899%2C100002211360344%2C100002200583963%2C100002190974441%2C100002050650693%2C100001933436029%2C100001719291200%2C100001644858330%2C100001619522299%2C100001505571348%2C100001448604949%2C100001249644077%2C100001169013780%2C100001116701554%2C100001032812513%2C100000973460288%2C100000926157052%2C100000868426143%2C100000864094805%2C100000686356373%2C100000638945291%2C100000556489164%2C100000524038882%2C100000349730067%2C100000254862548%2C100000216993982%2C100000197164406%2C100000155024242%2C100000129911028%2C100000128694990%2C100000116218117%2C100000021063675%2C1838119427%2C1789334206%2C1781166109%2C1735527631%2C1680284654%2C1673776111%2C1663128848%2C100026964464544%2C100025810999133%2C100025560092330%2C100025403540074%2C100025384902768%2C100025012639827%2C100022559715750%2C100018929051466%2C100015961627308%2C100015110778522%2C100014850908048%2C100014763274258%2C100014686355756%2C100014363146076%2C100013888334577%2C100013210680486%2C100012138199217%2C100011347326494%2C100011316520607%2C100010927300946%2C100010610475125%2C100010016553896%2C100009869163022%2C100009256531825%2C100009250280911%2C100008951974654%2C100008806575871%2C100008712764203%2C100008074661772%2C100007924359118%2C100007605096182%2C100007459441528%2C100007354663449%2C100007257318760%2C100007206367304%2C100006924529143%2C100005826942016%2C100005825982090%2C100005644727180%2C100005510234446%2C100005485955030%2C100005116579486%2C100005070910405%2C100004653961138%2C100004634082256%2C100004528865342%2C100004519992064%2C100004096144676%2C100003775087260%2C100180098011463%2C100072462001908%2C100071492093736%2C100071294466097%2C100070728728835%2C100070632499878%2C100069954697510%2C100069584221078%2C100068951942752%2C100068625022690%2C100067742563255%2C100066587071148%2C100065770686596%2C100064162599738%2C100064152583546%2C100062670128418%2C100062372083127%2C100062160465644%2C100062148007859%2C100061013705312%2C100060762759228%2C100058800451718%2C100057412937108%2C100057305184892%2C100057279080195%2C100056270238008%2C100056133164664%2C100056098741369%2C100055459746628%2C100054637217679%2C100054618696659%2C100052492710601%2C100052401669051%2C100051278351417%2C100050499412577%2C100050195461270%2C100046940623497%2C100044424714050%2C100042926113849%2C100041198595011%2C100040458740904%2C100036059708684%2C100035403637680%2C100035064375782%2C100033313132309%2C100032319793397%2C100030880151569%2C100028112855465%2C100028068361380&total_count=185&locale=en_US\n",
      "  warnings.warn(\n"
     ]
    },
    {
     "name": "stdout",
     "output_type": "stream",
     "text": [
      "-"
     ]
    },
    {
     "name": "stderr",
     "output_type": "stream",
     "text": [
      "C:\\Users\\paper\\Anaconda3\\envs\\scraper\\lib\\site-packages\\facebook_scraper\\facebook_scraper.py:813: UserWarning: Facebook served mbasic/noscript content unexpectedly on https://m.facebook.com/ufi/reaction/profile/browser/fetch/?ft_ent_identifier=10159290070804929&limit=50&shown_ids=547760044%2C546117416%2C538766421%2C535860808%2C529575736%2C523966149%2C514227279%2C505845388%2C132400077%2C64202473%2C64201136%2C64200762%2C39608444%2C1454443284%2C1447374183%2C1446391256%2C1436211622%2C1434834736%2C1428297693%2C1419652611%2C1418288270%2C1415922400%2C1415920365%2C1388741891%2C1380886366%2C1324532648%2C1321838102%2C1312394051%2C1293932582%2C1286353043%2C1247770377%2C1234931956%2C1212766893%2C1205416916%2C1187739732%2C1174615019%2C1160683809%2C1152000787%2C1151122618%2C1129830290%2C1118041255%2C1105358797%2C1096487183%2C1091769629%2C1081008622%2C1054087157%2C1045216660%2C1000148698%2C801838465%2C773022698%2C739647287%2C712736918%2C692194563%2C691437991%2C597585293%2C597500439%2C590937653%2C587644392%2C579960008%2C555545367%2C553410224%2C100001400984219%2C100001278643198%2C100001251373111%2C100001188785428%2C100001081406428%2C100000880369433%2C100000877262375%2C100000758510166%2C100000662470981%2C100000629156741%2C100000507701510%2C100000488832592%2C100000461558756%2C100000432560183%2C100000419347265%2C100000419113367%2C100000404688282%2C100000358887996%2C100000253748289%2C100000182634730%2C100000133524846%2C100000113071184%2C100000105708744%2C100000051780713%2C100000018285032%2C100000008378959%2C1833549591%2C1782900848%2C1761723346%2C1683576372%2C1653265461%2C1633711099%2C1627129829%2C1611762497%2C1610757008%2C1588623548%2C1579931704%2C1575721351%2C1553182396%2C1542983339%2C1539226215%2C1538850439%2C1528757917%2C1526626370%2C1512451696%2C1487491001%2C1475710583%2C1460780878%2C100068849211395%2C100068442565240%2C100063577532886%2C100052105234051%2C100049708907212%2C100045503616504%2C100045082426140%2C100040635675703%2C100035365040550%2C100026521458367%2C100023192507007%2C100021962821453%2C100016202196706%2C100015258965496%2C100013294151290%2C100009708825821%2C100009405093328%2C100009327471369%2C100008009291077%2C100007878367565%2C100007844705012%2C100007832852979%2C100007502565461%2C100006484977802%2C100006213847012%2C100006131312466%2C100006127455161%2C100005688180038%2C100005385930875%2C100005249384655%2C100005152236819%2C100004592044268%2C100004336662048%2C100004306115610%2C100004011377715%2C100003575503026%2C100003294200923%2C100003013385052%2C100002893957721%2C100002746552036%2C100002718845500%2C100002650621605%2C100002041549482%2C100001989201895%2C100001939568292%2C100001760432176%2C100001518423511%2C100001435521513&total_count=159&locale=en_US\n",
      "  warnings.warn(\n",
      "C:\\Users\\paper\\Anaconda3\\envs\\scraper\\lib\\site-packages\\facebook_scraper\\facebook_scraper.py:813: UserWarning: Facebook served mbasic/noscript content unexpectedly on https://m.facebook.com/ufi/reaction/profile/browser/fetch/?ft_ent_identifier=10159291803914929&limit=50&shown_ids=100007832852979%2C100006131312466%2C1419652611%2C1318898808%2C1129830290%2C569661996%2C64200762%2C9313737%2C4915560&total_count=10&locale=en_US\n",
      "  warnings.warn(\n"
     ]
    },
    {
     "name": "stdout",
     "output_type": "stream",
     "text": [
      "---"
     ]
    },
    {
     "name": "stderr",
     "output_type": "stream",
     "text": [
      "C:\\Users\\paper\\Anaconda3\\envs\\scraper\\lib\\site-packages\\facebook_scraper\\facebook_scraper.py:813: UserWarning: Facebook served mbasic/noscript content unexpectedly on https://m.facebook.com/ufi/reaction/profile/browser/fetch/?ft_ent_identifier=10159290134864929&limit=50&shown_ids=1000148698%2C838350351%2C831151165%2C826434924%2C805011977%2C801838465%2C778418432%2C751726157%2C749455412%2C749168480%2C709601563%2C703859551%2C696745215%2C676480083%2C645353964%2C608605808%2C605475933%2C590086423%2C587644392%2C567495057%2C563769801%2C560180671%2C544335770%2C541796943%2C538766421%2C535431420%2C513900426%2C182000093%2C64200762%2C64200640%2C44901466%2C100000286595181%2C100000206367865%2C100000175877007%2C100000159786694%2C100000133524846%2C100000116925622%2C100000089043414%2C100000051780713%2C100000022512564%2C100000008378959%2C1842864860%2C1735105397%2C1625435550%2C1618410678%2C1569905374%2C1567943767%2C1561844541%2C1558430664%2C1553182396%2C1542983339%2C1522221750%2C1509432071%2C1470753391%2C1457296643%2C1454443284%2C1452875742%2C1417189724%2C1415922400%2C1415920365%2C1393835499%2C1390604178%2C1380886366%2C1335450471%2C1324532648%2C1313315377%2C1312394051%2C1254330411%2C1238790912%2C1228787113%2C1220747792%2C1220214082%2C1163859161%2C1146120299%2C1105358797%2C1091769629%2C1066430572%2C1040438818%2C1030683107%2C1000850258%2C100065896401146%2C100052105234051%2C100045503616504%2C100042990151013%2C100040635675703%2C100037910910464%2C100023128215413%2C100021962821453%2C100021945157305%2C100014763274258%2C100011791534809%2C100010968707242%2C100010904624055%2C100009708825821%2C100009700267356%2C100009327471369%2C100008247523797%2C100006651004687%2C100006484977802%2C100006188891367%2C100006131312466%2C100006127455161%2C100005688180038%2C100005510234446%2C100005234227194%2C100004468052411%2C100004399742544%2C100004336662048%2C100003678862956%2C100003647242369%2C100003469156797%2C100003257620190%2C100003233407630%2C100003013385052%2C100002246516551%2C100001989201895%2C100001848944787%2C100001192284648%2C100001188785428%2C100001184481316%2C100001121808879%2C100001081406428%2C100000926157052%2C100000796350188%2C100000634663918%2C100000518654610%2C100000517990671%2C100000507701510%2C100000444622264&total_count=130&locale=en_US\n",
      "  warnings.warn(\n"
     ]
    },
    {
     "name": "stdout",
     "output_type": "stream",
     "text": [
      "----------------------------------------------\n",
      "post 700 collected at 11:03:01\n",
      "post datetime at 2021-08-17 15:30:27\n",
      "Getting posts 651 - 700 took 139.0 minutes and 49.44 seconds\n",
      "191 days scraped out of 725 days for alaska.dhss\n",
      "-------------------------------------------"
     ]
    }
   ],
   "source": [
    "post_list = []\n",
    "comments = [] ## Not used right now in my implementation, but will be used when 'comments' are set to True\n",
    "posts = scrape_posts(fb_group_list, 100000, cookies, {\"comments\": True, \"reactions\":True, \"allow_extra_requests\": True}, post_list, comments)"
   ]
  }
 ],
 "metadata": {
  "kernelspec": {
   "display_name": "Python 3 (ipykernel)",
   "language": "python",
   "name": "python3"
  },
  "language_info": {
   "codemirror_mode": {
    "name": "ipython",
    "version": 3
   },
   "file_extension": ".py",
   "mimetype": "text/x-python",
   "name": "python",
   "nbconvert_exporter": "python",
   "pygments_lexer": "ipython3",
   "version": "3.9.7"
  }
 },
 "nbformat": 4,
 "nbformat_minor": 5
}
