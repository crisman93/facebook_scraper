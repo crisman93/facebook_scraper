{
 "cells": [
  {
   "cell_type": "code",
   "execution_count": 1,
   "id": "6b341b80-fcf6-490d-b0c2-0ae9b1d55a14",
   "metadata": {},
   "outputs": [
    {
     "name": "stderr",
     "output_type": "stream",
     "text": [
      "/usr/lib/python3/dist-packages/requests/__init__.py:89: RequestsDependencyWarning: urllib3 (1.26.8) or chardet (3.0.4) doesn't match a supported version!\n",
      "  warnings.warn(\"urllib3 ({}) or chardet ({}) doesn't match a supported \"\n"
     ]
    }
   ],
   "source": [
    "from facebook_scraper import get_posts\n",
    "import json\n",
    "import pandas as pd"
   ]
  },
  {
   "cell_type": "code",
   "execution_count": 34,
   "id": "a9bf00f2-bb28-4e15-be11-0406311ac312",
   "metadata": {},
   "outputs": [],
   "source": [
    "def scrape_comments(fb_group_list, pages, cookies_file, options):\n",
    "    \"\"\"\n",
    "    Made this dataframe based on: https://github.com/kevinzg/facebook-scraper\n",
    "    \n",
    "    Args:\n",
    "        fb_group_list(str, list): a list of Facebook pages to scrape, must be public\n",
    "        pages(int): number of pages to collect\n",
    "        cookies_file(str): file location of cookies data\n",
    "        options(dict): dictionary of options for collection, dictionary options can be found in the link above\n",
    "        \n",
    "    Returns:\n",
    "        DataFrame: a DataFrame containing comments and associated information from posts scraped. Posts scraped are gathered from 'fb_group_list' posts that \n",
    "                   that contain words inputted in 'words_list'\n",
    "    \"\"\"\n",
    "    # If content in the 'comment_text' column is the commenters name it is most likely because they commented with just a picture and no text\n",
    "    post_list = []\n",
    "    df_comments = pd.DataFrame()\n",
    "    for fb_group in fb_group_list:\n",
    "        for post in get_posts(fb_group, pages = pages, cookies = cookies_file, options = options):\n",
    "            post['text'] = post['text'].split('\\n',1)[0]\n",
    "            comments_list = []\n",
    "            replies_list = []\n",
    "            \n",
    "            print(post['text']+'\\n')\n",
    "            post_list.append(post)\n",
    "            x = 0\n",
    "                \n",
    "            while x < len(post_list):\n",
    "            #print(post['text'])\n",
    "                comments_list = post_list[x]['comments_full']\n",
    "                x+=1\n",
    "\n",
    "                if comments_list != []:\n",
    "                    i = 0\n",
    "                    comment_text = comments_list[i]['comment_text']\n",
    "\n",
    "                    for comment in comment_text:\n",
    "                        while i < len(comments_list):\n",
    "                            comments_list[i]['comment_text'] = comments_list[i]['comment_text'].split('\\n',1)[0]\n",
    "                            replies_list = comments_list[i]['replies']\n",
    "                            i+=1\n",
    "\n",
    "                            if replies_list != []:\n",
    "                                z = 0\n",
    "\n",
    "                                while z < len(replies_list):\n",
    "                                    replies_list[z]['comment_text'] = replies_list[z]['comment_text'].split('\\n',1)[0]\n",
    "                                    z+=1\n",
    "            df_comments = df_comments.append(comments_list)\n",
    "    return df_comments"
   ]
  },
  {
   "cell_type": "code",
   "execution_count": 35,
   "id": "264c94a5-c084-4dd4-93f4-a3a519c95d74",
   "metadata": {},
   "outputs": [],
   "source": [
    "# Initialize function parameters \n",
    "fb_group_list = ['AlaskasNewsSource', 'alaska.dhss', 'ancpublichealth', 'FairbanksMemorialHospital','voiceofcph', 'MatSuRegionalMedicalCenter',\n",
    "               'AlaskasNewsSource', 'alaskapublic', 'juneauempire', 'fairbanksDNM', 'frontiersman',\n",
    "               'NomeNuggetNews', 'HomerNews', 'sitkasentinel', 'ktvf.fairbanks', 'peninsulaclarion', 'KSRM920AM', 'KYUK', 'AnchorageSchoolDistrict',\n",
    "               'fsdk12', 'kpbsd', 'akmatsuk12', 'BethelSD', 'cbjuneau', 'MatSuBorough', 'COBarrow']\n",
    "# Still need to get these FB pages: KRBD FM Rainbird Community Radio, Fairbanks Borough, Kenai Peninsula Borough\n",
    "cookies = ('facebook.com_cookies.txt')\n",
    "words_list = ['Covid', 'covid', 'COVID', 'Coronavirus', 'coronavirus', 'Vaccine', 'vaccine', 'Vaccination', 'vaccination', 'Omicron', 'omicron',\n",
    "             'vaccination', 'vaccinations', 'vaccines', 'shot', 'experimental', 'mask', 'masks', \n",
    "           'scamdemic', 'sterilization', 'mrna', 'fauci', 'experimental', 'flu', 'immune', \n",
    "           'ivermectin', 'symptoms', 'vax', 'mandate', 'reactions', 'asymptomatic', 'toxin',\n",
    "           'remdesivir', 'contracting', 'inject', 'pandemic', 'pandemics', 'pfizer', 'moderna', 'contagious', \n",
    "           'complications', 'strains', 'virologist', 'masking', 'compromised', 'distancing',\n",
    "           'hydroxychloroquine', 'infected', 'infections', 'infection', 'rna', 'omicron', 'delta', 'misinformation',\n",
    "           'pharmaceutical', 'mongering', 'pharma', 'viruses', 'agenda', 'antibodies', 'guniea', 'propaganda', \n",
    "           'disease', 'poison', 'symptoms', 'effective', 'jab', 'research', 'natural']"
   ]
  },
  {
   "cell_type": "code",
   "execution_count": 36,
   "id": "e5dd0da9-2697-48f2-ba96-6e83e24d9470",
   "metadata": {},
   "outputs": [
    {
     "name": "stdout",
     "output_type": "stream",
     "text": [
      "All after-school activities Tuesday in the Anchorage School District have been canceled due to icy road conditions.\n",
      "\n",
      "As far-right movements fueled by conspiracy theories, misogyny and anti-vaccine proponents continue to grow and evolve into different groups, the number of associated killings are also climbing, according to a new report.\n",
      "\n",
      "A man was taken into custody after allegedly stabbing a woman at Loussac Library.\n",
      "\n",
      "The police chief of Ottawa, Canada, has resigned amid criticism of his inaction against the trucker protests that have paralyzed Canada’s capital for over two weeks.\n",
      "\n",
      "Former Gov. Sarah Palin lost her libel lawsuit against the New York Times when the jury rejected her case on an erroneous claim by the newspaper linking her campaign rhetoric to a mass shooting.\n",
      "\n",
      "It's been about a month since truck drivers in Canada began protesting COVID-19 vaccine mandates that kept them from crossing the U.S.-Canada border. Now, trucking companies in Alaska are feeling the burn.\n",
      "\n",
      "Russia president Vladimir Putin says he doesn't want war, signaling a possible new impetus for diplomatic efforts to ease the worst East-West tensions in decades, which have put Europe on edge and rattled global markets.\n",
      "\n",
      "Make sure the snow blowers are gassed up and have shovels at the ready. Anchorage and Southcentral is looking at another round of wintry weather.\n",
      "\n",
      "The families of victims of the 2012 Sandy Hook Elementary School shooting have agreed to a $73 million settlement with the maker of the rifle used in the shooting, saying the company should have never sold such a dangerous weapon to the public.\n",
      "\n",
      "With 6 million returns yet to be completed by people who filed on 2020 taxes, the IRS is asking Americans to file their taxes digitally this year if possible.\n",
      "\n"
     ]
    }
   ],
   "source": [
    "comments = scrape_comments(fb_group_list, 50, cookies, {\"comments\": True, \"allow_extra_requests\": True, 'posts_per_page': 1})"
   ]
  },
  {
   "cell_type": "code",
   "execution_count": 42,
   "id": "fba4ae54-f57b-48a3-811a-8a9880d39196",
   "metadata": {},
   "outputs": [],
   "source": [
    "comments_filtered = comments[comments['comment_text'].str.contains('|'.join(words_list))]"
   ]
  },
  {
   "cell_type": "code",
   "execution_count": null,
   "id": "1eee5912-b46e-4159-8a8e-d6e4d92bb1c6",
   "metadata": {},
   "outputs": [],
   "source": [
    "comments_filtered.to_csv('comments.csv')"
   ]
  },
  {
   "cell_type": "markdown",
   "id": "9fe3cf09-ce2f-4910-a0c5-adc852aaaba6",
   "metadata": {},
   "source": [
    "# Scrape Posts"
   ]
  },
  {
   "cell_type": "code",
   "execution_count": null,
   "id": "fb8fdbc4-1c81-458e-b577-f9fbf3557753",
   "metadata": {},
   "outputs": [],
   "source": [
    "# Only collects posts\n",
    "def scrape_posts(fb_group_list, pages, cookies_file, options):\n",
    "    post_list = []\n",
    "    df_posts = pd.DataFrame()\n",
    "    for fb_group in fb_group_list:\n",
    "        for post in get_posts(fb_group, pages = pages, cookies = cookies_file, options = options):\n",
    "            post['text'] = post['text'].split('\\n',1)[0]\n",
    "            post_list.append(post)\n",
    "        df_posts = df_posts.append(post_list)\n",
    "    return df_posts"
   ]
  },
  {
   "cell_type": "code",
   "execution_count": null,
   "id": "8fc957f8-b978-47e0-9bed-1d7ee0bbbc76",
   "metadata": {},
   "outputs": [],
   "source": [
    "# Initialize function parameters \n",
    "fb_group_list = ['']\n",
    "cookies = ('')"
   ]
  },
  {
   "cell_type": "code",
   "execution_count": null,
   "id": "7ea3c04c-d883-4354-a2f4-5791c9bce1e0",
   "metadata": {},
   "outputs": [],
   "source": [
    "posts = scrape_posts(fb_group_list, 100000000, cookies, {\"comments\": True, \"allow_extra_requests\": True})"
   ]
  },
  {
   "cell_type": "code",
   "execution_count": null,
   "id": "85af474e-3e67-4347-a65b-b2e683763a35",
   "metadata": {},
   "outputs": [],
   "source": [
    "posts.to_csv('')"
   ]
  }
 ],
 "metadata": {
  "kernelspec": {
   "display_name": "Python 3 (ipykernel)",
   "language": "python",
   "name": "python3"
  },
  "language_info": {
   "codemirror_mode": {
    "name": "ipython",
    "version": 3
   },
   "file_extension": ".py",
   "mimetype": "text/x-python",
   "name": "python",
   "nbconvert_exporter": "python",
   "pygments_lexer": "ipython3",
   "version": "3.8.10"
  }
 },
 "nbformat": 4,
 "nbformat_minor": 5
}
